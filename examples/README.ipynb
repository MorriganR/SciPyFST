{
 "cells": [
  {
   "cell_type": "markdown",
   "metadata": {},
   "source": [
    "### List of examples (nbviewer)\n",
    "\n",
    "- [example_01.ipynb](https://nbviewer.jupyter.org/github/MorriganR/SciPyFST/blob/main/examples/example_01.ipynb \"example_01\")\n",
    "- [example_02_Play_FST.ipynb](https://nbviewer.jupyter.org/github/MorriganR/SciPyFST/blob/main/examples/example_02_Play_FST.ipynb \"example_02_Play_FST\")\n",
    "- [example_03_Wavedrom.ipynb](https://nbviewer.jupyter.org/github/MorriganR/SciPyFST/blob/main/examples/example_03_Wavedrom.ipynb \"example_03_Wavedrom\")\n",
    "- [example_04_Add_State_Transition_etc.ipynb](https://nbviewer.jupyter.org/github/MorriganR/SciPyFST/blob/main/examples/example_04_Add_State_Transition_etc.ipynb \"example_04_Add_State_Transition_etc\")\n",
    "- [example_05_asMoore.ipynb](https://nbviewer.jupyter.org/github/MorriganR/SciPyFST/blob/main/examples/example_05_asMoore.ipynb \"example_05_asMoore\")\n",
    "- [example_08_testFST.ipynb](https://nbviewer.jupyter.org/github/MorriganR/SciPyFST/blob/main/examples/example_08_testFST.ipynb \"example_08_testFST\")\n",
    "- [example_09_getTestSignal.ipynb](https://nbviewer.jupyter.org/github/MorriganR/SciPyFST/blob/main/examples/example_09_getTestSignal.ipynb \"example_09_getTestSignal\")\n",
    "- [example_10_ComparisonMatrix.ipynb](https://nbviewer.jupyter.org/github/MorriganR/SciPyFST/blob/main/examples/example_10_ComparisonMatrix.ipynb \"example_10_ComparisonMatrix\")\n",
    "\n",
    "### List of examples (Google Colab)\n",
    "\n",
    "- [example_06_forColab.ipynb](https://colab.research.google.com/github/MorriganR/SciPyFST/blob/main/examples/example_06_forColab.ipynb \"example_06_forColab\")\n",
    "- [example_07_forColab.ipynb](https://colab.research.google.com/github/MorriganR/SciPyFST/blob/main/examples/example_07_forColab.ipynb \"example_07_forColab\")\n"
   ]
  }
 ],
 "metadata": {
  "language_info": {
   "name": "python"
  },
  "orig_nbformat": 4
 },
 "nbformat": 4,
 "nbformat_minor": 2
}
