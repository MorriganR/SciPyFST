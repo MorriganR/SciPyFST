{
 "cells": [
  {
   "cell_type": "code",
   "execution_count": 1,
   "source": [
    "import os, sys\r\n",
    "from pathlib import Path\r\n",
    "PARENT_DIR = Path(os.getcwd()).resolve().parent\r\n",
    "sys.path += [str(PARENT_DIR.joinpath('SciPyFST'))]\r\n",
    "from SciPyFST import SciPyFST as FST\r\n"
   ],
   "outputs": [],
   "metadata": {}
  },
  {
   "cell_type": "code",
   "execution_count": 2,
   "source": [
    "states = [0,1,2]\r\n",
    "initState = 0\r\n",
    "inAlphabet = [0,1]\r\n",
    "outAlphabet = [0,1,2]\r\n",
    "# transitionFunction [ [State, inAlphabet, nextState], ...]\r\n",
    "transitionFunction = [ [0,0,1], [1,0,1], [1,1,2] ]\r\n",
    "\r\n",
    "# outputFunction Moore [ [State, outAlphabet], ...]\r\n",
    "outputFunctionMoore = [ [0,0], [1,0], [2,2]]\r\n",
    "# outputFunction Mealy [ [State, inAlphabet, outAlphabet], ...]\r\n",
    "outputFunctionMealy = [ [0,1,0], [1,1,0], [2,2,2]]\r\n"
   ],
   "outputs": [],
   "metadata": {}
  },
  {
   "cell_type": "code",
   "execution_count": 4,
   "source": [
    "fstMoore = FST(states, initState, inAlphabet, outAlphabet, transitionFunction, outputFunctionMoore)\r\n",
    "print(fstMoore.toDot())\r\n"
   ],
   "outputs": [
    {
     "output_type": "stream",
     "name": "stdout",
     "text": [
      "digraph fst {\n",
      "\trankdir=LR;\n",
      "\tnode [shape = point ]; none\n",
      "\tnode [shape = doublecircle]; q0;\n",
      "\tnone -> q0;\n",
      "\tnode [shape = circle]; q0 q1 q2;\n",
      "\tnode [style=filled, fillcolor=red];\n",
      "\tq0 -> q1 [ label = 0 ];\n",
      "\tq1 -> q1 [ label = 0 ];\n",
      "\tq1 -> q2 [ label = 1 ];\n",
      "}\n"
     ]
    }
   ],
   "metadata": {}
  },
  {
   "cell_type": "code",
   "execution_count": 7,
   "source": [
    "fstMealy = FST(states, initState, inAlphabet, outAlphabet, transitionFunction, outputFunctionMealy)\r\n",
    "print(fstMealy.toDot())"
   ],
   "outputs": [
    {
     "output_type": "stream",
     "name": "stdout",
     "text": [
      "digraph fst {\n",
      "\trankdir=LR;\n",
      "\tnode [shape = point ]; none\n",
      "\tnode [shape = doublecircle]; q0;\n",
      "\tnone -> q0;\n",
      "\tnode [shape = circle]; q0 q1 q2;\n",
      "\tnode [style=filled, fillcolor=red];\n",
      "\tq0 -> q1 [ label = 0 ];\n",
      "\tq1 -> q1 [ label = 0 ];\n",
      "\tq1 -> q2 [ label = 1 ];\n",
      "}\n"
     ]
    }
   ],
   "metadata": {}
  }
 ],
 "metadata": {
  "orig_nbformat": 4,
  "language_info": {
   "name": "python",
   "version": "3.9.4",
   "mimetype": "text/x-python",
   "codemirror_mode": {
    "name": "ipython",
    "version": 3
   },
   "pygments_lexer": "ipython3",
   "nbconvert_exporter": "python",
   "file_extension": ".py"
  },
  "kernelspec": {
   "name": "python3",
   "display_name": "Python 3.9.4 64-bit ('venvdev')"
  },
  "interpreter": {
   "hash": "9d918e7ae3c5315337b02f7b331cb5d3f13a496b9f8ee7e2a16d56f51023da3d"
  }
 },
 "nbformat": 4,
 "nbformat_minor": 2
}