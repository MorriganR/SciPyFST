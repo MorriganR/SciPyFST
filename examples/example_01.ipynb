{
 "cells": [
  {
   "cell_type": "code",
   "execution_count": 22,
   "source": [
    "import numpy as np\r\n",
    "# np.random.seed(0)  # seed for reproducibility\r\n",
    "\r\n",
    "x1 = np.random.randint(10, size=6)  # One-dimensional array\r\n",
    "x2 = np.random.randint(10, size=(3, 4))  # Two-dimensional array\r\n",
    "x3 = np.random.randint(10, size=(3, 4, 5))  # Three-dimensional array"
   ],
   "outputs": [],
   "metadata": {}
  },
  {
   "cell_type": "code",
   "execution_count": 23,
   "source": [
    "print(\"x3 ndim: \", x3.ndim)\r\n",
    "print(\"x3 shape:\", x3.shape)\r\n",
    "print(\"x3 size: \", x3.size)"
   ],
   "outputs": [
    {
     "output_type": "stream",
     "name": "stdout",
     "text": [
      "x3 ndim:  3\n",
      "x3 shape: (3, 4, 5)\n",
      "x3 size:  60\n"
     ]
    }
   ],
   "metadata": {}
  },
  {
   "cell_type": "code",
   "execution_count": 24,
   "source": [
    "print(\"x3: \", x3)"
   ],
   "outputs": [
    {
     "output_type": "stream",
     "name": "stdout",
     "text": [
      "x3:  [[[3 9 7 6 6]\n",
      "  [2 3 6 0 8]\n",
      "  [0 7 6 5 9]\n",
      "  [6 5 2 7 1]]\n",
      "\n",
      " [[9 2 2 5 6]\n",
      "  [4 2 2 1 0]\n",
      "  [9 0 2 8 3]\n",
      "  [0 8 8 1 0]]\n",
      "\n",
      " [[5 8 2 3 5]\n",
      "  [3 8 6 4 6]\n",
      "  [3 6 2 6 5]\n",
      "  [5 9 4 6 5]]]\n"
     ]
    }
   ],
   "metadata": {}
  }
 ],
 "metadata": {
  "orig_nbformat": 4,
  "language_info": {
   "name": "python",
   "version": "3.9.4",
   "mimetype": "text/x-python",
   "codemirror_mode": {
    "name": "ipython",
    "version": 3
   },
   "pygments_lexer": "ipython3",
   "nbconvert_exporter": "python",
   "file_extension": ".py"
  },
  "kernelspec": {
   "name": "python3",
   "display_name": "Python 3.9.4 64-bit ('venvdev')"
  },
  "interpreter": {
   "hash": "9d918e7ae3c5315337b02f7b331cb5d3f13a496b9f8ee7e2a16d56f51023da3d"
  }
 },
 "nbformat": 4,
 "nbformat_minor": 2
}