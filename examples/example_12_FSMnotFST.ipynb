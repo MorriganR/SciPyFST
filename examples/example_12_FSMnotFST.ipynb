{
 "cells": [
  {
   "cell_type": "code",
   "execution_count": 1,
   "metadata": {},
   "outputs": [],
   "source": [
    "import os, sys, time\n",
    "from pathlib import Path\n",
    "PARENT_DIR = Path(os.getcwd()).resolve().parent\n",
    "sys.path += [str(PARENT_DIR.joinpath('SciPyFST'))]\n",
    "from SciPyFST import SciPyFST as FST\n",
    "from examples_data.MealyFST import mealyFSTmap as mealyFSTmap\n",
    "import graphviz, wavedrom\n",
    "from IPython.display import display, Markdown"
   ]
  },
  {
   "cell_type": "markdown",
   "metadata": {},
   "source": [
    "isContains"
   ]
  },
  {
   "cell_type": "code",
   "execution_count": 2,
   "metadata": {},
   "outputs": [
    {
     "name": "stdout",
     "output_type": "stream",
     "text": [
      "To be continued ...\n"
     ]
    }
   ],
   "source": [
    "print( \"To be continued ...\" )"
   ]
  }
 ],
 "metadata": {
  "interpreter": {
   "hash": "9d918e7ae3c5315337b02f7b331cb5d3f13a496b9f8ee7e2a16d56f51023da3d"
  },
  "kernelspec": {
   "display_name": "Python 3.9.4 64-bit ('venvdev': venv)",
   "name": "python3"
  },
  "language_info": {
   "codemirror_mode": {
    "name": "ipython",
    "version": 3
   },
   "file_extension": ".py",
   "mimetype": "text/x-python",
   "name": "python",
   "nbconvert_exporter": "python",
   "pygments_lexer": "ipython3",
   "version": "3.9.2"
  },
  "orig_nbformat": 4
 },
 "nbformat": 4,
 "nbformat_minor": 2
}
