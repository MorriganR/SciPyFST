{
  "nbformat": 4,
  "nbformat_minor": 0,
  "metadata": {
    "colab": {
      "name": "example_06_forColab.ipynb",
      "private_outputs": true,
      "provenance": [],
      "collapsed_sections": [],
      "history_visible": true
    },
    "kernelspec": {
      "name": "python3",
      "display_name": "Python 3"
    },
    "language_info": {
      "name": "python"
    }
  },
  "cells": [
    {
      "cell_type": "markdown",
      "metadata": {
        "id": "Pkf8mmTlnL_9"
      },
      "source": [
        "### Get source from GitHub :)"
      ]
    },
    {
      "cell_type": "code",
      "metadata": {
        "id": "pVp6bl_6y-IP"
      },
      "source": [
        "#@title Hidden? {display-mode: \"form\"}\n",
        "!ls -la SciPyFST &> /dev/null || git clone https://github.com/MorriganR/SciPyFST.git &> /dev/null\n",
        "!pip install -r SciPyFST/requirements.txt  > /dev/null"
      ],
      "execution_count": null,
      "outputs": []
    },
    {
      "cell_type": "code",
      "metadata": {
        "id": "vpp-1X4tlfAd"
      },
      "source": [
        "#@title Test Title {display-mode: \"form\"}\n",
        "variable_name = \"hgjhg\" #@param {type:\"string\"}\n",
        "import os, sys\n",
        "from pathlib import Path\n",
        "PARENT_DIR = Path(os.getcwd()).resolve()\n",
        "sys.path += [str(PARENT_DIR.joinpath('SciPyFST').joinpath('SciPyFST'))]\n",
        "from SciPyFST import SciPyFST as FST\n",
        "import graphviz, wavedrom\n",
        "from IPython.display import display, Markdown"
      ],
      "execution_count": null,
      "outputs": []
    },
    {
      "cell_type": "markdown",
      "metadata": {
        "id": "Kca7wDHhnRL-"
      },
      "source": [
        "# Play with FST"
      ]
    },
    {
      "cell_type": "code",
      "metadata": {
        "id": "D-3tktTfmYaq"
      },
      "source": [
        "# snail with an Mealy FSM brain\n",
        "initStateMealy = 'S0'\n",
        "# transitionFunction [ [State, inAlphabet, nextState], ...]\n",
        "transitionFunctionMealy = [ ['S0',0,'S1'], ['S0',1,'S0'], ['S1',0,'S1'], ['S1',1,'S0'] ]\n",
        "# outputFunction Mealy [ [State, inAlphabet, outAlphabet], ...]\n",
        "outputFunctionMealy = [ ['S0',0,0], ['S0',1,0], ['S1',0,0], ['S1',1,1]]\n",
        "# short form\n",
        "brainMealy = FST([], initStateMealy, [], [], transitionFunctionMealy, outputFunctionMealy)\n",
        "# Visualise FST\n",
        "display(Markdown(brainMealy.toMdTable()))\n",
        "graphviz.Source(brainMealy.toDot())"
      ],
      "execution_count": null,
      "outputs": []
    }
  ]
}