{
 "cells": [
  {
   "cell_type": "code",
   "execution_count": 1,
   "metadata": {},
   "outputs": [],
   "source": [
    "import os, sys, time\n",
    "from pathlib import Path\n",
    "PARENT_DIR = Path(os.getcwd()).resolve().parent\n",
    "sys.path += [str(PARENT_DIR.joinpath('SciPyFST'))]\n",
    "from SciPyFST import SciPyFST as FST\n",
    "from examples_data.MealyFST import mealyFSTmap as mealyFSTmap\n",
    "import graphviz, wavedrom\n",
    "from IPython.display import display, Markdown"
   ]
  },
  {
   "cell_type": "markdown",
   "metadata": {},
   "source": [
    "Comparison matrix"
   ]
  },
  {
   "cell_type": "code",
   "execution_count": 2,
   "metadata": {},
   "outputs": [
    {
     "name": "stdout",
     "output_type": "stream",
     "text": [
      "elapsed time = 44.47341823577881 s\n"
     ]
    },
    {
     "data": {
      "text/markdown": [
       "| FST\\FST | 01_My | 01_Mr | 02_My | 02_Mr | 03_My | 03_Mr | 04_My | 04_Mr | 05_My | 05_Mr | 06_My | 06_Mr | 07_My | 07_Mr | 08_My | 08_Mr | 09_My | 09_Mr | 10_My | 10_Mr |\n",
       "|:--------------:|:---:|:---:|:---:|:---:|:---:|:---:|:---:|:---:|:---:|:---:|:---:|:---:|:---:|:---:|:---:|:---:|:---:|:---:|:---:|:---:|\n",
       "| 01_My | True | True | - | - | - | - | - | - | - | - | - | - | - | - | - | - | - | - | - | - |\n",
       "| 01_Mr | True | True | - | - | - | - | - | - | - | - | - | - | - | - | - | - | - | - | - | - |\n",
       "| 02_My | - | - | True | True | - | - | - | - | - | - | - | - | - | - | - | - | - | - | - | - |\n",
       "| 02_Mr | - | - | True | True | - | - | - | - | - | - | - | - | - | - | - | - | - | - | - | - |\n",
       "| 03_My | - | - | - | - | True | True | - | - | - | - | - | - | - | - | - | - | - | - | - | - |\n",
       "| 03_Mr | - | - | - | - | True | True | - | - | - | - | - | - | - | - | - | - | - | - | - | - |\n",
       "| 04_My | - | - | - | - | - | - | True | True | - | - | - | - | - | - | - | - | - | - | - | - |\n",
       "| 04_Mr | - | - | - | - | - | - | True | True | - | - | - | - | - | - | - | - | - | - | - | - |\n",
       "| 05_My | - | - | - | - | - | - | - | - | True | True | - | - | - | - | - | - | - | - | - | - |\n",
       "| 05_Mr | - | - | - | - | - | - | - | - | True | True | - | - | - | - | - | - | - | - | - | - |\n",
       "| 06_My | - | - | - | - | - | - | - | - | - | - | True | True | - | - | - | - | - | - | - | - |\n",
       "| 06_Mr | - | - | - | - | - | - | - | - | - | - | True | True | - | - | - | - | - | - | - | - |\n",
       "| 07_My | - | - | - | - | - | - | - | - | - | - | - | - | True | True | - | - | - | - | - | - |\n",
       "| 07_Mr | - | - | - | - | - | - | - | - | - | - | - | - | True | True | - | - | - | - | - | - |\n",
       "| 08_My | - | - | - | - | - | - | - | - | - | - | - | - | - | - | True | True | - | - | - | - |\n",
       "| 08_Mr | - | - | - | - | - | - | - | - | - | - | - | - | - | - | True | True | - | - | - | - |\n",
       "| 09_My | - | - | - | - | - | - | - | - | - | - | - | - | - | - | - | - | True | True | - | - |\n",
       "| 09_Mr | - | - | - | - | - | - | - | - | - | - | - | - | - | - | - | - | True | True | - | - |\n",
       "| 10_My | - | - | - | - | - | - | - | - | - | - | - | - | - | - | - | - | - | - | True | True |\n",
       "| 10_Mr | - | - | - | - | - | - | - | - | - | - | - | - | - | - | - | - | - | - | True | True |\n"
      ],
      "text/plain": [
       "<IPython.core.display.Markdown object>"
      ]
     },
     "metadata": {},
     "output_type": "display_data"
    }
   ],
   "source": [
    "tableHeader = '| FST\\\\FST |'\n",
    "tableHeade2 = '|:--------------:|'\n",
    "table = ''\n",
    "nameList = list(mealyFSTmap.keys())\n",
    "for fst_name_r in nameList:\n",
    "    tableHeader += ' {name} |'.format(name = fst_name_r[4:] + '_My')\n",
    "    tableHeader += ' {name} |'.format(name = fst_name_r[4:] + '_Mr')\n",
    "    tableHeade2 += ':---:|:---:|'\n",
    "t = time.time()\n",
    "for fst_name_r in nameList:\n",
    "    init_r = mealyFSTmap[fst_name_r]\n",
    "    tableRowMealy = '| {name} |'.format(name = fst_name_r[4:] + '_My')\n",
    "    tableRowMoore = '| {name} |'.format(name = fst_name_r[4:] + '_Mr')\n",
    "    fstMaely_r = FST(init_r[0], init_r[1], init_r[2], init_r[3], init_r[4], init_r[5])\n",
    "    fstMoore_r = fstMaely_r.asMoore()\n",
    "    for fst_name_c in nameList:\n",
    "        init_c = mealyFSTmap[fst_name_c]\n",
    "        fstMaely_c = FST(init_c[0], init_c[1], init_c[2], init_c[3], init_c[4], init_c[5])\n",
    "        fstMoore_c = fstMaely_c.asMoore()\n",
    "        tableRowMealy += ' {val} |'.format(val = 'True' if fstMaely_r.isSimilar(fstMaely_c) else '-')\n",
    "        tableRowMealy += ' {val} |'.format(val = 'True' if fstMaely_r.isSimilar(fstMoore_c) else '-')\n",
    "        tableRowMoore += ' {val} |'.format(val = 'True' if fstMoore_r.isSimilar(fstMaely_c) else '-')\n",
    "        tableRowMoore += ' {val} |'.format(val = 'True' if fstMoore_r.isSimilar(fstMoore_c) else '-')\n",
    "    table += (tableRowMealy + '\\n')\n",
    "    table += (tableRowMoore + '\\n')\n",
    "elapsed = time.time() - t\n",
    "print('elapsed time = {} s'.format(elapsed))\n",
    "display(Markdown(tableHeader + '\\n' + tableHeade2 + '\\n' + table))"
   ]
  },
  {
   "cell_type": "markdown",
   "metadata": {},
   "source": [
    "Test #06"
   ]
  },
  {
   "cell_type": "code",
   "execution_count": 3,
   "metadata": {},
   "outputs": [
    {
     "data": {
      "text/markdown": [
       "| Input \\ State | a1 | a2 | a3 | a4 |\n",
       "|:---:|:---:|:---:|:---:|:---:|\n",
       "| z1 | a2/w1 | a3/w3 | a4/w3 | -/- |\n",
       "| z2 | a3/w2 | -/- | a2/w1 | a2/w2 |\n"
      ],
      "text/plain": [
       "<IPython.core.display.Markdown object>"
      ]
     },
     "metadata": {},
     "output_type": "display_data"
    },
    {
     "data": {
      "image/svg+xml": "<?xml version=\"1.0\" encoding=\"UTF-8\" standalone=\"no\"?>\r\n<!DOCTYPE svg PUBLIC \"-//W3C//DTD SVG 1.1//EN\"\r\n \"http://www.w3.org/Graphics/SVG/1.1/DTD/svg11.dtd\">\r\n<!-- Generated by graphviz version 2.49.0 (20210828.1703)\r\n -->\r\n<!-- Title: fst Pages: 1 -->\r\n<svg width=\"527pt\" height=\"152pt\"\r\n viewBox=\"0.00 0.00 527.39 152.00\" xmlns=\"http://www.w3.org/2000/svg\" xmlns:xlink=\"http://www.w3.org/1999/xlink\">\r\n<g id=\"graph0\" class=\"graph\" transform=\"scale(1 1) rotate(0) translate(4 148)\">\r\n<title>fst</title>\r\n<polygon fill=\"white\" stroke=\"transparent\" points=\"-4,4 -4,-148 523.39,-148 523.39,4 -4,4\"/>\r\n<!-- start -->\r\n<g id=\"node1\" class=\"node\">\r\n<title>start</title>\r\n<ellipse fill=\"black\" stroke=\"black\" cx=\"1.8\" cy=\"-115\" rx=\"1.8\" ry=\"1.8\"/>\r\n</g>\r\n<!-- a1 -->\r\n<g id=\"node2\" class=\"node\">\r\n<title>a1</title>\r\n<ellipse fill=\"none\" stroke=\"black\" cx=\"83.45\" cy=\"-115\" rx=\"18.7\" ry=\"18.7\"/>\r\n<text text-anchor=\"middle\" x=\"83.45\" y=\"-111.3\" font-family=\"Times New Roman,serif\" font-size=\"14.00\">a1</text>\r\n</g>\r\n<!-- start&#45;&gt;a1 -->\r\n<g id=\"edge1\" class=\"edge\">\r\n<title>start&#45;&gt;a1</title>\r\n<path fill=\"none\" stroke=\"black\" d=\"M3.69,-115C8.7,-115 33.76,-115 54.28,-115\"/>\r\n<polygon fill=\"black\" stroke=\"black\" points=\"54.47,-118.5 64.47,-115 54.47,-111.5 54.47,-118.5\"/>\r\n<text text-anchor=\"middle\" x=\"34.1\" y=\"-118.8\" font-family=\"Times New Roman,serif\" font-size=\"14.00\">start</text>\r\n</g>\r\n<!-- a2 -->\r\n<g id=\"node3\" class=\"node\">\r\n<title>a2</title>\r\n<ellipse fill=\"none\" stroke=\"black\" cx=\"191.14\" cy=\"-81\" rx=\"18.7\" ry=\"18.7\"/>\r\n<text text-anchor=\"middle\" x=\"191.14\" y=\"-77.3\" font-family=\"Times New Roman,serif\" font-size=\"14.00\">a2</text>\r\n</g>\r\n<!-- a1&#45;&gt;a2 -->\r\n<g id=\"edge2\" class=\"edge\">\r\n<title>a1&#45;&gt;a2</title>\r\n<path fill=\"none\" stroke=\"black\" d=\"M101.9,-109.39C118.6,-104.01 144.03,-95.83 163.3,-89.63\"/>\r\n<polygon fill=\"black\" stroke=\"black\" points=\"164.57,-92.9 173.02,-86.51 162.42,-86.24 164.57,-92.9\"/>\r\n<text text-anchor=\"middle\" x=\"137.3\" y=\"-106.8\" font-family=\"Times New Roman,serif\" font-size=\"14.00\">z1/w1</text>\r\n</g>\r\n<!-- a3 -->\r\n<g id=\"node4\" class=\"node\">\r\n<title>a3</title>\r\n<ellipse fill=\"none\" stroke=\"black\" cx=\"298.84\" cy=\"-110\" rx=\"18.7\" ry=\"18.7\"/>\r\n<text text-anchor=\"middle\" x=\"298.84\" y=\"-106.3\" font-family=\"Times New Roman,serif\" font-size=\"14.00\">a3</text>\r\n</g>\r\n<!-- a1&#45;&gt;a3 -->\r\n<g id=\"edge3\" class=\"edge\">\r\n<title>a1&#45;&gt;a3</title>\r\n<path fill=\"none\" stroke=\"black\" d=\"M101.86,-119.07C107.68,-120.25 114.24,-121.39 120.3,-122 182.95,-128.35 199.97,-133.9 261.99,-123 265.25,-122.43 268.61,-121.58 271.89,-120.59\"/>\r\n<polygon fill=\"black\" stroke=\"black\" points=\"273.08,-123.89 281.39,-117.32 270.8,-117.27 273.08,-123.89\"/>\r\n<text text-anchor=\"middle\" x=\"191.14\" y=\"-132.8\" font-family=\"Times New Roman,serif\" font-size=\"14.00\">z2/w2</text>\r\n</g>\r\n<!-- a2&#45;&gt;a3 -->\r\n<g id=\"edge4\" class=\"edge\">\r\n<title>a2&#45;&gt;a3</title>\r\n<path fill=\"none\" stroke=\"black\" d=\"M209.91,-78.2C224.36,-76.63 245.06,-76.04 261.99,-82 267.39,-83.9 272.61,-86.97 277.31,-90.4\"/>\r\n<polygon fill=\"black\" stroke=\"black\" points=\"275.19,-93.18 285.16,-96.77 279.6,-87.75 275.19,-93.18\"/>\r\n<text text-anchor=\"middle\" x=\"244.99\" y=\"-85.8\" font-family=\"Times New Roman,serif\" font-size=\"14.00\">z1/w3</text>\r\n</g>\r\n<!-- &#45; -->\r\n<g id=\"node6\" class=\"node\">\r\n<title>&#45;</title>\r\n<ellipse fill=\"hotpink\" stroke=\"black\" cx=\"501.39\" cy=\"-18\" rx=\"18\" ry=\"18\"/>\r\n<text text-anchor=\"middle\" x=\"501.39\" y=\"-14.3\" font-family=\"Times New Roman,serif\" font-size=\"14.00\">&#45;</text>\r\n</g>\r\n<!-- a2&#45;&gt;&#45; -->\r\n<g id=\"edge5\" class=\"edge\">\r\n<title>a2&#45;&gt;&#45;</title>\r\n<path fill=\"none\" stroke=\"black\" d=\"M207.91,-72.26C214.05,-69.07 221.24,-65.61 227.99,-63 296.46,-36.56 314.89,-30.27 387.69,-21 416.69,-17.31 450.21,-16.9 473.1,-17.2\"/>\r\n<polygon fill=\"black\" stroke=\"black\" points=\"473.06,-20.7 483.12,-17.39 473.19,-13.71 473.06,-20.7\"/>\r\n<text text-anchor=\"middle\" x=\"352.69\" y=\"-32.8\" font-family=\"Times New Roman,serif\" font-size=\"14.00\">z2/&#45;</text>\r\n</g>\r\n<!-- a3&#45;&gt;a2 -->\r\n<g id=\"edge7\" class=\"edge\">\r\n<title>a3&#45;&gt;a2</title>\r\n<path fill=\"none\" stroke=\"black\" d=\"M280.05,-107.87C265.77,-105.88 245.31,-102.39 227.99,-97 224.57,-95.93 221.04,-94.63 217.59,-93.23\"/>\r\n<polygon fill=\"black\" stroke=\"black\" points=\"218.82,-89.95 208.25,-89.16 216.02,-96.36 218.82,-89.95\"/>\r\n<text text-anchor=\"middle\" x=\"244.99\" y=\"-107.8\" font-family=\"Times New Roman,serif\" font-size=\"14.00\">z2/w1</text>\r\n</g>\r\n<!-- a4 -->\r\n<g id=\"node5\" class=\"node\">\r\n<title>a4</title>\r\n<ellipse fill=\"none\" stroke=\"black\" cx=\"406.54\" cy=\"-49\" rx=\"18.7\" ry=\"18.7\"/>\r\n<text text-anchor=\"middle\" x=\"406.54\" y=\"-45.3\" font-family=\"Times New Roman,serif\" font-size=\"14.00\">a4</text>\r\n</g>\r\n<!-- a3&#45;&gt;a4 -->\r\n<g id=\"edge6\" class=\"edge\">\r\n<title>a3&#45;&gt;a4</title>\r\n<path fill=\"none\" stroke=\"black\" d=\"M315.44,-101C332.77,-91 360.97,-74.72 381.21,-63.04\"/>\r\n<polygon fill=\"black\" stroke=\"black\" points=\"382.97,-66.07 389.88,-58.04 379.47,-60 382.97,-66.07\"/>\r\n<text text-anchor=\"middle\" x=\"352.69\" y=\"-91.8\" font-family=\"Times New Roman,serif\" font-size=\"14.00\">z1/w3</text>\r\n</g>\r\n<!-- a4&#45;&gt;a2 -->\r\n<g id=\"edge9\" class=\"edge\">\r\n<title>a4&#45;&gt;a2</title>\r\n<path fill=\"none\" stroke=\"black\" d=\"M387.57,-50.92C355.42,-54.46 286.02,-62.62 227.99,-73 225.26,-73.49 222.43,-74.04 219.6,-74.62\"/>\r\n<polygon fill=\"black\" stroke=\"black\" points=\"218.62,-71.25 209.59,-76.79 220.1,-78.09 218.62,-71.25\"/>\r\n<text text-anchor=\"middle\" x=\"298.84\" y=\"-67.8\" font-family=\"Times New Roman,serif\" font-size=\"14.00\">z2/w2</text>\r\n</g>\r\n<!-- a4&#45;&gt;&#45; -->\r\n<g id=\"edge8\" class=\"edge\">\r\n<title>a4&#45;&gt;&#45;</title>\r\n<path fill=\"none\" stroke=\"black\" d=\"M424.57,-43.31C438.48,-38.67 458.38,-32.02 474.3,-26.71\"/>\r\n<polygon fill=\"black\" stroke=\"black\" points=\"475.71,-29.93 484.09,-23.44 473.49,-23.29 475.71,-29.93\"/>\r\n<text text-anchor=\"middle\" x=\"454.39\" y=\"-40.8\" font-family=\"Times New Roman,serif\" font-size=\"14.00\">z1/&#45;</text>\r\n</g>\r\n</g>\r\n</svg>\r\n",
      "text/plain": [
       "<graphviz.files.Source at 0x29216f84190>"
      ]
     },
     "metadata": {},
     "output_type": "display_data"
    }
   ],
   "source": [
    "init = mealyFSTmap['test06']\n",
    "fst = FST(init[0], init[1], init[2], init[3], init[4], init[5])\n",
    "display(Markdown(fst.toMdTable()))\n",
    "display(graphviz.Source(fst.toDot()))"
   ]
  },
  {
   "cell_type": "code",
   "execution_count": 4,
   "metadata": {},
   "outputs": [
    {
     "data": {
      "text/markdown": [
       "| Input \\ State | 0/- | 1/w1 | 2/w2 | 3/w3 | 4/- | 5/w3 | 6/w2 |\n",
       "|:---:|:---:|:---:|:---:|:---:|:---:|:---:|:---:|\n",
       "| z1 | 1 | 3 | 5 | 5 | - | 4 | 3 |\n",
       "| z2 | 2 | 4 | 1 | 1 | - | 6 | 4 |\n"
      ],
      "text/plain": [
       "<IPython.core.display.Markdown object>"
      ]
     },
     "metadata": {},
     "output_type": "display_data"
    },
    {
     "data": {
      "image/svg+xml": "<?xml version=\"1.0\" encoding=\"UTF-8\" standalone=\"no\"?>\r\n<!DOCTYPE svg PUBLIC \"-//W3C//DTD SVG 1.1//EN\"\r\n \"http://www.w3.org/Graphics/SVG/1.1/DTD/svg11.dtd\">\r\n<!-- Generated by graphviz version 2.49.0 (20210828.1703)\r\n -->\r\n<!-- Title: fst Pages: 1 -->\r\n<svg width=\"821pt\" height=\"169pt\"\r\n viewBox=\"0.00 0.00 820.77 168.60\" xmlns=\"http://www.w3.org/2000/svg\" xmlns:xlink=\"http://www.w3.org/1999/xlink\">\r\n<g id=\"graph0\" class=\"graph\" transform=\"scale(1 1) rotate(0) translate(4 164.6)\">\r\n<title>fst</title>\r\n<polygon fill=\"white\" stroke=\"transparent\" points=\"-4,4 -4,-164.6 816.77,-164.6 816.77,4 -4,4\"/>\r\n<!-- start -->\r\n<g id=\"node1\" class=\"node\">\r\n<title>start</title>\r\n<ellipse fill=\"black\" stroke=\"black\" cx=\"1.8\" cy=\"-71.6\" rx=\"1.8\" ry=\"1.8\"/>\r\n</g>\r\n<!-- 0 -->\r\n<g id=\"node2\" class=\"node\">\r\n<title>0</title>\r\n<ellipse fill=\"none\" stroke=\"black\" cx=\"85.4\" cy=\"-71.6\" rx=\"20.6\" ry=\"20.6\"/>\r\n<text text-anchor=\"middle\" x=\"85.4\" y=\"-67.9\" font-family=\"Times New Roman,serif\" font-size=\"14.00\">0/&#45;</text>\r\n</g>\r\n<!-- start&#45;&gt;0 -->\r\n<g id=\"edge1\" class=\"edge\">\r\n<title>start&#45;&gt;0</title>\r\n<path fill=\"none\" stroke=\"black\" d=\"M3.72,-71.6C8.75,-71.6 33.56,-71.6 54.36,-71.6\"/>\r\n<polygon fill=\"black\" stroke=\"black\" points=\"54.44,-75.1 64.44,-71.6 54.44,-68.1 54.44,-75.1\"/>\r\n<text text-anchor=\"middle\" x=\"34.1\" y=\"-75.4\" font-family=\"Times New Roman,serif\" font-size=\"14.00\">start</text>\r\n</g>\r\n<!-- 1 -->\r\n<g id=\"node3\" class=\"node\">\r\n<title>1</title>\r\n<ellipse fill=\"none\" stroke=\"black\" cx=\"289.99\" cy=\"-103.6\" rx=\"28.7\" ry=\"28.7\"/>\r\n<text text-anchor=\"middle\" x=\"289.99\" y=\"-99.9\" font-family=\"Times New Roman,serif\" font-size=\"14.00\">1/w1</text>\r\n</g>\r\n<!-- 0&#45;&gt;1 -->\r\n<g id=\"edge2\" class=\"edge\">\r\n<title>0&#45;&gt;1</title>\r\n<path fill=\"none\" stroke=\"black\" d=\"M106.19,-74.72C139.77,-80.03 208.4,-90.87 251.36,-97.65\"/>\r\n<polygon fill=\"black\" stroke=\"black\" points=\"251,-101.14 261.42,-99.24 252.09,-94.23 251,-101.14\"/>\r\n<text text-anchor=\"middle\" x=\"183.79\" y=\"-94.4\" font-family=\"Times New Roman,serif\" font-size=\"14.00\">z1</text>\r\n</g>\r\n<!-- 2 -->\r\n<g id=\"node4\" class=\"node\">\r\n<title>2</title>\r\n<ellipse fill=\"none\" stroke=\"black\" cx=\"183.79\" cy=\"-38.6\" rx=\"28.7\" ry=\"28.7\"/>\r\n<text text-anchor=\"middle\" x=\"183.79\" y=\"-34.9\" font-family=\"Times New Roman,serif\" font-size=\"14.00\">2/w2</text>\r\n</g>\r\n<!-- 0&#45;&gt;2 -->\r\n<g id=\"edge3\" class=\"edge\">\r\n<title>0&#45;&gt;2</title>\r\n<path fill=\"none\" stroke=\"black\" d=\"M105.44,-65.08C117.19,-61.06 132.63,-55.77 146.63,-50.98\"/>\r\n<polygon fill=\"black\" stroke=\"black\" points=\"148.16,-54.15 156.49,-47.6 145.9,-47.53 148.16,-54.15\"/>\r\n<text text-anchor=\"middle\" x=\"130.7\" y=\"-61.4\" font-family=\"Times New Roman,serif\" font-size=\"14.00\">z2</text>\r\n</g>\r\n<!-- 3 -->\r\n<g id=\"node5\" class=\"node\">\r\n<title>3</title>\r\n<ellipse fill=\"none\" stroke=\"black\" cx=\"396.18\" cy=\"-87.6\" rx=\"28.7\" ry=\"28.7\"/>\r\n<text text-anchor=\"middle\" x=\"396.18\" y=\"-83.9\" font-family=\"Times New Roman,serif\" font-size=\"14.00\">3/w3</text>\r\n</g>\r\n<!-- 1&#45;&gt;3 -->\r\n<g id=\"edge4\" class=\"edge\">\r\n<title>1&#45;&gt;3</title>\r\n<path fill=\"none\" stroke=\"black\" d=\"M312.41,-85.83C319.64,-80.88 328.05,-76.15 336.59,-73.6 344.11,-71.34 352.26,-71.62 360.03,-73.13\"/>\r\n<polygon fill=\"black\" stroke=\"black\" points=\"359.36,-76.57 369.92,-75.72 361.14,-69.8 359.36,-76.57\"/>\r\n<text text-anchor=\"middle\" x=\"343.09\" y=\"-77.4\" font-family=\"Times New Roman,serif\" font-size=\"14.00\">z1</text>\r\n</g>\r\n<!-- 4 -->\r\n<g id=\"node6\" class=\"node\">\r\n<title>4</title>\r\n<ellipse fill=\"none\" stroke=\"black\" cx=\"706.97\" cy=\"-88.6\" rx=\"20.6\" ry=\"20.6\"/>\r\n<text text-anchor=\"middle\" x=\"706.97\" y=\"-84.9\" font-family=\"Times New Roman,serif\" font-size=\"14.00\">4/&#45;</text>\r\n</g>\r\n<!-- 1&#45;&gt;4 -->\r\n<g id=\"edge5\" class=\"edge\">\r\n<title>1&#45;&gt;4</title>\r\n<path fill=\"none\" stroke=\"black\" d=\"M314.33,-119C334.77,-130.99 365.73,-145.6 395.18,-145.6 395.18,-145.6 395.18,-145.6 609.57,-145.6 638.4,-145.6 666.18,-126.47 684.45,-110.38\"/>\r\n<polygon fill=\"black\" stroke=\"black\" points=\"687.17,-112.63 692.14,-103.28 682.42,-107.49 687.17,-112.63\"/>\r\n<text text-anchor=\"middle\" x=\"502.38\" y=\"-149.4\" font-family=\"Times New Roman,serif\" font-size=\"14.00\">z2</text>\r\n</g>\r\n<!-- 2&#45;&gt;1 -->\r\n<g id=\"edge9\" class=\"edge\">\r\n<title>2&#45;&gt;1</title>\r\n<path fill=\"none\" stroke=\"black\" d=\"M208.51,-53.05C219.19,-59.59 231.95,-67.45 243.39,-74.6 247.75,-77.32 252.34,-80.21 256.85,-83.07\"/>\r\n<polygon fill=\"black\" stroke=\"black\" points=\"255.05,-86.07 265.37,-88.48 258.8,-80.16 255.05,-86.07\"/>\r\n<text text-anchor=\"middle\" x=\"236.89\" y=\"-78.4\" font-family=\"Times New Roman,serif\" font-size=\"14.00\">z2</text>\r\n</g>\r\n<!-- 5 -->\r\n<g id=\"node7\" class=\"node\">\r\n<title>5</title>\r\n<ellipse fill=\"none\" stroke=\"black\" cx=\"502.38\" cy=\"-28.6\" rx=\"28.7\" ry=\"28.7\"/>\r\n<text text-anchor=\"middle\" x=\"502.38\" y=\"-24.9\" font-family=\"Times New Roman,serif\" font-size=\"14.00\">5/w3</text>\r\n</g>\r\n<!-- 2&#45;&gt;5 -->\r\n<g id=\"edge8\" class=\"edge\">\r\n<title>2&#45;&gt;5</title>\r\n<path fill=\"none\" stroke=\"black\" d=\"M212.61,-37.72C269.5,-35.92 399.18,-31.83 463.61,-29.79\"/>\r\n<polygon fill=\"black\" stroke=\"black\" points=\"463.85,-33.28 473.74,-29.47 463.63,-26.29 463.85,-33.28\"/>\r\n<text text-anchor=\"middle\" x=\"343.09\" y=\"-37.4\" font-family=\"Times New Roman,serif\" font-size=\"14.00\">z1</text>\r\n</g>\r\n<!-- 3&#45;&gt;1 -->\r\n<g id=\"edge11\" class=\"edge\">\r\n<title>3&#45;&gt;1</title>\r\n<path fill=\"none\" stroke=\"black\" d=\"M367.63,-91.83C355.62,-93.67 341.35,-95.86 328.4,-97.85\"/>\r\n<polygon fill=\"black\" stroke=\"black\" points=\"327.72,-94.42 318.36,-99.39 328.78,-101.34 327.72,-94.42\"/>\r\n<text text-anchor=\"middle\" x=\"343.09\" y=\"-99.4\" font-family=\"Times New Roman,serif\" font-size=\"14.00\">z2</text>\r\n</g>\r\n<!-- 3&#45;&gt;5 -->\r\n<g id=\"edge10\" class=\"edge\">\r\n<title>3&#45;&gt;5</title>\r\n<path fill=\"none\" stroke=\"black\" d=\"M421.35,-73.91C435.19,-66.08 452.76,-56.13 467.92,-47.55\"/>\r\n<polygon fill=\"black\" stroke=\"black\" points=\"470.01,-50.38 476.98,-42.41 466.56,-44.29 470.01,-50.38\"/>\r\n<text text-anchor=\"middle\" x=\"449.28\" y=\"-65.4\" font-family=\"Times New Roman,serif\" font-size=\"14.00\">z1</text>\r\n</g>\r\n<!-- &#45; -->\r\n<g id=\"node9\" class=\"node\">\r\n<title>&#45;</title>\r\n<ellipse fill=\"hotpink\" stroke=\"black\" cx=\"794.77\" cy=\"-88.6\" rx=\"18\" ry=\"18\"/>\r\n<text text-anchor=\"middle\" x=\"794.77\" y=\"-84.9\" font-family=\"Times New Roman,serif\" font-size=\"14.00\">&#45;</text>\r\n</g>\r\n<!-- 4&#45;&gt;&#45; -->\r\n<g id=\"edge12\" class=\"edge\">\r\n<title>4&#45;&gt;&#45;</title>\r\n<path fill=\"none\" stroke=\"black\" d=\"M727.87,-88.6C739.28,-88.6 753.77,-88.6 766.26,-88.6\"/>\r\n<polygon fill=\"black\" stroke=\"black\" points=\"766.59,-92.1 776.59,-88.6 766.59,-85.1 766.59,-92.1\"/>\r\n<text text-anchor=\"middle\" x=\"752.27\" y=\"-92.4\" font-family=\"Times New Roman,serif\" font-size=\"14.00\">z1</text>\r\n</g>\r\n<!-- 4&#45;&gt;&#45; -->\r\n<g id=\"edge13\" class=\"edge\">\r\n<title>4&#45;&gt;&#45;</title>\r\n<path fill=\"none\" stroke=\"black\" d=\"M724.61,-76.87C734.39,-71.38 747.09,-66.63 758.77,-69.6 762.73,-70.6 766.72,-72.16 770.52,-73.95\"/>\r\n<polygon fill=\"black\" stroke=\"black\" points=\"768.99,-77.1 779.46,-78.73 772.29,-70.93 768.99,-77.1\"/>\r\n<text text-anchor=\"middle\" x=\"752.27\" y=\"-73.4\" font-family=\"Times New Roman,serif\" font-size=\"14.00\">z2</text>\r\n</g>\r\n<!-- 5&#45;&gt;4 -->\r\n<g id=\"edge14\" class=\"edge\">\r\n<title>5&#45;&gt;4</title>\r\n<path fill=\"none\" stroke=\"black\" d=\"M530.99,-25.36C558.73,-23.18 602.27,-22.68 637.17,-35.6 654.8,-42.12 671.58,-54.86 684.15,-66.22\"/>\r\n<polygon fill=\"black\" stroke=\"black\" points=\"682.1,-69.09 691.77,-73.4 686.9,-63.99 682.1,-69.09\"/>\r\n<text text-anchor=\"middle\" x=\"608.57\" y=\"-39.4\" font-family=\"Times New Roman,serif\" font-size=\"14.00\">z1</text>\r\n</g>\r\n<!-- 6 -->\r\n<g id=\"node8\" class=\"node\">\r\n<title>6</title>\r\n<ellipse fill=\"none\" stroke=\"black\" cx=\"608.57\" cy=\"-88.6\" rx=\"28.7\" ry=\"28.7\"/>\r\n<text text-anchor=\"middle\" x=\"608.57\" y=\"-84.9\" font-family=\"Times New Roman,serif\" font-size=\"14.00\">6/w2</text>\r\n</g>\r\n<!-- 5&#45;&gt;6 -->\r\n<g id=\"edge15\" class=\"edge\">\r\n<title>5&#45;&gt;6</title>\r\n<path fill=\"none\" stroke=\"black\" d=\"M527.54,-42.51C541.62,-50.62 559.55,-60.94 574.87,-69.76\"/>\r\n<polygon fill=\"black\" stroke=\"black\" points=\"573.13,-72.8 583.54,-74.76 576.62,-66.73 573.13,-72.8\"/>\r\n<text text-anchor=\"middle\" x=\"555.48\" y=\"-65.4\" font-family=\"Times New Roman,serif\" font-size=\"14.00\">z2</text>\r\n</g>\r\n<!-- 6&#45;&gt;3 -->\r\n<g id=\"edge6\" class=\"edge\">\r\n<title>6&#45;&gt;3</title>\r\n<path fill=\"none\" stroke=\"black\" d=\"M579.85,-88.47C542.77,-88.29 476.85,-87.98 435.17,-87.78\"/>\r\n<polygon fill=\"black\" stroke=\"black\" points=\"435.14,-84.28 425.12,-87.73 435.1,-91.28 435.14,-84.28\"/>\r\n<text text-anchor=\"middle\" x=\"502.38\" y=\"-91.4\" font-family=\"Times New Roman,serif\" font-size=\"14.00\">z1</text>\r\n</g>\r\n<!-- 6&#45;&gt;4 -->\r\n<g id=\"edge7\" class=\"edge\">\r\n<title>6&#45;&gt;4</title>\r\n<path fill=\"none\" stroke=\"black\" d=\"M637.2,-88.6C649.24,-88.6 663.4,-88.6 675.73,-88.6\"/>\r\n<polygon fill=\"black\" stroke=\"black\" points=\"676,-92.1 686,-88.6 676,-85.1 676,-92.1\"/>\r\n<text text-anchor=\"middle\" x=\"661.67\" y=\"-92.4\" font-family=\"Times New Roman,serif\" font-size=\"14.00\">z2</text>\r\n</g>\r\n</g>\r\n</svg>\r\n",
      "text/plain": [
       "<graphviz.files.Source at 0x29216c69bb0>"
      ]
     },
     "metadata": {},
     "output_type": "display_data"
    }
   ],
   "source": [
    "fstMoore = fst.asMoore()\n",
    "display(Markdown(fstMoore.toMdTable()))\n",
    "display(graphviz.Source(fstMoore.toDot()))"
   ]
  },
  {
   "cell_type": "code",
   "execution_count": 5,
   "metadata": {},
   "outputs": [
    {
     "name": "stdout",
     "output_type": "stream",
     "text": [
      "['z1', 'z1', 'z1', 'z1', 'z1']\n",
      "['w1', 'w3', 'w3', -1, -1]\n",
      "['w1', 'w3', 'w3', -1, -1]\n",
      "-----\n",
      "['z1', 'z1', 'z1', 'z2', 'z1']\n",
      "['w1', 'w3', 'w3', 'w2', 'w3']\n",
      "['w1', 'w3', 'w3', 'w2', 'w3']\n",
      "-----\n",
      "['z1', 'z1', 'z1', 'z2', 'z2', 'z1']\n",
      "['w1', 'w3', 'w3', 'w2', -1, -1]\n",
      "['w1', 'w3', 'w3', 'w2', -1, -1]\n",
      "-----\n",
      "['z1', 'z1', 'z2']\n",
      "['w1', 'w3', 'w1']\n",
      "['w1', 'w3', 'w1']\n",
      "-----\n",
      "['z1', 'z2', 'z1']\n",
      "['w1', -1, -1]\n",
      "['w1', -1, -1]\n",
      "-----\n",
      "['z2', 'z1', 'z1', 'z1']\n",
      "['w2', 'w3', -1, -1]\n",
      "['w2', 'w3', -1, -1]\n",
      "-----\n",
      "['z2', 'z1', 'z2', 'z1', 'z1']\n",
      "['w2', 'w3', 'w2', 'w3', 'w3']\n",
      "['w2', 'w3', 'w2', 'w3', 'w3']\n",
      "-----\n",
      "['z2', 'z1', 'z2', 'z1', 'z2', 'z1']\n",
      "['w2', 'w3', 'w2', 'w3', 'w1', 'w3']\n",
      "['w2', 'w3', 'w2', 'w3', 'w1', 'w3']\n",
      "-----\n",
      "['z2', 'z1', 'z2', 'z1', 'z2', 'z2', 'z1']\n",
      "['w2', 'w3', 'w2', 'w3', 'w1', -1, -1]\n",
      "['w2', 'w3', 'w2', 'w3', 'w1', -1, -1]\n",
      "-----\n",
      "['z2', 'z1', 'z2', 'z2', 'z1']\n",
      "['w2', 'w3', 'w2', -1, -1]\n",
      "['w2', 'w3', 'w2', -1, -1]\n",
      "-----\n",
      "['z2', 'z2', 'z1', 'z1', 'z1', 'z1']\n",
      "['w2', 'w1', 'w3', 'w3', -1, -1]\n",
      "['w2', 'w1', 'w3', 'w3', -1, -1]\n",
      "-----\n",
      "['z2', 'z2', 'z1', 'z1', 'z2', 'z1']\n",
      "['w2', 'w1', 'w3', 'w3', 'w2', 'w3']\n",
      "['w2', 'w1', 'w3', 'w3', 'w2', 'w3']\n",
      "-----\n",
      "['z2', 'z2', 'z1', 'z1', 'z2', 'z2', 'z1']\n",
      "['w2', 'w1', 'w3', 'w3', 'w2', -1, -1]\n",
      "['w2', 'w1', 'w3', 'w3', 'w2', -1, -1]\n",
      "-----\n",
      "['z2', 'z2', 'z1', 'z2']\n",
      "['w2', 'w1', 'w3', 'w1']\n",
      "['w2', 'w1', 'w3', 'w1']\n",
      "-----\n",
      "['z2', 'z2', 'z2', 'z1']\n",
      "['w2', 'w1', -1, -1]\n",
      "['w2', 'w1', -1, -1]\n",
      "-----\n"
     ]
    }
   ],
   "source": [
    "for testSignal in fstMoore.getTestSignal():\n",
    "    print(testSignal)\n",
    "    print(fst.playFST(testSignal)[0])\n",
    "    print(fstMoore.playFST(testSignal)[0][1:])\n",
    "    print('-----')"
   ]
  },
  {
   "cell_type": "markdown",
   "metadata": {},
   "source": [
    "Test #08"
   ]
  },
  {
   "cell_type": "code",
   "execution_count": 6,
   "metadata": {},
   "outputs": [
    {
     "data": {
      "text/markdown": [
       "| Input \\ State | Q1 | Q2 | Q3 | Q4 | Q5 |\n",
       "|:---:|:---:|:---:|:---:|:---:|:---:|\n",
       "| x1 | Q2/y1 | Q3/y2 | -/- | Q1/y2 | Q3/y2 |\n",
       "| x2 | Q1/y | Q5/y1 | Q3/y | Q3/y1 | Q1/y1 |\n",
       "| x3 | -/- | -/- | -/- | Q4/y | Q5/y1 |\n"
      ],
      "text/plain": [
       "<IPython.core.display.Markdown object>"
      ]
     },
     "metadata": {},
     "output_type": "display_data"
    },
    {
     "data": {
      "image/svg+xml": "<?xml version=\"1.0\" encoding=\"UTF-8\" standalone=\"no\"?>\r\n<!DOCTYPE svg PUBLIC \"-//W3C//DTD SVG 1.1//EN\"\r\n \"http://www.w3.org/Graphics/SVG/1.1/DTD/svg11.dtd\">\r\n<!-- Generated by graphviz version 2.49.0 (20210828.1703)\r\n -->\r\n<!-- Title: fst Pages: 1 -->\r\n<svg width=\"591pt\" height=\"268pt\"\r\n viewBox=\"0.00 0.00 590.98 268.10\" xmlns=\"http://www.w3.org/2000/svg\" xmlns:xlink=\"http://www.w3.org/1999/xlink\">\r\n<g id=\"graph0\" class=\"graph\" transform=\"scale(1 1) rotate(0) translate(4 264.1)\">\r\n<title>fst</title>\r\n<polygon fill=\"white\" stroke=\"transparent\" points=\"-4,4 -4,-264.1 586.98,-264.1 586.98,4 -4,4\"/>\r\n<!-- start -->\r\n<g id=\"node1\" class=\"node\">\r\n<title>start</title>\r\n<ellipse fill=\"black\" stroke=\"black\" cx=\"22.1\" cy=\"-117\" rx=\"1.8\" ry=\"1.8\"/>\r\n</g>\r\n<!-- Q1 -->\r\n<g id=\"node2\" class=\"node\">\r\n<title>Q1</title>\r\n<ellipse fill=\"none\" stroke=\"black\" cx=\"133.29\" cy=\"-117\" rx=\"22.2\" ry=\"22.2\"/>\r\n<text text-anchor=\"middle\" x=\"133.29\" y=\"-113.3\" font-family=\"Times New Roman,serif\" font-size=\"14.00\">Q1</text>\r\n</g>\r\n<!-- start&#45;&gt;Q1 -->\r\n<g id=\"edge1\" class=\"edge\">\r\n<title>start&#45;&gt;Q1</title>\r\n<path fill=\"none\" stroke=\"black\" d=\"M24.32,-117C31.8,-117 71.83,-117 100.98,-117\"/>\r\n<polygon fill=\"black\" stroke=\"black\" points=\"101.14,-120.5 111.14,-117 101.14,-113.5 101.14,-120.5\"/>\r\n<text text-anchor=\"middle\" x=\"77.7\" y=\"-120.8\" font-family=\"Times New Roman,serif\" font-size=\"14.00\">start</text>\r\n</g>\r\n<!-- Q1&#45;&gt;Q1 -->\r\n<g id=\"edge3\" class=\"edge\">\r\n<title>Q1&#45;&gt;Q1</title>\r\n<path fill=\"none\" stroke=\"black\" d=\"M123.53,-137.22C122.02,-147.67 125.28,-157.1 133.29,-157.1 138.55,-157.1 141.76,-153.04 142.93,-147.29\"/>\r\n<polygon fill=\"black\" stroke=\"black\" points=\"146.43,-147.27 143.06,-137.22 139.43,-147.17 146.43,-147.27\"/>\r\n<text text-anchor=\"middle\" x=\"133.29\" y=\"-160.9\" font-family=\"Times New Roman,serif\" font-size=\"14.00\">x2/y</text>\r\n</g>\r\n<!-- Q2 -->\r\n<g id=\"node3\" class=\"node\">\r\n<title>Q2</title>\r\n<ellipse fill=\"none\" stroke=\"black\" cx=\"244.49\" cy=\"-91\" rx=\"22.2\" ry=\"22.2\"/>\r\n<text text-anchor=\"middle\" x=\"244.49\" y=\"-87.3\" font-family=\"Times New Roman,serif\" font-size=\"14.00\">Q2</text>\r\n</g>\r\n<!-- Q1&#45;&gt;Q2 -->\r\n<g id=\"edge2\" class=\"edge\">\r\n<title>Q1&#45;&gt;Q2</title>\r\n<path fill=\"none\" stroke=\"black\" d=\"M155.09,-112.05C171.41,-108.16 194.37,-102.7 212.8,-98.31\"/>\r\n<polygon fill=\"black\" stroke=\"black\" points=\"213.85,-101.65 222.77,-95.93 212.23,-94.84 213.85,-101.65\"/>\r\n<text text-anchor=\"middle\" x=\"188.89\" y=\"-111.8\" font-family=\"Times New Roman,serif\" font-size=\"14.00\">x1/y1</text>\r\n</g>\r\n<!-- &#45; -->\r\n<g id=\"node7\" class=\"node\">\r\n<title>&#45;</title>\r\n<ellipse fill=\"hotpink\" stroke=\"black\" cx=\"564.98\" cy=\"-59\" rx=\"18\" ry=\"18\"/>\r\n<text text-anchor=\"middle\" x=\"564.98\" y=\"-55.3\" font-family=\"Times New Roman,serif\" font-size=\"14.00\">&#45;</text>\r\n</g>\r\n<!-- Q1&#45;&gt;&#45; -->\r\n<g id=\"edge4\" class=\"edge\">\r\n<title>Q1&#45;&gt;&#45;</title>\r\n<path fill=\"none\" stroke=\"black\" d=\"M142.26,-96.62C156.85,-63.1 191.25,0 243.49,0 243.49,0 243.49,0 467.88,0 498.1,0 526.82,-21.45 544.85,-38.48\"/>\r\n<polygon fill=\"black\" stroke=\"black\" points=\"542.79,-41.36 552.36,-45.91 547.71,-36.39 542.79,-41.36\"/>\r\n<text text-anchor=\"middle\" x=\"355.69\" y=\"-3.8\" font-family=\"Times New Roman,serif\" font-size=\"14.00\">x3/&#45;</text>\r\n</g>\r\n<!-- Q3 -->\r\n<g id=\"node4\" class=\"node\">\r\n<title>Q3</title>\r\n<ellipse fill=\"none\" stroke=\"black\" cx=\"466.88\" cy=\"-114\" rx=\"22.2\" ry=\"22.2\"/>\r\n<text text-anchor=\"middle\" x=\"466.88\" y=\"-110.3\" font-family=\"Times New Roman,serif\" font-size=\"14.00\">Q3</text>\r\n</g>\r\n<!-- Q2&#45;&gt;Q3 -->\r\n<g id=\"edge5\" class=\"edge\">\r\n<title>Q2&#45;&gt;Q3</title>\r\n<path fill=\"none\" stroke=\"black\" d=\"M266.64,-91.29C292.82,-91.85 338.72,-93.44 377.78,-98 396.96,-100.24 418.27,-104.07 435.13,-107.43\"/>\r\n<polygon fill=\"black\" stroke=\"black\" points=\"434.49,-110.87 444.99,-109.43 435.89,-104.01 434.49,-110.87\"/>\r\n<text text-anchor=\"middle\" x=\"355.69\" y=\"-101.8\" font-family=\"Times New Roman,serif\" font-size=\"14.00\">x1/y2</text>\r\n</g>\r\n<!-- Q5 -->\r\n<g id=\"node6\" class=\"node\">\r\n<title>Q5</title>\r\n<ellipse fill=\"none\" stroke=\"black\" cx=\"355.69\" cy=\"-144\" rx=\"22.2\" ry=\"22.2\"/>\r\n<text text-anchor=\"middle\" x=\"355.69\" y=\"-140.3\" font-family=\"Times New Roman,serif\" font-size=\"14.00\">Q5</text>\r\n</g>\r\n<!-- Q2&#45;&gt;Q5 -->\r\n<g id=\"edge6\" class=\"edge\">\r\n<title>Q2&#45;&gt;Q5</title>\r\n<path fill=\"none\" stroke=\"black\" d=\"M264.99,-99.5C279.14,-105.76 298.69,-114.62 315.59,-123 319.39,-124.89 323.37,-126.94 327.27,-128.99\"/>\r\n<polygon fill=\"black\" stroke=\"black\" points=\"325.65,-132.09 336.12,-133.71 328.95,-125.91 325.65,-132.09\"/>\r\n<text text-anchor=\"middle\" x=\"300.09\" y=\"-126.8\" font-family=\"Times New Roman,serif\" font-size=\"14.00\">x2/y1</text>\r\n</g>\r\n<!-- Q2&#45;&gt;&#45; -->\r\n<g id=\"edge7\" class=\"edge\">\r\n<title>Q2&#45;&gt;&#45;</title>\r\n<path fill=\"none\" stroke=\"black\" d=\"M266.45,-88.02C310.75,-81.86 417.21,-67.71 506.98,-61 516.67,-60.28 527.3,-59.81 536.73,-59.52\"/>\r\n<polygon fill=\"black\" stroke=\"black\" points=\"536.85,-63.02 546.75,-59.25 536.66,-56.02 536.85,-63.02\"/>\r\n<text text-anchor=\"middle\" x=\"411.28\" y=\"-75.8\" font-family=\"Times New Roman,serif\" font-size=\"14.00\">x3/&#45;</text>\r\n</g>\r\n<!-- Q3&#45;&gt;Q3 -->\r\n<g id=\"edge9\" class=\"edge\">\r\n<title>Q3&#45;&gt;Q3</title>\r\n<path fill=\"none\" stroke=\"black\" d=\"M457.84,-134.22C456.45,-144.67 459.46,-154.1 466.88,-154.1 471.75,-154.1 474.73,-150.04 475.8,-144.29\"/>\r\n<polygon fill=\"black\" stroke=\"black\" points=\"479.3,-144.26 475.93,-134.22 472.3,-144.17 479.3,-144.26\"/>\r\n<text text-anchor=\"middle\" x=\"466.88\" y=\"-157.9\" font-family=\"Times New Roman,serif\" font-size=\"14.00\">x2/y</text>\r\n</g>\r\n<!-- Q3&#45;&gt;&#45; -->\r\n<g id=\"edge8\" class=\"edge\">\r\n<title>Q3&#45;&gt;&#45;</title>\r\n<path fill=\"none\" stroke=\"black\" d=\"M488.64,-108.83C500.93,-105.22 516.49,-99.67 528.98,-92 534.68,-88.5 540.23,-83.96 545.18,-79.38\"/>\r\n<polygon fill=\"black\" stroke=\"black\" points=\"547.72,-81.79 552.39,-72.28 542.81,-76.8 547.72,-81.79\"/>\r\n<text text-anchor=\"middle\" x=\"517.98\" y=\"-106.8\" font-family=\"Times New Roman,serif\" font-size=\"14.00\">x1/&#45;</text>\r\n</g>\r\n<!-- Q3&#45;&gt;&#45; -->\r\n<g id=\"edge10\" class=\"edge\">\r\n<title>Q3&#45;&gt;&#45;</title>\r\n<path fill=\"none\" stroke=\"black\" d=\"M480.61,-96.59C487.54,-88.29 496.77,-78.92 506.98,-73 515.98,-67.79 526.87,-64.5 536.7,-62.44\"/>\r\n<polygon fill=\"black\" stroke=\"black\" points=\"537.59,-65.84 546.83,-60.65 536.37,-58.95 537.59,-65.84\"/>\r\n<text text-anchor=\"middle\" x=\"517.98\" y=\"-76.8\" font-family=\"Times New Roman,serif\" font-size=\"14.00\">x3/&#45;</text>\r\n</g>\r\n<!-- Q4 -->\r\n<g id=\"node5\" class=\"node\">\r\n<title>Q4</title>\r\n<ellipse fill=\"none\" stroke=\"black\" cx=\"22.1\" cy=\"-205\" rx=\"22.2\" ry=\"22.2\"/>\r\n<text text-anchor=\"middle\" x=\"22.1\" y=\"-201.3\" font-family=\"Times New Roman,serif\" font-size=\"14.00\">Q4</text>\r\n</g>\r\n<!-- Q4&#45;&gt;Q1 -->\r\n<g id=\"edge11\" class=\"edge\">\r\n<title>Q4&#45;&gt;Q1</title>\r\n<path fill=\"none\" stroke=\"black\" d=\"M40.16,-191.25C58.19,-176.72 86.81,-153.66 107.36,-137.09\"/>\r\n<polygon fill=\"black\" stroke=\"black\" points=\"109.76,-139.65 115.35,-130.65 105.37,-134.2 109.76,-139.65\"/>\r\n<text text-anchor=\"middle\" x=\"77.7\" y=\"-175.8\" font-family=\"Times New Roman,serif\" font-size=\"14.00\">x1/y2</text>\r\n</g>\r\n<!-- Q4&#45;&gt;Q3 -->\r\n<g id=\"edge12\" class=\"edge\">\r\n<title>Q4&#45;&gt;Q3</title>\r\n<path fill=\"none\" stroke=\"black\" d=\"M43.38,-211.6C65.12,-218.08 100.77,-227 132.29,-227 132.29,-227 132.29,-227 356.69,-227 403.12,-227 436.08,-177.05 452.95,-143.57\"/>\r\n<polygon fill=\"black\" stroke=\"black\" points=\"456.28,-144.73 457.48,-134.2 449.98,-141.68 456.28,-144.73\"/>\r\n<text text-anchor=\"middle\" x=\"244.49\" y=\"-230.8\" font-family=\"Times New Roman,serif\" font-size=\"14.00\">x2/y1</text>\r\n</g>\r\n<!-- Q4&#45;&gt;Q4 -->\r\n<g id=\"edge13\" class=\"edge\">\r\n<title>Q4&#45;&gt;Q4</title>\r\n<path fill=\"none\" stroke=\"black\" d=\"M12.33,-225.22C10.83,-235.67 14.08,-245.1 22.1,-245.1 27.36,-245.1 30.57,-241.04 31.73,-235.29\"/>\r\n<polygon fill=\"black\" stroke=\"black\" points=\"35.23,-235.27 31.87,-225.22 28.23,-235.17 35.23,-235.27\"/>\r\n<text text-anchor=\"middle\" x=\"22.1\" y=\"-248.9\" font-family=\"Times New Roman,serif\" font-size=\"14.00\">x3/y</text>\r\n</g>\r\n<!-- Q5&#45;&gt;Q1 -->\r\n<g id=\"edge15\" class=\"edge\">\r\n<title>Q5&#45;&gt;Q1</title>\r\n<path fill=\"none\" stroke=\"black\" d=\"M333.6,-143.13C299.64,-141.49 230.83,-137.13 173.39,-127 170.55,-126.5 167.6,-125.9 164.67,-125.25\"/>\r\n<polygon fill=\"black\" stroke=\"black\" points=\"165.41,-121.82 154.86,-122.88 163.77,-128.63 165.41,-121.82\"/>\r\n<text text-anchor=\"middle\" x=\"244.49\" y=\"-142.8\" font-family=\"Times New Roman,serif\" font-size=\"14.00\">x2/y1</text>\r\n</g>\r\n<!-- Q5&#45;&gt;Q3 -->\r\n<g id=\"edge14\" class=\"edge\">\r\n<title>Q5&#45;&gt;Q3</title>\r\n<path fill=\"none\" stroke=\"black\" d=\"M377.23,-138.36C393.7,-133.83 417.06,-127.41 435.66,-122.3\"/>\r\n<polygon fill=\"black\" stroke=\"black\" points=\"436.72,-125.64 445.44,-119.62 434.87,-118.89 436.72,-125.64\"/>\r\n<text text-anchor=\"middle\" x=\"411.28\" y=\"-136.8\" font-family=\"Times New Roman,serif\" font-size=\"14.00\">x1/y2</text>\r\n</g>\r\n<!-- Q5&#45;&gt;Q5 -->\r\n<g id=\"edge16\" class=\"edge\">\r\n<title>Q5&#45;&gt;Q5</title>\r\n<path fill=\"none\" stroke=\"black\" d=\"M345.92,-164.22C344.41,-174.67 347.67,-184.1 355.69,-184.1 360.95,-184.1 364.16,-180.04 365.32,-174.29\"/>\r\n<polygon fill=\"black\" stroke=\"black\" points=\"368.82,-174.27 365.46,-164.22 361.82,-174.17 368.82,-174.27\"/>\r\n<text text-anchor=\"middle\" x=\"355.69\" y=\"-187.9\" font-family=\"Times New Roman,serif\" font-size=\"14.00\">x3/y1</text>\r\n</g>\r\n</g>\r\n</svg>\r\n",
      "text/plain": [
       "<graphviz.files.Source at 0x29216c45e80>"
      ]
     },
     "metadata": {},
     "output_type": "display_data"
    }
   ],
   "source": [
    "init = mealyFSTmap['test08']\n",
    "fst = FST(init[0], init[1], init[2], init[3], init[4], init[5])\n",
    "display(Markdown(fst.toMdTable()))\n",
    "display(graphviz.Source(fst.toDot()))"
   ]
  },
  {
   "cell_type": "code",
   "execution_count": 7,
   "metadata": {},
   "outputs": [
    {
     "data": {
      "text/markdown": [
       "| Input \\ State | 0/- | 1/y1 | 2/y | 3/- | 4/y2 | 5/y1 | 6/y | 7/y2 | 8/y1 | 9/y | 10/y1 |\n",
       "|:---:|:---:|:---:|:---:|:---:|:---:|:---:|:---:|:---:|:---:|:---:|:---:|\n",
       "| x1 | 1 | 4 | 1 | - | 3 | 4 | 3 | 1 | 3 | 7 | 1 |\n",
       "| x2 | 2 | 5 | 2 | - | 6 | 10 | 6 | 2 | 6 | 8 | 2 |\n",
       "| x3 | 3 | 3 | 3 | - | 3 | 5 | 3 | 3 | 3 | 9 | 3 |\n"
      ],
      "text/plain": [
       "<IPython.core.display.Markdown object>"
      ]
     },
     "metadata": {},
     "output_type": "display_data"
    },
    {
     "data": {
      "image/svg+xml": "<?xml version=\"1.0\" encoding=\"UTF-8\" standalone=\"no\"?>\r\n<!DOCTYPE svg PUBLIC \"-//W3C//DTD SVG 1.1//EN\"\r\n \"http://www.w3.org/Graphics/SVG/1.1/DTD/svg11.dtd\">\r\n<!-- Generated by graphviz version 2.49.0 (20210828.1703)\r\n -->\r\n<!-- Title: fst Pages: 1 -->\r\n<svg width=\"756pt\" height=\"593pt\"\r\n viewBox=\"0.00 0.00 755.97 592.66\" xmlns=\"http://www.w3.org/2000/svg\" xmlns:xlink=\"http://www.w3.org/1999/xlink\">\r\n<g id=\"graph0\" class=\"graph\" transform=\"scale(1 1) rotate(0) translate(4 588.66)\">\r\n<title>fst</title>\r\n<polygon fill=\"white\" stroke=\"transparent\" points=\"-4,4 -4,-588.66 751.97,-588.66 751.97,4 -4,4\"/>\r\n<!-- start -->\r\n<g id=\"node1\" class=\"node\">\r\n<title>start</title>\r\n<ellipse fill=\"black\" stroke=\"black\" cx=\"22.1\" cy=\"-526.66\" rx=\"1.8\" ry=\"1.8\"/>\r\n</g>\r\n<!-- 0 -->\r\n<g id=\"node2\" class=\"node\">\r\n<title>0</title>\r\n<ellipse fill=\"none\" stroke=\"black\" cx=\"131.84\" cy=\"-526.66\" rx=\"20.6\" ry=\"20.6\"/>\r\n<text text-anchor=\"middle\" x=\"131.84\" y=\"-522.96\" font-family=\"Times New Roman,serif\" font-size=\"14.00\">0/&#45;</text>\r\n</g>\r\n<!-- start&#45;&gt;0 -->\r\n<g id=\"edge1\" class=\"edge\">\r\n<title>start&#45;&gt;0</title>\r\n<path fill=\"none\" stroke=\"black\" d=\"M24.31,-526.66C31.76,-526.66 72.07,-526.66 100.9,-526.66\"/>\r\n<polygon fill=\"black\" stroke=\"black\" points=\"100.92,-530.17 110.92,-526.66 100.92,-523.17 100.92,-530.17\"/>\r\n<text text-anchor=\"middle\" x=\"74.7\" y=\"-530.46\" font-family=\"Times New Roman,serif\" font-size=\"14.00\">start</text>\r\n</g>\r\n<!-- 1 -->\r\n<g id=\"node3\" class=\"node\">\r\n<title>1</title>\r\n<ellipse fill=\"none\" stroke=\"black\" cx=\"235.14\" cy=\"-289.66\" rx=\"26.8\" ry=\"26.8\"/>\r\n<text text-anchor=\"middle\" x=\"235.14\" y=\"-285.96\" font-family=\"Times New Roman,serif\" font-size=\"14.00\">1/y1</text>\r\n</g>\r\n<!-- 0&#45;&gt;1 -->\r\n<g id=\"edge2\" class=\"edge\">\r\n<title>0&#45;&gt;1</title>\r\n<path fill=\"none\" stroke=\"black\" d=\"M140.96,-507.67C158.08,-467.61 198.09,-374.02 219.69,-323.47\"/>\r\n<polygon fill=\"black\" stroke=\"black\" points=\"223.04,-324.54 223.75,-313.97 216.6,-321.79 223.04,-324.54\"/>\r\n<text text-anchor=\"middle\" x=\"183.49\" y=\"-425.46\" font-family=\"Times New Roman,serif\" font-size=\"14.00\">x1</text>\r\n</g>\r\n<!-- 2 -->\r\n<g id=\"node4\" class=\"node\">\r\n<title>2</title>\r\n<ellipse fill=\"none\" stroke=\"black\" cx=\"548.27\" cy=\"-428.66\" rx=\"22.2\" ry=\"22.2\"/>\r\n<text text-anchor=\"middle\" x=\"548.27\" y=\"-424.96\" font-family=\"Times New Roman,serif\" font-size=\"14.00\">2/y</text>\r\n</g>\r\n<!-- 0&#45;&gt;2 -->\r\n<g id=\"edge3\" class=\"edge\">\r\n<title>0&#45;&gt;2</title>\r\n<path fill=\"none\" stroke=\"black\" d=\"M153.02,-526.66C173.47,-526.66 206,-526.66 234.14,-526.66 234.14,-526.66 234.14,-526.66 446.63,-526.66 486.68,-526.66 516.76,-486.33 533.19,-457.42\"/>\r\n<polygon fill=\"black\" stroke=\"black\" points=\"536.34,-458.95 538.03,-448.5 530.18,-455.61 536.34,-458.95\"/>\r\n<text text-anchor=\"middle\" x=\"338.43\" y=\"-530.46\" font-family=\"Times New Roman,serif\" font-size=\"14.00\">x2</text>\r\n</g>\r\n<!-- 3 -->\r\n<g id=\"node5\" class=\"node\">\r\n<title>3</title>\r\n<ellipse fill=\"none\" stroke=\"black\" cx=\"641.17\" cy=\"-217.66\" rx=\"20.6\" ry=\"20.6\"/>\r\n<text text-anchor=\"middle\" x=\"641.17\" y=\"-213.96\" font-family=\"Times New Roman,serif\" font-size=\"14.00\">3/&#45;</text>\r\n</g>\r\n<!-- 0&#45;&gt;3 -->\r\n<g id=\"edge4\" class=\"edge\">\r\n<title>0&#45;&gt;3</title>\r\n<path fill=\"none\" stroke=\"black\" d=\"M149.15,-538.41C168.45,-551.15 202.04,-569.66 234.14,-569.66 234.14,-569.66 234.14,-569.66 549.27,-569.66 615.25,-569.66 634.09,-334.92 638.78,-248.83\"/>\r\n<polygon fill=\"black\" stroke=\"black\" points=\"642.28,-248.8 639.3,-238.63 635.29,-248.44 642.28,-248.8\"/>\r\n<text text-anchor=\"middle\" x=\"390.08\" y=\"-573.46\" font-family=\"Times New Roman,serif\" font-size=\"14.00\">x3</text>\r\n</g>\r\n<!-- 1&#45;&gt;3 -->\r\n<g id=\"edge16\" class=\"edge\">\r\n<title>1&#45;&gt;3</title>\r\n<path fill=\"none\" stroke=\"black\" d=\"M251.8,-268.85C259.43,-259.83 269.24,-249.73 279.79,-242.66 292.4,-234.21 297.13,-234.65 311.79,-230.66 396.4,-207.64 420.51,-209.67 508.18,-211.66 543.05,-212.46 583.06,-214.42 609.8,-215.89\"/>\r\n<polygon fill=\"black\" stroke=\"black\" points=\"609.87,-219.4 620.05,-216.47 610.27,-212.41 609.87,-219.4\"/>\r\n<text text-anchor=\"middle\" x=\"445.63\" y=\"-215.46\" font-family=\"Times New Roman,serif\" font-size=\"14.00\">x3</text>\r\n</g>\r\n<!-- 4 -->\r\n<g id=\"node6\" class=\"node\">\r\n<title>4</title>\r\n<ellipse fill=\"none\" stroke=\"black\" cx=\"445.63\" cy=\"-263.66\" rx=\"26.8\" ry=\"26.8\"/>\r\n<text text-anchor=\"middle\" x=\"445.63\" y=\"-259.96\" font-family=\"Times New Roman,serif\" font-size=\"14.00\">4/y2</text>\r\n</g>\r\n<!-- 1&#45;&gt;4 -->\r\n<g id=\"edge14\" class=\"edge\">\r\n<title>1&#45;&gt;4</title>\r\n<path fill=\"none\" stroke=\"black\" d=\"M255.29,-271.99C269.65,-260 290.43,-245.19 311.79,-238.66 345.17,-228.46 384.6,-238.55 411.79,-248.8\"/>\r\n<polygon fill=\"black\" stroke=\"black\" points=\"410.63,-252.11 421.22,-252.55 413.21,-245.6 410.63,-252.11\"/>\r\n<text text-anchor=\"middle\" x=\"338.43\" y=\"-242.46\" font-family=\"Times New Roman,serif\" font-size=\"14.00\">x1</text>\r\n</g>\r\n<!-- 5 -->\r\n<g id=\"node7\" class=\"node\">\r\n<title>5</title>\r\n<ellipse fill=\"none\" stroke=\"black\" cx=\"338.43\" cy=\"-289.66\" rx=\"26.8\" ry=\"26.8\"/>\r\n<text text-anchor=\"middle\" x=\"338.43\" y=\"-285.96\" font-family=\"Times New Roman,serif\" font-size=\"14.00\">5/y1</text>\r\n</g>\r\n<!-- 1&#45;&gt;5 -->\r\n<g id=\"edge15\" class=\"edge\">\r\n<title>1&#45;&gt;5</title>\r\n<path fill=\"none\" stroke=\"black\" d=\"M261.96,-289.66C273.99,-289.66 288.49,-289.66 301.56,-289.66\"/>\r\n<polygon fill=\"black\" stroke=\"black\" points=\"301.66,-293.17 311.66,-289.66 301.66,-286.17 301.66,-293.17\"/>\r\n<text text-anchor=\"middle\" x=\"286.79\" y=\"-293.46\" font-family=\"Times New Roman,serif\" font-size=\"14.00\">x2</text>\r\n</g>\r\n<!-- 2&#45;&gt;1 -->\r\n<g id=\"edge5\" class=\"edge\">\r\n<title>2&#45;&gt;1</title>\r\n<path fill=\"none\" stroke=\"black\" d=\"M526.03,-429.51C482.97,-430.32 383.4,-427.55 311.79,-389.66 284.56,-375.26 264.32,-346.23 251.66,-323.14\"/>\r\n<polygon fill=\"black\" stroke=\"black\" points=\"254.61,-321.22 246.86,-313.99 248.41,-324.47 254.61,-321.22\"/>\r\n<text text-anchor=\"middle\" x=\"390.08\" y=\"-421.46\" font-family=\"Times New Roman,serif\" font-size=\"14.00\">x1</text>\r\n</g>\r\n<!-- 2&#45;&gt;2 -->\r\n<g id=\"edge6\" class=\"edge\">\r\n<title>2&#45;&gt;2</title>\r\n<path fill=\"none\" stroke=\"black\" d=\"M539.9,-449.3C538.75,-459.59 541.54,-468.76 548.27,-468.76 552.59,-468.76 555.29,-465 556.36,-459.58\"/>\r\n<polygon fill=\"black\" stroke=\"black\" points=\"559.87,-459.39 556.64,-449.3 552.87,-459.2 559.87,-459.39\"/>\r\n<text text-anchor=\"middle\" x=\"548.27\" y=\"-472.56\" font-family=\"Times New Roman,serif\" font-size=\"14.00\">x2</text>\r\n</g>\r\n<!-- 2&#45;&gt;3 -->\r\n<g id=\"edge7\" class=\"edge\">\r\n<title>2&#45;&gt;3</title>\r\n<path fill=\"none\" stroke=\"black\" d=\"M566.91,-416.76C578.7,-407.88 593.6,-394.73 602.37,-379.66 626.37,-338.45 635.14,-283 638.34,-248.83\"/>\r\n<polygon fill=\"black\" stroke=\"black\" points=\"641.85,-248.79 639.19,-238.53 634.88,-248.21 641.85,-248.79\"/>\r\n<text text-anchor=\"middle\" x=\"595.37\" y=\"-400.46\" font-family=\"Times New Roman,serif\" font-size=\"14.00\">x3</text>\r\n</g>\r\n<!-- &#45; -->\r\n<g id=\"node13\" class=\"node\">\r\n<title>&#45;</title>\r\n<ellipse fill=\"hotpink\" stroke=\"black\" cx=\"729.97\" cy=\"-217.66\" rx=\"18\" ry=\"18\"/>\r\n<text text-anchor=\"middle\" x=\"729.97\" y=\"-213.96\" font-family=\"Times New Roman,serif\" font-size=\"14.00\">&#45;</text>\r\n</g>\r\n<!-- 3&#45;&gt;&#45; -->\r\n<g id=\"edge17\" class=\"edge\">\r\n<title>3&#45;&gt;&#45;</title>\r\n<path fill=\"none\" stroke=\"black\" d=\"M659.71,-227.8C669.65,-232.35 682.38,-236.19 693.97,-233.66 697.47,-232.9 701.04,-231.76 704.5,-230.42\"/>\r\n<polygon fill=\"black\" stroke=\"black\" points=\"706.05,-233.56 713.79,-226.33 703.22,-227.16 706.05,-233.56\"/>\r\n<text text-anchor=\"middle\" x=\"686.97\" y=\"-238.46\" font-family=\"Times New Roman,serif\" font-size=\"14.00\">x1</text>\r\n</g>\r\n<!-- 3&#45;&gt;&#45; -->\r\n<g id=\"edge18\" class=\"edge\">\r\n<title>3&#45;&gt;&#45;</title>\r\n<path fill=\"none\" stroke=\"black\" d=\"M662.33,-215.55C671.92,-214.79 683.53,-214.22 693.97,-214.66 696.53,-214.77 699.19,-214.93 701.85,-215.11\"/>\r\n<polygon fill=\"black\" stroke=\"black\" points=\"701.65,-218.61 711.9,-215.91 702.21,-211.63 701.65,-218.61\"/>\r\n<text text-anchor=\"middle\" x=\"686.97\" y=\"-218.46\" font-family=\"Times New Roman,serif\" font-size=\"14.00\">x2</text>\r\n</g>\r\n<!-- 3&#45;&gt;&#45; -->\r\n<g id=\"edge19\" class=\"edge\">\r\n<title>3&#45;&gt;&#45;</title>\r\n<path fill=\"none\" stroke=\"black\" d=\"M657.68,-204.97C667.79,-198.24 681.39,-192.04 693.97,-195.66 698.43,-196.95 702.88,-199 707.03,-201.33\"/>\r\n<polygon fill=\"black\" stroke=\"black\" points=\"705.22,-204.32 715.54,-206.73 708.97,-198.41 705.22,-204.32\"/>\r\n<text text-anchor=\"middle\" x=\"686.97\" y=\"-199.46\" font-family=\"Times New Roman,serif\" font-size=\"14.00\">x3</text>\r\n</g>\r\n<!-- 4&#45;&gt;3 -->\r\n<g id=\"edge20\" class=\"edge\">\r\n<title>4&#45;&gt;3</title>\r\n<path fill=\"none\" stroke=\"black\" d=\"M472,-259.67C503.06,-254.51 557.12,-244.61 602.37,-231.66 605.53,-230.76 608.81,-229.72 612.05,-228.61\"/>\r\n<polygon fill=\"black\" stroke=\"black\" points=\"613.29,-231.89 621.52,-225.21 610.92,-225.3 613.29,-231.89\"/>\r\n<text text-anchor=\"middle\" x=\"548.27\" y=\"-253.46\" font-family=\"Times New Roman,serif\" font-size=\"14.00\">x1</text>\r\n</g>\r\n<!-- 4&#45;&gt;3 -->\r\n<g id=\"edge22\" class=\"edge\">\r\n<title>4&#45;&gt;3</title>\r\n<path fill=\"none\" stroke=\"black\" d=\"M471.88,-269.4C497.31,-274.1 537.41,-278.51 570.37,-268.66 588.71,-263.18 606.1,-250.51 618.93,-239.16\"/>\r\n<polygon fill=\"black\" stroke=\"black\" points=\"621.34,-241.71 626.31,-232.35 616.59,-236.57 621.34,-241.71\"/>\r\n<text text-anchor=\"middle\" x=\"548.27\" y=\"-278.46\" font-family=\"Times New Roman,serif\" font-size=\"14.00\">x3</text>\r\n</g>\r\n<!-- 6 -->\r\n<g id=\"node8\" class=\"node\">\r\n<title>6</title>\r\n<ellipse fill=\"none\" stroke=\"black\" cx=\"548.27\" cy=\"-134.66\" rx=\"22.2\" ry=\"22.2\"/>\r\n<text text-anchor=\"middle\" x=\"548.27\" y=\"-130.96\" font-family=\"Times New Roman,serif\" font-size=\"14.00\">6/y</text>\r\n</g>\r\n<!-- 4&#45;&gt;6 -->\r\n<g id=\"edge21\" class=\"edge\">\r\n<title>4&#45;&gt;6</title>\r\n<path fill=\"none\" stroke=\"black\" d=\"M462.8,-242.94C480.49,-220.26 508.86,-183.9 527.77,-159.66\"/>\r\n<polygon fill=\"black\" stroke=\"black\" points=\"530.64,-161.67 534.04,-151.63 525.13,-157.36 530.64,-161.67\"/>\r\n<text text-anchor=\"middle\" x=\"501.18\" y=\"-203.46\" font-family=\"Times New Roman,serif\" font-size=\"14.00\">x2</text>\r\n</g>\r\n<!-- 5&#45;&gt;4 -->\r\n<g id=\"edge29\" class=\"edge\">\r\n<title>5&#45;&gt;4</title>\r\n<path fill=\"none\" stroke=\"black\" d=\"M364.36,-283.5C377.89,-280.16 394.83,-275.97 409.65,-272.31\"/>\r\n<polygon fill=\"black\" stroke=\"black\" points=\"410.65,-275.67 419.51,-269.87 408.97,-268.87 410.65,-275.67\"/>\r\n<text text-anchor=\"middle\" x=\"390.08\" y=\"-282.46\" font-family=\"Times New Roman,serif\" font-size=\"14.00\">x1</text>\r\n</g>\r\n<!-- 5&#45;&gt;5 -->\r\n<g id=\"edge31\" class=\"edge\">\r\n<title>5&#45;&gt;5</title>\r\n<path fill=\"none\" stroke=\"black\" d=\"M329.14,-314.91C328.5,-325.41 331.6,-334.31 338.43,-334.31 342.81,-334.31 345.66,-330.66 346.97,-325.27\"/>\r\n<polygon fill=\"black\" stroke=\"black\" points=\"350.49,-325.14 347.73,-314.91 343.51,-324.63 350.49,-325.14\"/>\r\n<text text-anchor=\"middle\" x=\"338.43\" y=\"-338.11\" font-family=\"Times New Roman,serif\" font-size=\"14.00\">x3</text>\r\n</g>\r\n<!-- 10 -->\r\n<g id=\"node12\" class=\"node\">\r\n<title>10</title>\r\n<ellipse fill=\"none\" stroke=\"black\" cx=\"445.63\" cy=\"-367.66\" rx=\"30.59\" ry=\"30.59\"/>\r\n<text text-anchor=\"middle\" x=\"445.63\" y=\"-363.96\" font-family=\"Times New Roman,serif\" font-size=\"14.00\">10/y1</text>\r\n</g>\r\n<!-- 5&#45;&gt;10 -->\r\n<g id=\"edge30\" class=\"edge\">\r\n<title>5&#45;&gt;10</title>\r\n<path fill=\"none\" stroke=\"black\" d=\"M360.22,-305.08C375.14,-316.14 395.53,-331.26 412.54,-343.87\"/>\r\n<polygon fill=\"black\" stroke=\"black\" points=\"410.46,-346.69 420.58,-349.83 414.63,-341.06 410.46,-346.69\"/>\r\n<text text-anchor=\"middle\" x=\"390.08\" y=\"-334.46\" font-family=\"Times New Roman,serif\" font-size=\"14.00\">x2</text>\r\n</g>\r\n<!-- 6&#45;&gt;3 -->\r\n<g id=\"edge23\" class=\"edge\">\r\n<title>6&#45;&gt;3</title>\r\n<path fill=\"none\" stroke=\"black\" d=\"M565.11,-149.12C579.62,-162.37 601.27,-182.14 617.59,-197.05\"/>\r\n<polygon fill=\"black\" stroke=\"black\" points=\"615.38,-199.77 625.12,-203.92 620.1,-194.6 615.38,-199.77\"/>\r\n<text text-anchor=\"middle\" x=\"595.37\" y=\"-185.46\" font-family=\"Times New Roman,serif\" font-size=\"14.00\">x1</text>\r\n</g>\r\n<!-- 6&#45;&gt;3 -->\r\n<g id=\"edge25\" class=\"edge\">\r\n<title>6&#45;&gt;3</title>\r\n<path fill=\"none\" stroke=\"black\" d=\"M570.13,-138.12C580.69,-140.71 593.18,-145.15 602.37,-152.66 614.05,-162.21 622.89,-176.38 629.07,-189.06\"/>\r\n<polygon fill=\"black\" stroke=\"black\" points=\"625.96,-190.69 633.28,-198.36 632.34,-187.81 625.96,-190.69\"/>\r\n<text text-anchor=\"middle\" x=\"595.37\" y=\"-156.46\" font-family=\"Times New Roman,serif\" font-size=\"14.00\">x3</text>\r\n</g>\r\n<!-- 6&#45;&gt;6 -->\r\n<g id=\"edge24\" class=\"edge\">\r\n<title>6&#45;&gt;6</title>\r\n<path fill=\"none\" stroke=\"black\" d=\"M539.9,-155.3C538.75,-165.59 541.54,-174.76 548.27,-174.76 552.59,-174.76 555.29,-171 556.36,-165.58\"/>\r\n<polygon fill=\"black\" stroke=\"black\" points=\"559.87,-165.39 556.64,-155.3 552.87,-165.2 559.87,-165.39\"/>\r\n<text text-anchor=\"middle\" x=\"548.27\" y=\"-178.56\" font-family=\"Times New Roman,serif\" font-size=\"14.00\">x2</text>\r\n</g>\r\n<!-- 7 -->\r\n<g id=\"node9\" class=\"node\">\r\n<title>7</title>\r\n<ellipse fill=\"none\" stroke=\"black\" cx=\"131.84\" cy=\"-237.66\" rx=\"26.8\" ry=\"26.8\"/>\r\n<text text-anchor=\"middle\" x=\"131.84\" y=\"-233.96\" font-family=\"Times New Roman,serif\" font-size=\"14.00\">7/y2</text>\r\n</g>\r\n<!-- 7&#45;&gt;1 -->\r\n<g id=\"edge8\" class=\"edge\">\r\n<title>7&#45;&gt;1</title>\r\n<path fill=\"none\" stroke=\"black\" d=\"M155.83,-249.46C169.46,-256.46 186.95,-265.44 201.94,-273.14\"/>\r\n<polygon fill=\"black\" stroke=\"black\" points=\"200.4,-276.28 210.89,-277.73 203.6,-270.05 200.4,-276.28\"/>\r\n<text text-anchor=\"middle\" x=\"183.49\" y=\"-271.46\" font-family=\"Times New Roman,serif\" font-size=\"14.00\">x1</text>\r\n</g>\r\n<!-- 7&#45;&gt;2 -->\r\n<g id=\"edge9\" class=\"edge\">\r\n<title>7&#45;&gt;2</title>\r\n<path fill=\"none\" stroke=\"black\" d=\"M148.2,-258.98C176.27,-296.33 239.67,-373.44 311.79,-413.66 383.47,-453.65 412.12,-440.59 494.18,-442.66 500.4,-442.82 502.05,-443.73 508.18,-442.66 511.44,-442.1 514.8,-441.28 518.11,-440.33\"/>\r\n<polygon fill=\"black\" stroke=\"black\" points=\"519.34,-443.6 527.74,-437.14 517.15,-436.96 519.34,-443.6\"/>\r\n<text text-anchor=\"middle\" x=\"338.43\" y=\"-439.46\" font-family=\"Times New Roman,serif\" font-size=\"14.00\">x2</text>\r\n</g>\r\n<!-- 7&#45;&gt;3 -->\r\n<g id=\"edge10\" class=\"edge\">\r\n<title>7&#45;&gt;3</title>\r\n<path fill=\"none\" stroke=\"black\" d=\"M139.7,-212.02C151.77,-173.37 180.73,-104.66 234.14,-104.66 234.14,-104.66 234.14,-104.66 446.63,-104.66 501.63,-104.66 520.51,-80.47 570.37,-103.66 603.92,-119.27 622.75,-159.65 632.19,-187.9\"/>\r\n<polygon fill=\"black\" stroke=\"black\" points=\"628.92,-189.18 635.25,-197.68 635.6,-187.1 628.92,-189.18\"/>\r\n<text text-anchor=\"middle\" x=\"390.08\" y=\"-108.46\" font-family=\"Times New Roman,serif\" font-size=\"14.00\">x3</text>\r\n</g>\r\n<!-- 8 -->\r\n<g id=\"node10\" class=\"node\">\r\n<title>8</title>\r\n<ellipse fill=\"none\" stroke=\"black\" cx=\"445.63\" cy=\"-45.66\" rx=\"26.8\" ry=\"26.8\"/>\r\n<text text-anchor=\"middle\" x=\"445.63\" y=\"-41.96\" font-family=\"Times New Roman,serif\" font-size=\"14.00\">8/y1</text>\r\n</g>\r\n<!-- 8&#45;&gt;3 -->\r\n<g id=\"edge26\" class=\"edge\">\r\n<title>8&#45;&gt;3</title>\r\n<path fill=\"none\" stroke=\"black\" d=\"M468.14,-30.99C483.54,-21.41 505.19,-9.76 526.18,-4.66 560.55,3.67 583.22,2.08 602.37,-27.66 633.97,-76.75 640.1,-146.63 640.77,-186.53\"/>\r\n<polygon fill=\"black\" stroke=\"black\" points=\"637.27,-186.73 640.83,-196.71 644.27,-186.69 637.27,-186.73\"/>\r\n<text text-anchor=\"middle\" x=\"548.27\" y=\"-8.46\" font-family=\"Times New Roman,serif\" font-size=\"14.00\">x1</text>\r\n</g>\r\n<!-- 8&#45;&gt;3 -->\r\n<g id=\"edge28\" class=\"edge\">\r\n<title>8&#45;&gt;3</title>\r\n<path fill=\"none\" stroke=\"black\" d=\"M471.93,-40.85C507.41,-35.74 571.09,-32.92 602.37,-70.66 629.72,-103.66 637.57,-154.05 639.67,-186.42\"/>\r\n<polygon fill=\"black\" stroke=\"black\" points=\"636.18,-186.85 640.18,-196.66 643.18,-186.5 636.18,-186.85\"/>\r\n<text text-anchor=\"middle\" x=\"548.27\" y=\"-51.46\" font-family=\"Times New Roman,serif\" font-size=\"14.00\">x3</text>\r\n</g>\r\n<!-- 8&#45;&gt;6 -->\r\n<g id=\"edge27\" class=\"edge\">\r\n<title>8&#45;&gt;6</title>\r\n<path fill=\"none\" stroke=\"black\" d=\"M466.03,-62.82C482.48,-77.37 506.12,-98.27 523.66,-113.78\"/>\r\n<polygon fill=\"black\" stroke=\"black\" points=\"521.43,-116.49 531.24,-120.49 526.07,-111.24 521.43,-116.49\"/>\r\n<text text-anchor=\"middle\" x=\"501.18\" y=\"-102.46\" font-family=\"Times New Roman,serif\" font-size=\"14.00\">x2</text>\r\n</g>\r\n<!-- 9 -->\r\n<g id=\"node11\" class=\"node\">\r\n<title>9</title>\r\n<ellipse fill=\"none\" stroke=\"black\" cx=\"22.1\" cy=\"-75.66\" rx=\"22.2\" ry=\"22.2\"/>\r\n<text text-anchor=\"middle\" x=\"22.1\" y=\"-71.96\" font-family=\"Times New Roman,serif\" font-size=\"14.00\">9/y</text>\r\n</g>\r\n<!-- 9&#45;&gt;7 -->\r\n<g id=\"edge32\" class=\"edge\">\r\n<title>9&#45;&gt;7</title>\r\n<path fill=\"none\" stroke=\"black\" d=\"M35.04,-93.62C53.3,-121.07 88.37,-173.8 110.64,-207.28\"/>\r\n<polygon fill=\"black\" stroke=\"black\" points=\"107.83,-209.38 116.28,-215.77 113.65,-205.5 107.83,-209.38\"/>\r\n<text text-anchor=\"middle\" x=\"74.7\" y=\"-175.46\" font-family=\"Times New Roman,serif\" font-size=\"14.00\">x1</text>\r\n</g>\r\n<!-- 9&#45;&gt;8 -->\r\n<g id=\"edge33\" class=\"edge\">\r\n<title>9&#45;&gt;8</title>\r\n<path fill=\"none\" stroke=\"black\" d=\"M43.54,-69.56C65.06,-63.67 100.02,-55.66 130.84,-55.66 130.84,-55.66 130.84,-55.66 339.43,-55.66 362.71,-55.66 388.76,-53.21 409.11,-50.73\"/>\r\n<polygon fill=\"black\" stroke=\"black\" points=\"409.71,-54.18 419.19,-49.45 408.82,-47.24 409.71,-54.18\"/>\r\n<text text-anchor=\"middle\" x=\"235.14\" y=\"-59.46\" font-family=\"Times New Roman,serif\" font-size=\"14.00\">x2</text>\r\n</g>\r\n<!-- 9&#45;&gt;9 -->\r\n<g id=\"edge34\" class=\"edge\">\r\n<title>9&#45;&gt;9</title>\r\n<path fill=\"none\" stroke=\"black\" d=\"M12.69,-95.88C11.24,-106.34 14.38,-115.76 22.1,-115.76 27.16,-115.76 30.26,-111.7 31.37,-105.96\"/>\r\n<polygon fill=\"black\" stroke=\"black\" points=\"34.87,-105.93 31.51,-95.88 27.87,-105.84 34.87,-105.93\"/>\r\n<text text-anchor=\"middle\" x=\"22.1\" y=\"-119.56\" font-family=\"Times New Roman,serif\" font-size=\"14.00\">x3</text>\r\n</g>\r\n<!-- 10&#45;&gt;1 -->\r\n<g id=\"edge11\" class=\"edge\">\r\n<title>10&#45;&gt;1</title>\r\n<path fill=\"none\" stroke=\"black\" d=\"M415.1,-371.08C387.3,-373.07 345.06,-372.87 311.79,-358.66 291.18,-349.87 272.53,-333.01 258.9,-318.16\"/>\r\n<polygon fill=\"black\" stroke=\"black\" points=\"261.5,-315.81 252.25,-310.63 256.25,-320.44 261.5,-315.81\"/>\r\n<text text-anchor=\"middle\" x=\"338.43\" y=\"-374.46\" font-family=\"Times New Roman,serif\" font-size=\"14.00\">x1</text>\r\n</g>\r\n<!-- 10&#45;&gt;2 -->\r\n<g id=\"edge12\" class=\"edge\">\r\n<title>10&#45;&gt;2</title>\r\n<path fill=\"none\" stroke=\"black\" d=\"M473.5,-380.47C484.47,-386 497.15,-392.77 508.18,-399.66 512.92,-402.63 517.83,-406.01 522.5,-409.38\"/>\r\n<polygon fill=\"black\" stroke=\"black\" points=\"520.44,-412.21 530.56,-415.36 524.61,-406.59 520.44,-412.21\"/>\r\n<text text-anchor=\"middle\" x=\"501.18\" y=\"-403.46\" font-family=\"Times New Roman,serif\" font-size=\"14.00\">x2</text>\r\n</g>\r\n<!-- 10&#45;&gt;3 -->\r\n<g id=\"edge13\" class=\"edge\">\r\n<title>10&#45;&gt;3</title>\r\n<path fill=\"none\" stroke=\"black\" d=\"M473.73,-355.59C507.02,-339.75 563.81,-309.37 602.37,-270.66 610.27,-262.74 617.71,-253.02 623.87,-244.07\"/>\r\n<polygon fill=\"black\" stroke=\"black\" points=\"626.96,-245.75 629.57,-235.48 621.12,-241.88 626.96,-245.75\"/>\r\n<text text-anchor=\"middle\" x=\"548.27\" y=\"-330.46\" font-family=\"Times New Roman,serif\" font-size=\"14.00\">x3</text>\r\n</g>\r\n</g>\r\n</svg>\r\n",
      "text/plain": [
       "<graphviz.files.Source at 0x29216c45e80>"
      ]
     },
     "metadata": {},
     "output_type": "display_data"
    }
   ],
   "source": [
    "fstMoore = fst.asMoore()\n",
    "display(Markdown(fstMoore.toMdTable()))\n",
    "display(graphviz.Source(fstMoore.toDot()))"
   ]
  },
  {
   "cell_type": "code",
   "execution_count": 8,
   "metadata": {},
   "outputs": [
    {
     "name": "stdout",
     "output_type": "stream",
     "text": [
      "['x1', 'x1', 'x1', 'x1']\n",
      "['y1', 'y2', -1, -1]\n",
      "['y1', 'y2', -1, -1]\n",
      "-----\n",
      "['x1', 'x1', 'x2', 'x1', 'x1']\n",
      "['y1', 'y2', 'y', -1, -1]\n",
      "['y1', 'y2', 'y', -1, -1]\n",
      "-----\n",
      "['x1', 'x1', 'x2', 'x2']\n",
      "['y1', 'y2', 'y', 'y']\n",
      "['y1', 'y2', 'y', 'y']\n",
      "-----\n",
      "['x1', 'x1', 'x2', 'x3', 'x1']\n",
      "['y1', 'y2', 'y', -1, -1]\n",
      "['y1', 'y2', 'y', -1, -1]\n",
      "-----\n",
      "['x1', 'x1', 'x3', 'x1']\n",
      "['y1', 'y2', -1, -1]\n",
      "['y1', 'y2', -1, -1]\n",
      "-----\n",
      "['x1', 'x2', 'x1', 'x1', 'x1']\n",
      "['y1', 'y1', 'y2', -1, -1]\n",
      "['y1', 'y1', 'y2', -1, -1]\n",
      "-----\n",
      "['x1', 'x2', 'x1', 'x2', 'x1', 'x1']\n",
      "['y1', 'y1', 'y2', 'y', -1, -1]\n",
      "['y1', 'y1', 'y2', 'y', -1, -1]\n",
      "-----\n",
      "['x1', 'x2', 'x1', 'x2', 'x2']\n",
      "['y1', 'y1', 'y2', 'y', 'y']\n",
      "['y1', 'y1', 'y2', 'y', 'y']\n",
      "-----\n",
      "['x1', 'x2', 'x1', 'x2', 'x3', 'x1']\n",
      "['y1', 'y1', 'y2', 'y', -1, -1]\n",
      "['y1', 'y1', 'y2', 'y', -1, -1]\n",
      "-----\n",
      "['x1', 'x2', 'x1', 'x3', 'x1']\n",
      "['y1', 'y1', 'y2', -1, -1]\n",
      "['y1', 'y1', 'y2', -1, -1]\n",
      "-----\n",
      "['x1', 'x2', 'x2', 'x1']\n",
      "['y1', 'y1', 'y1', 'y1']\n",
      "['y1', 'y1', 'y1', 'y1']\n",
      "-----\n",
      "['x1', 'x2', 'x2', 'x2', 'x1']\n",
      "['y1', 'y1', 'y1', 'y', 'y1']\n",
      "['y1', 'y1', 'y1', 'y', 'y1']\n",
      "-----\n",
      "['x1', 'x2', 'x2', 'x2', 'x2']\n",
      "['y1', 'y1', 'y1', 'y', 'y']\n",
      "['y1', 'y1', 'y1', 'y', 'y']\n",
      "-----\n",
      "['x1', 'x2', 'x2', 'x2', 'x3', 'x1']\n",
      "['y1', 'y1', 'y1', 'y', -1, -1]\n",
      "['y1', 'y1', 'y1', 'y', -1, -1]\n",
      "-----\n",
      "['x1', 'x2', 'x2', 'x3', 'x1']\n",
      "['y1', 'y1', 'y1', -1, -1]\n",
      "['y1', 'y1', 'y1', -1, -1]\n",
      "-----\n",
      "['x1', 'x2', 'x3']\n",
      "['y1', 'y1', 'y1']\n",
      "['y1', 'y1', 'y1']\n",
      "-----\n",
      "['x1', 'x3', 'x1']\n",
      "['y1', -1, -1]\n",
      "['y1', -1, -1]\n",
      "-----\n",
      "['x2', 'x1', 'x1', 'x1', 'x1']\n",
      "['y', 'y1', 'y2', -1, -1]\n",
      "['y', 'y1', 'y2', -1, -1]\n",
      "-----\n",
      "['x2', 'x1', 'x1', 'x2', 'x1', 'x1']\n",
      "['y', 'y1', 'y2', 'y', -1, -1]\n",
      "['y', 'y1', 'y2', 'y', -1, -1]\n",
      "-----\n",
      "['x2', 'x1', 'x1', 'x2', 'x2']\n",
      "['y', 'y1', 'y2', 'y', 'y']\n",
      "['y', 'y1', 'y2', 'y', 'y']\n",
      "-----\n",
      "['x2', 'x1', 'x1', 'x2', 'x3', 'x1']\n",
      "['y', 'y1', 'y2', 'y', -1, -1]\n",
      "['y', 'y1', 'y2', 'y', -1, -1]\n",
      "-----\n",
      "['x2', 'x1', 'x1', 'x3', 'x1']\n",
      "['y', 'y1', 'y2', -1, -1]\n",
      "['y', 'y1', 'y2', -1, -1]\n",
      "-----\n",
      "['x2', 'x1', 'x2', 'x1', 'x1', 'x1']\n",
      "['y', 'y1', 'y1', 'y2', -1, -1]\n",
      "['y', 'y1', 'y1', 'y2', -1, -1]\n",
      "-----\n",
      "['x2', 'x1', 'x2', 'x1', 'x2', 'x1', 'x1']\n",
      "['y', 'y1', 'y1', 'y2', 'y', -1, -1]\n",
      "['y', 'y1', 'y1', 'y2', 'y', -1, -1]\n",
      "-----\n",
      "['x2', 'x1', 'x2', 'x1', 'x2', 'x2']\n",
      "['y', 'y1', 'y1', 'y2', 'y', 'y']\n",
      "['y', 'y1', 'y1', 'y2', 'y', 'y']\n",
      "-----\n",
      "['x2', 'x1', 'x2', 'x1', 'x2', 'x3', 'x1']\n",
      "['y', 'y1', 'y1', 'y2', 'y', -1, -1]\n",
      "['y', 'y1', 'y1', 'y2', 'y', -1, -1]\n",
      "-----\n",
      "['x2', 'x1', 'x2', 'x1', 'x3', 'x1']\n",
      "['y', 'y1', 'y1', 'y2', -1, -1]\n",
      "['y', 'y1', 'y1', 'y2', -1, -1]\n",
      "-----\n",
      "['x2', 'x1', 'x2', 'x2', 'x1']\n",
      "['y', 'y1', 'y1', 'y1', 'y1']\n",
      "['y', 'y1', 'y1', 'y1', 'y1']\n",
      "-----\n",
      "['x2', 'x1', 'x2', 'x2', 'x2']\n",
      "['y', 'y1', 'y1', 'y1', 'y']\n",
      "['y', 'y1', 'y1', 'y1', 'y']\n",
      "-----\n",
      "['x2', 'x1', 'x2', 'x2', 'x3', 'x1']\n",
      "['y', 'y1', 'y1', 'y1', -1, -1]\n",
      "['y', 'y1', 'y1', 'y1', -1, -1]\n",
      "-----\n",
      "['x2', 'x1', 'x2', 'x3']\n",
      "['y', 'y1', 'y1', 'y1']\n",
      "['y', 'y1', 'y1', 'y1']\n",
      "-----\n",
      "['x2', 'x1', 'x3', 'x1']\n",
      "['y', 'y1', -1, -1]\n",
      "['y', 'y1', -1, -1]\n",
      "-----\n",
      "['x2', 'x2']\n",
      "['y', 'y']\n",
      "['y', 'y']\n",
      "-----\n",
      "['x2', 'x3', 'x1']\n",
      "['y', -1, -1]\n",
      "['y', -1, -1]\n",
      "-----\n",
      "['x3', 'x1']\n",
      "[-1, -1]\n",
      "[-1, -1]\n",
      "-----\n"
     ]
    }
   ],
   "source": [
    "for testSignal in fstMoore.getTestSignal():\n",
    "    print(testSignal)\n",
    "    print(fst.playFST(testSignal)[0])\n",
    "    print(fstMoore.playFST(testSignal)[0][1:])\n",
    "    print('-----')"
   ]
  }
 ],
 "metadata": {
  "interpreter": {
   "hash": "9d918e7ae3c5315337b02f7b331cb5d3f13a496b9f8ee7e2a16d56f51023da3d"
  },
  "kernelspec": {
   "display_name": "Python 3.9.4 64-bit ('venvdev': venv)",
   "name": "python3"
  },
  "language_info": {
   "codemirror_mode": {
    "name": "ipython",
    "version": 3
   },
   "file_extension": ".py",
   "mimetype": "text/x-python",
   "name": "python",
   "nbconvert_exporter": "python",
   "pygments_lexer": "ipython3",
   "version": "3.9.4"
  },
  "orig_nbformat": 4
 },
 "nbformat": 4,
 "nbformat_minor": 2
}
