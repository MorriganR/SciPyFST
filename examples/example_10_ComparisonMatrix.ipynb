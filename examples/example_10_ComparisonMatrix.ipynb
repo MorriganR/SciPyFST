{
 "cells": [
  {
   "cell_type": "code",
   "execution_count": 1,
   "metadata": {},
   "outputs": [],
   "source": [
    "import time\n",
    "from devSciPyFST import fst, fstUtils\n",
    "from examples_data.MealyFST import mealyFSTmap as mealyFSTmap\n",
    "import graphviz, wavedrom\n",
    "from IPython.display import display, Markdown"
   ]
  },
  {
   "cell_type": "markdown",
   "metadata": {},
   "source": [
    "Comparison matrix"
   ]
  },
  {
   "cell_type": "code",
   "execution_count": 2,
   "metadata": {},
   "outputs": [
    {
     "name": "stdout",
     "output_type": "stream",
     "text": [
      "elapsed time = 12.562480449676514 s\n"
     ]
    },
    {
     "data": {
      "text/markdown": [
       "| FST\\FST | 01_My | 01_Mr | 02_My | 02_Mr | 03_My | 03_Mr | 04_My | 04_Mr | 05_My | 05_Mr | 06_My | 06_Mr | 07_My | 07_Mr | 08_My | 08_Mr | 09_My | 09_Mr | 10_My | 10_Mr |\n",
       "|:--------------:|:---:|:---:|:---:|:---:|:---:|:---:|:---:|:---:|:---:|:---:|:---:|:---:|:---:|:---:|:---:|:---:|:---:|:---:|:---:|:---:|\n",
       "| 01_My | True | True | - | - | - | - | - | - | - | - | - | - | - | - | - | - | - | - | - | - |\n",
       "| 01_Mr | True | True | - | - | - | - | - | - | - | - | - | - | - | - | - | - | - | - | - | - |\n",
       "| 02_My | - | - | True | True | - | - | - | - | - | - | - | - | - | - | - | - | - | - | - | - |\n",
       "| 02_Mr | - | - | True | True | - | - | - | - | - | - | - | - | - | - | - | - | - | - | - | - |\n",
       "| 03_My | - | - | - | - | True | True | - | - | - | - | - | - | - | - | - | - | - | - | - | - |\n",
       "| 03_Mr | - | - | - | - | True | True | - | - | - | - | - | - | - | - | - | - | - | - | - | - |\n",
       "| 04_My | - | - | - | - | - | - | True | True | - | - | - | - | - | - | - | - | - | - | - | - |\n",
       "| 04_Mr | - | - | - | - | - | - | True | True | - | - | - | - | - | - | - | - | - | - | - | - |\n",
       "| 05_My | - | - | - | - | - | - | - | - | True | True | - | - | - | - | - | - | - | - | - | - |\n",
       "| 05_Mr | - | - | - | - | - | - | - | - | True | True | - | - | - | - | - | - | - | - | - | - |\n",
       "| 06_My | - | - | - | - | - | - | - | - | - | - | True | True | - | - | - | - | - | - | - | - |\n",
       "| 06_Mr | - | - | - | - | - | - | - | - | - | - | True | True | - | - | - | - | - | - | - | - |\n",
       "| 07_My | - | - | - | - | - | - | - | - | - | - | - | - | True | True | - | - | - | - | - | - |\n",
       "| 07_Mr | - | - | - | - | - | - | - | - | - | - | - | - | True | True | - | - | - | - | - | - |\n",
       "| 08_My | - | - | - | - | - | - | - | - | - | - | - | - | - | - | True | True | - | - | - | - |\n",
       "| 08_Mr | - | - | - | - | - | - | - | - | - | - | - | - | - | - | True | True | - | - | - | - |\n",
       "| 09_My | - | - | - | - | - | - | - | - | - | - | - | - | - | - | - | - | True | True | - | - |\n",
       "| 09_Mr | - | - | - | - | - | - | - | - | - | - | - | - | - | - | - | - | True | True | - | - |\n",
       "| 10_My | - | - | - | - | - | - | - | - | - | - | - | - | - | - | - | - | - | - | True | True |\n",
       "| 10_Mr | - | - | - | - | - | - | - | - | - | - | - | - | - | - | - | - | - | - | True | True |\n"
      ],
      "text/plain": [
       "<IPython.core.display.Markdown object>"
      ]
     },
     "metadata": {},
     "output_type": "display_data"
    }
   ],
   "source": [
    "tableHeader = '| FST\\\\FST |'\n",
    "tableHeade2 = '|:--------------:|'\n",
    "table = ''\n",
    "nameList = list(mealyFSTmap.keys())\n",
    "for fst_name_r in nameList:\n",
    "    tableHeader += ' {name} |'.format(name = fst_name_r[4:] + '_My')\n",
    "    tableHeader += ' {name} |'.format(name = fst_name_r[4:] + '_Mr')\n",
    "    tableHeade2 += ':---:|:---:|'\n",
    "t = time.time()\n",
    "for fst_name_r in nameList:\n",
    "    init_r = mealyFSTmap[fst_name_r]\n",
    "    tableRowMealy = '| {name} |'.format(name = fst_name_r[4:] + '_My')\n",
    "    tableRowMoore = '| {name} |'.format(name = fst_name_r[4:] + '_Mr')\n",
    "    fstMaely_r = fst(init_r[0], init_r[1], init_r[2], init_r[3], init_r[4], init_r[5])\n",
    "    fstMoore_r = fstMaely_r.asMoore()\n",
    "    for fst_name_c in nameList:\n",
    "        init_c = mealyFSTmap[fst_name_c]\n",
    "        fstMaely_c = fst(init_c[0], init_c[1], init_c[2], init_c[3], init_c[4], init_c[5])\n",
    "        fstMoore_c = fstMaely_c.asMoore()\n",
    "        tableRowMealy += ' {val} |'.format(val = 'True' if fstMaely_r.isSimilar(fstMaely_c) else '-')\n",
    "        tableRowMealy += ' {val} |'.format(val = 'True' if fstMaely_r.isSimilar(fstMoore_c) else '-')\n",
    "        tableRowMoore += ' {val} |'.format(val = 'True' if fstMoore_r.isSimilar(fstMaely_c) else '-')\n",
    "        tableRowMoore += ' {val} |'.format(val = 'True' if fstMoore_r.isSimilar(fstMoore_c) else '-')\n",
    "    table += (tableRowMealy + '\\n')\n",
    "    table += (tableRowMoore + '\\n')\n",
    "elapsed = time.time() - t\n",
    "print('elapsed time = {} s'.format(elapsed))\n",
    "display(Markdown(tableHeader + '\\n' + tableHeade2 + '\\n' + table))"
   ]
  },
  {
   "cell_type": "markdown",
   "metadata": {},
   "source": [
    "Test #06"
   ]
  },
  {
   "cell_type": "code",
   "execution_count": 3,
   "metadata": {},
   "outputs": [
    {
     "data": {
      "text/markdown": [
       "| Input \\ State | a1 | a2 | a3 | a4 |\n",
       "|:---:|:---:|:---:|:---:|:---:|\n",
       "| z1 | a2/w1 | a3/w3 | a4/w3 | -/- |\n",
       "| z2 | a3/w2 | -/- | a2/w1 | a2/w2 |\n"
      ],
      "text/plain": [
       "<IPython.core.display.Markdown object>"
      ]
     },
     "metadata": {},
     "output_type": "display_data"
    },
    {
     "data": {
      "image/svg+xml": "<?xml version=\"1.0\" encoding=\"UTF-8\" standalone=\"no\"?>\r\n<!DOCTYPE svg PUBLIC \"-//W3C//DTD SVG 1.1//EN\"\r\n \"http://www.w3.org/Graphics/SVG/1.1/DTD/svg11.dtd\">\r\n<!-- Generated by graphviz version 2.49.0 (20210828.1703)\r\n -->\r\n<!-- Title: fst Pages: 1 -->\r\n<svg width=\"433pt\" height=\"112pt\"\r\n viewBox=\"0.00 0.00 433.39 111.85\" xmlns=\"http://www.w3.org/2000/svg\" xmlns:xlink=\"http://www.w3.org/1999/xlink\">\r\n<g id=\"graph0\" class=\"graph\" transform=\"scale(1 1) rotate(0) translate(4 107.85)\">\r\n<title>fst</title>\r\n<polygon fill=\"white\" stroke=\"transparent\" points=\"-4,4 -4,-107.85 429.39,-107.85 429.39,4 -4,4\"/>\r\n<!-- a1 -->\r\n<g id=\"node1\" class=\"node\">\r\n<title>a1</title>\r\n<ellipse fill=\"none\" stroke=\"black\" cx=\"83.45\" cy=\"-18.85\" rx=\"18.7\" ry=\"18.7\"/>\r\n<text text-anchor=\"middle\" x=\"83.45\" y=\"-15.15\" font-family=\"Times New Roman,serif\" font-size=\"14.00\">a1</text>\r\n</g>\r\n<!-- a2 -->\r\n<g id=\"node3\" class=\"node\">\r\n<title>a2</title>\r\n<ellipse fill=\"none\" stroke=\"black\" cx=\"191.14\" cy=\"-63.85\" rx=\"18.7\" ry=\"18.7\"/>\r\n<text text-anchor=\"middle\" x=\"191.14\" y=\"-60.15\" font-family=\"Times New Roman,serif\" font-size=\"14.00\">a2</text>\r\n</g>\r\n<!-- a1&#45;&gt;a2 -->\r\n<g id=\"edge2\" class=\"edge\">\r\n<title>a1&#45;&gt;a2</title>\r\n<path fill=\"none\" stroke=\"black\" d=\"M100.96,-25.88C117.85,-33.07 144.33,-44.34 164.06,-52.74\"/>\r\n<polygon fill=\"black\" stroke=\"black\" points=\"162.83,-56.02 173.4,-56.72 165.57,-49.58 162.83,-56.02\"/>\r\n<text text-anchor=\"middle\" x=\"137.3\" y=\"-52.65\" font-family=\"Times New Roman,serif\" font-size=\"14.00\">z1/w1</text>\r\n</g>\r\n<!-- a3 -->\r\n<g id=\"node4\" class=\"node\">\r\n<title>a3</title>\r\n<ellipse fill=\"none\" stroke=\"black\" cx=\"298.84\" cy=\"-42.85\" rx=\"18.7\" ry=\"18.7\"/>\r\n<text text-anchor=\"middle\" x=\"298.84\" y=\"-39.15\" font-family=\"Times New Roman,serif\" font-size=\"14.00\">a3</text>\r\n</g>\r\n<!-- a1&#45;&gt;a3 -->\r\n<g id=\"edge3\" class=\"edge\">\r\n<title>a1&#45;&gt;a3</title>\r\n<path fill=\"none\" stroke=\"black\" d=\"M102.24,-16.92C134.69,-13.97 205.35,-10.21 261.99,-25.85 265.49,-26.81 269.06,-28.1 272.52,-29.53\"/>\r\n<polygon fill=\"black\" stroke=\"black\" points=\"271.33,-32.84 281.88,-33.82 274.25,-26.47 271.33,-32.84\"/>\r\n<text text-anchor=\"middle\" x=\"191.14\" y=\"-20.65\" font-family=\"Times New Roman,serif\" font-size=\"14.00\">z2/w2</text>\r\n</g>\r\n<!-- start0 -->\r\n<g id=\"node2\" class=\"node\">\r\n<title>start0</title>\r\n<ellipse fill=\"black\" stroke=\"black\" cx=\"1.8\" cy=\"-18.85\" rx=\"1.8\" ry=\"1.8\"/>\r\n</g>\r\n<!-- start0&#45;&gt;a1 -->\r\n<g id=\"edge1\" class=\"edge\">\r\n<title>start0&#45;&gt;a1</title>\r\n<path fill=\"none\" stroke=\"black\" d=\"M3.69,-18.85C8.7,-18.85 33.76,-18.85 54.28,-18.85\"/>\r\n<polygon fill=\"black\" stroke=\"black\" points=\"54.47,-22.35 64.47,-18.85 54.47,-15.35 54.47,-22.35\"/>\r\n<text text-anchor=\"middle\" x=\"34.1\" y=\"-22.65\" font-family=\"Times New Roman,serif\" font-size=\"14.00\">start</text>\r\n</g>\r\n<!-- a2&#45;&gt;a3 -->\r\n<g id=\"edge4\" class=\"edge\">\r\n<title>a2&#45;&gt;a3</title>\r\n<path fill=\"none\" stroke=\"black\" d=\"M210.02,-61.16C224.17,-58.94 244.42,-55.56 261.99,-51.85 264.82,-51.25 267.76,-50.59 270.68,-49.9\"/>\r\n<polygon fill=\"black\" stroke=\"black\" points=\"271.52,-53.29 280.4,-47.51 269.85,-46.5 271.52,-53.29\"/>\r\n<text text-anchor=\"middle\" x=\"244.99\" y=\"-62.65\" font-family=\"Times New Roman,serif\" font-size=\"14.00\">z1/w3</text>\r\n</g>\r\n<!-- a3&#45;&gt;a2 -->\r\n<g id=\"edge6\" class=\"edge\">\r\n<title>a3&#45;&gt;a2</title>\r\n<path fill=\"none\" stroke=\"black\" d=\"M281.26,-36.02C266.8,-31.09 245.44,-26.35 227.99,-32.85 222.07,-35.06 216.47,-38.73 211.53,-42.8\"/>\r\n<polygon fill=\"black\" stroke=\"black\" points=\"208.9,-40.47 203.91,-49.81 213.64,-45.61 208.9,-40.47\"/>\r\n<text text-anchor=\"middle\" x=\"244.99\" y=\"-36.65\" font-family=\"Times New Roman,serif\" font-size=\"14.00\">z2/w1</text>\r\n</g>\r\n<!-- a4 -->\r\n<g id=\"node5\" class=\"node\">\r\n<title>a4</title>\r\n<ellipse fill=\"none\" stroke=\"black\" cx=\"406.54\" cy=\"-76.85\" rx=\"18.7\" ry=\"18.7\"/>\r\n<text text-anchor=\"middle\" x=\"406.54\" y=\"-73.15\" font-family=\"Times New Roman,serif\" font-size=\"14.00\">a4</text>\r\n</g>\r\n<!-- a3&#45;&gt;a4 -->\r\n<g id=\"edge5\" class=\"edge\">\r\n<title>a3&#45;&gt;a4</title>\r\n<path fill=\"none\" stroke=\"black\" d=\"M317.3,-48.46C334,-53.83 359.42,-62.01 378.7,-68.21\"/>\r\n<polygon fill=\"black\" stroke=\"black\" points=\"377.82,-71.61 388.41,-71.34 379.96,-64.94 377.82,-71.61\"/>\r\n<text text-anchor=\"middle\" x=\"352.69\" y=\"-69.65\" font-family=\"Times New Roman,serif\" font-size=\"14.00\">z1/w3</text>\r\n</g>\r\n<!-- a4&#45;&gt;a2 -->\r\n<g id=\"edge7\" class=\"edge\">\r\n<title>a4&#45;&gt;a2</title>\r\n<path fill=\"none\" stroke=\"black\" d=\"M388.16,-81.53C382.34,-82.88 375.77,-84.18 369.69,-84.85 307.02,-91.76 289.55,-91.52 227.99,-77.85 224.73,-77.12 221.38,-76.15 218.09,-75.05\"/>\r\n<polygon fill=\"black\" stroke=\"black\" points=\"219.18,-71.72 208.59,-71.49 216.73,-78.28 219.18,-71.72\"/>\r\n<text text-anchor=\"middle\" x=\"298.84\" y=\"-92.65\" font-family=\"Times New Roman,serif\" font-size=\"14.00\">z2/w2</text>\r\n</g>\r\n</g>\r\n</svg>\r\n",
      "text/plain": [
       "<graphviz.files.Source at 0x212f56048e0>"
      ]
     },
     "metadata": {},
     "output_type": "display_data"
    }
   ],
   "source": [
    "init = mealyFSTmap['test06']\n",
    "fstMealy = fst(init[0], init[1], init[2], init[3], init[4], init[5])\n",
    "display(Markdown(fstUtils.toMdTable(fstMealy)))\n",
    "display(graphviz.Source(fstUtils.toDot(fstMealy)))"
   ]
  },
  {
   "cell_type": "code",
   "execution_count": 4,
   "metadata": {},
   "outputs": [
    {
     "data": {
      "text/markdown": [
       "| Input \\ State | 0/- | 1/w1 | 2/w2 | 3/w3 | 5/w2 | 4/w3 |\n",
       "|:---:|:---:|:---:|:---:|:---:|:---:|:---:|\n",
       "| z1 | 1 | 3 | 4 | 4 | 3 | - |\n",
       "| z2 | 2 | - | 1 | 1 | - | 5 |\n"
      ],
      "text/plain": [
       "<IPython.core.display.Markdown object>"
      ]
     },
     "metadata": {},
     "output_type": "display_data"
    },
    {
     "data": {
      "image/svg+xml": "<?xml version=\"1.0\" encoding=\"UTF-8\" standalone=\"no\"?>\r\n<!DOCTYPE svg PUBLIC \"-//W3C//DTD SVG 1.1//EN\"\r\n \"http://www.w3.org/Graphics/SVG/1.1/DTD/svg11.dtd\">\r\n<!-- Generated by graphviz version 2.49.0 (20210828.1703)\r\n -->\r\n<!-- Title: fst Pages: 1 -->\r\n<svg width=\"645pt\" height=\"126pt\"\r\n viewBox=\"0.00 0.00 645.17 126.19\" xmlns=\"http://www.w3.org/2000/svg\" xmlns:xlink=\"http://www.w3.org/1999/xlink\">\r\n<g id=\"graph0\" class=\"graph\" transform=\"scale(1 1) rotate(0) translate(4 122.19)\">\r\n<title>fst</title>\r\n<polygon fill=\"white\" stroke=\"transparent\" points=\"-4,4 -4,-122.19 641.17,-122.19 641.17,4 -4,4\"/>\r\n<!-- 0 -->\r\n<g id=\"node1\" class=\"node\">\r\n<title>0</title>\r\n<ellipse fill=\"none\" stroke=\"black\" cx=\"85.4\" cy=\"-61.6\" rx=\"20.6\" ry=\"20.6\"/>\r\n<text text-anchor=\"middle\" x=\"85.4\" y=\"-57.9\" font-family=\"Times New Roman,serif\" font-size=\"14.00\">0/&#45;</text>\r\n</g>\r\n<!-- 1 -->\r\n<g id=\"node3\" class=\"node\">\r\n<title>1</title>\r\n<ellipse fill=\"none\" stroke=\"black\" cx=\"289.99\" cy=\"-89.6\" rx=\"28.7\" ry=\"28.7\"/>\r\n<text text-anchor=\"middle\" x=\"289.99\" y=\"-85.9\" font-family=\"Times New Roman,serif\" font-size=\"14.00\">1/w1</text>\r\n</g>\r\n<!-- 0&#45;&gt;1 -->\r\n<g id=\"edge2\" class=\"edge\">\r\n<title>0&#45;&gt;1</title>\r\n<path fill=\"none\" stroke=\"black\" d=\"M106,-64.8C111.85,-65.73 118.28,-66.73 124.2,-67.6 167.75,-73.96 217.89,-80.55 251.32,-84.84\"/>\r\n<polygon fill=\"black\" stroke=\"black\" points=\"251.19,-88.35 261.55,-86.15 252.08,-81.41 251.19,-88.35\"/>\r\n<text text-anchor=\"middle\" x=\"183.79\" y=\"-84.4\" font-family=\"Times New Roman,serif\" font-size=\"14.00\">z1</text>\r\n</g>\r\n<!-- 2 -->\r\n<g id=\"node4\" class=\"node\">\r\n<title>2</title>\r\n<ellipse fill=\"none\" stroke=\"black\" cx=\"183.79\" cy=\"-28.6\" rx=\"28.7\" ry=\"28.7\"/>\r\n<text text-anchor=\"middle\" x=\"183.79\" y=\"-24.9\" font-family=\"Times New Roman,serif\" font-size=\"14.00\">2/w2</text>\r\n</g>\r\n<!-- 0&#45;&gt;2 -->\r\n<g id=\"edge3\" class=\"edge\">\r\n<title>0&#45;&gt;2</title>\r\n<path fill=\"none\" stroke=\"black\" d=\"M105.44,-55.08C117.19,-51.06 132.63,-45.77 146.63,-40.98\"/>\r\n<polygon fill=\"black\" stroke=\"black\" points=\"148.16,-44.15 156.49,-37.6 145.9,-37.53 148.16,-44.15\"/>\r\n<text text-anchor=\"middle\" x=\"130.7\" y=\"-52.4\" font-family=\"Times New Roman,serif\" font-size=\"14.00\">z2</text>\r\n</g>\r\n<!-- start0 -->\r\n<g id=\"node2\" class=\"node\">\r\n<title>start0</title>\r\n<ellipse fill=\"black\" stroke=\"black\" cx=\"1.8\" cy=\"-61.6\" rx=\"1.8\" ry=\"1.8\"/>\r\n</g>\r\n<!-- start0&#45;&gt;0 -->\r\n<g id=\"edge1\" class=\"edge\">\r\n<title>start0&#45;&gt;0</title>\r\n<path fill=\"none\" stroke=\"black\" d=\"M3.72,-61.6C8.75,-61.6 33.56,-61.6 54.36,-61.6\"/>\r\n<polygon fill=\"black\" stroke=\"black\" points=\"54.44,-65.1 64.44,-61.6 54.44,-58.1 54.44,-65.1\"/>\r\n<text text-anchor=\"middle\" x=\"34.1\" y=\"-65.4\" font-family=\"Times New Roman,serif\" font-size=\"14.00\">start</text>\r\n</g>\r\n<!-- 3 -->\r\n<g id=\"node5\" class=\"node\">\r\n<title>3</title>\r\n<ellipse fill=\"none\" stroke=\"black\" cx=\"396.18\" cy=\"-89.6\" rx=\"28.7\" ry=\"28.7\"/>\r\n<text text-anchor=\"middle\" x=\"396.18\" y=\"-85.9\" font-family=\"Times New Roman,serif\" font-size=\"14.00\">3/w3</text>\r\n</g>\r\n<!-- 1&#45;&gt;3 -->\r\n<g id=\"edge4\" class=\"edge\">\r\n<title>1&#45;&gt;3</title>\r\n<path fill=\"none\" stroke=\"black\" d=\"M317.24,-80.77C323.51,-79.04 330.23,-77.49 336.59,-76.6 343.97,-75.57 351.79,-76.12 359.24,-77.47\"/>\r\n<polygon fill=\"black\" stroke=\"black\" points=\"358.57,-80.9 369.09,-79.7 360.12,-74.08 358.57,-80.9\"/>\r\n<text text-anchor=\"middle\" x=\"343.09\" y=\"-80.4\" font-family=\"Times New Roman,serif\" font-size=\"14.00\">z1</text>\r\n</g>\r\n<!-- 2&#45;&gt;1 -->\r\n<g id=\"edge7\" class=\"edge\">\r\n<title>2&#45;&gt;1</title>\r\n<path fill=\"none\" stroke=\"black\" d=\"M208.96,-42.75C223.03,-50.98 240.96,-61.48 256.28,-70.45\"/>\r\n<polygon fill=\"black\" stroke=\"black\" points=\"254.56,-73.49 264.95,-75.53 258.09,-67.45 254.56,-73.49\"/>\r\n<text text-anchor=\"middle\" x=\"236.89\" y=\"-67.4\" font-family=\"Times New Roman,serif\" font-size=\"14.00\">z2</text>\r\n</g>\r\n<!-- 4 -->\r\n<g id=\"node7\" class=\"node\">\r\n<title>4</title>\r\n<ellipse fill=\"none\" stroke=\"black\" cx=\"502.38\" cy=\"-28.6\" rx=\"28.7\" ry=\"28.7\"/>\r\n<text text-anchor=\"middle\" x=\"502.38\" y=\"-24.9\" font-family=\"Times New Roman,serif\" font-size=\"14.00\">4/w3</text>\r\n</g>\r\n<!-- 2&#45;&gt;4 -->\r\n<g id=\"edge6\" class=\"edge\">\r\n<title>2&#45;&gt;4</title>\r\n<path fill=\"none\" stroke=\"black\" d=\"M212.61,-28.6C269.5,-28.6 399.18,-28.6 463.61,-28.6\"/>\r\n<polygon fill=\"black\" stroke=\"black\" points=\"463.74,-32.1 473.74,-28.6 463.74,-25.1 463.74,-32.1\"/>\r\n<text text-anchor=\"middle\" x=\"343.09\" y=\"-32.4\" font-family=\"Times New Roman,serif\" font-size=\"14.00\">z1</text>\r\n</g>\r\n<!-- 3&#45;&gt;1 -->\r\n<g id=\"edge9\" class=\"edge\">\r\n<title>3&#45;&gt;1</title>\r\n<path fill=\"none\" stroke=\"black\" d=\"M367.22,-91.02C361.39,-91.26 355.29,-91.47 349.59,-91.6 342.97,-91.74 335.94,-91.68 329.13,-91.52\"/>\r\n<polygon fill=\"black\" stroke=\"black\" points=\"328.81,-88.01 318.71,-91.18 328.59,-95 328.81,-88.01\"/>\r\n<text text-anchor=\"middle\" x=\"343.09\" y=\"-96.4\" font-family=\"Times New Roman,serif\" font-size=\"14.00\">z2</text>\r\n</g>\r\n<!-- 3&#45;&gt;4 -->\r\n<g id=\"edge8\" class=\"edge\">\r\n<title>3&#45;&gt;4</title>\r\n<path fill=\"none\" stroke=\"black\" d=\"M421.35,-75.45C435.42,-67.21 453.35,-56.71 468.67,-47.74\"/>\r\n<polygon fill=\"black\" stroke=\"black\" points=\"470.48,-50.74 477.34,-42.67 466.95,-44.7 470.48,-50.74\"/>\r\n<text text-anchor=\"middle\" x=\"449.28\" y=\"-67.4\" font-family=\"Times New Roman,serif\" font-size=\"14.00\">z1</text>\r\n</g>\r\n<!-- 5 -->\r\n<g id=\"node6\" class=\"node\">\r\n<title>5</title>\r\n<ellipse fill=\"none\" stroke=\"black\" cx=\"608.57\" cy=\"-61.6\" rx=\"28.7\" ry=\"28.7\"/>\r\n<text text-anchor=\"middle\" x=\"608.57\" y=\"-57.9\" font-family=\"Times New Roman,serif\" font-size=\"14.00\">5/w2</text>\r\n</g>\r\n<!-- 5&#45;&gt;3 -->\r\n<g id=\"edge5\" class=\"edge\">\r\n<title>5&#45;&gt;3</title>\r\n<path fill=\"none\" stroke=\"black\" d=\"M580.06,-65.26C542.89,-70.21 476.48,-79.04 434.74,-84.6\"/>\r\n<polygon fill=\"black\" stroke=\"black\" points=\"434.14,-81.15 424.69,-85.94 435.06,-88.09 434.14,-81.15\"/>\r\n<text text-anchor=\"middle\" x=\"502.38\" y=\"-83.4\" font-family=\"Times New Roman,serif\" font-size=\"14.00\">z1</text>\r\n</g>\r\n<!-- 4&#45;&gt;5 -->\r\n<g id=\"edge10\" class=\"edge\">\r\n<title>4&#45;&gt;5</title>\r\n<path fill=\"none\" stroke=\"black\" d=\"M529.94,-37.01C542.56,-41.01 557.82,-45.84 571.47,-50.16\"/>\r\n<polygon fill=\"black\" stroke=\"black\" points=\"570.47,-53.52 581.06,-53.2 572.58,-46.84 570.47,-53.52\"/>\r\n<text text-anchor=\"middle\" x=\"555.48\" y=\"-51.4\" font-family=\"Times New Roman,serif\" font-size=\"14.00\">z2</text>\r\n</g>\r\n</g>\r\n</svg>\r\n",
      "text/plain": [
       "<graphviz.files.Source at 0x212f4b8f3a0>"
      ]
     },
     "metadata": {},
     "output_type": "display_data"
    }
   ],
   "source": [
    "fstMoore = fstMealy.asMoore()\n",
    "display(Markdown(fstUtils.toMdTable(fstMoore)))\n",
    "display(graphviz.Source(fstUtils.toDot(fstMoore)))"
   ]
  },
  {
   "cell_type": "code",
   "execution_count": 5,
   "metadata": {},
   "outputs": [
    {
     "name": "stdout",
     "output_type": "stream",
     "text": [
      "['z1', 'z1', 'z1', 'z1']\n",
      "['w1', 'w3', 'w3', -1]\n",
      "['w1', 'w3', 'w3', -1]\n",
      "-----\n",
      "['z1', 'z1', 'z2']\n",
      "['w1', 'w3', 'w1']\n",
      "['w1', 'w3', 'w1']\n",
      "-----\n",
      "['z1', 'z2']\n",
      "['w1', -1]\n",
      "['w1', -1]\n",
      "-----\n",
      "['z2', 'z1', 'z1']\n",
      "['w2', 'w3', -1]\n",
      "['w2', 'w3', -1]\n",
      "-----\n",
      "['z2', 'z2', 'z1', 'z1', 'z1']\n",
      "['w2', 'w1', 'w3', 'w3', -1]\n",
      "['w2', 'w1', 'w3', 'w3', -1]\n",
      "-----\n",
      "['z2', 'z2', 'z1', 'z2']\n",
      "['w2', 'w1', 'w3', 'w1']\n",
      "['w2', 'w1', 'w3', 'w1']\n",
      "-----\n",
      "['z2', 'z2', 'z2']\n",
      "['w2', 'w1', -1]\n",
      "['w2', 'w1', -1]\n",
      "-----\n"
     ]
    }
   ],
   "source": [
    "for testSignal in fstMoore.getTestSignal():\n",
    "    print(testSignal)\n",
    "    print(fstMealy.playFST(testSignal)[0])\n",
    "    print(fstMoore.playFST(testSignal)[0])\n",
    "    print('-----')"
   ]
  },
  {
   "cell_type": "markdown",
   "metadata": {},
   "source": [
    "Test #08"
   ]
  },
  {
   "cell_type": "code",
   "execution_count": 6,
   "metadata": {},
   "outputs": [
    {
     "data": {
      "text/markdown": [
       "| Input \\ State | Q1 | Q2 | Q3 | Q4 | Q5 |\n",
       "|:---:|:---:|:---:|:---:|:---:|:---:|\n",
       "| x1 | Q2/y1 | Q3/y2 | -/- | Q1/y2 | Q3/y2 |\n",
       "| x2 | Q1/y2 | Q5/y1 | Q3/y2 | Q3/y1 | Q1/y1 |\n",
       "| x3 | -/- | Q4/y2 | -/- | Q4/y2 | Q5/y1 |\n"
      ],
      "text/plain": [
       "<IPython.core.display.Markdown object>"
      ]
     },
     "metadata": {},
     "output_type": "display_data"
    },
    {
     "data": {
      "image/svg+xml": "<?xml version=\"1.0\" encoding=\"UTF-8\" standalone=\"no\"?>\r\n<!DOCTYPE svg PUBLIC \"-//W3C//DTD SVG 1.1//EN\"\r\n \"http://www.w3.org/Graphics/SVG/1.1/DTD/svg11.dtd\">\r\n<!-- Generated by graphviz version 2.49.0 (20210828.1703)\r\n -->\r\n<!-- Title: fst Pages: 1 -->\r\n<svg width=\"450pt\" height=\"231pt\"\r\n viewBox=\"0.00 0.00 450.38 231.20\" xmlns=\"http://www.w3.org/2000/svg\" xmlns:xlink=\"http://www.w3.org/1999/xlink\">\r\n<g id=\"graph0\" class=\"graph\" transform=\"scale(1 1) rotate(0) translate(4 227.2)\">\r\n<title>fst</title>\r\n<polygon fill=\"white\" stroke=\"transparent\" points=\"-4,4 -4,-227.2 446.38,-227.2 446.38,4 -4,4\"/>\r\n<!-- Q1 -->\r\n<g id=\"node1\" class=\"node\">\r\n<title>Q1</title>\r\n<ellipse fill=\"none\" stroke=\"black\" cx=\"86.7\" cy=\"-113.1\" rx=\"22.2\" ry=\"22.2\"/>\r\n<text text-anchor=\"middle\" x=\"86.7\" y=\"-109.4\" font-family=\"Times New Roman,serif\" font-size=\"14.00\">Q1</text>\r\n</g>\r\n<!-- Q1&#45;&gt;Q1 -->\r\n<g id=\"edge3\" class=\"edge\">\r\n<title>Q1&#45;&gt;Q1</title>\r\n<path fill=\"none\" stroke=\"black\" d=\"M77.29,-133.32C75.84,-143.77 78.98,-153.2 86.7,-153.2 91.76,-153.2 94.86,-149.14 95.97,-143.39\"/>\r\n<polygon fill=\"black\" stroke=\"black\" points=\"99.47,-143.36 96.11,-133.32 92.47,-143.27 99.47,-143.36\"/>\r\n<text text-anchor=\"middle\" x=\"86.7\" y=\"-157\" font-family=\"Times New Roman,serif\" font-size=\"14.00\">x2/y2</text>\r\n</g>\r\n<!-- Q2 -->\r\n<g id=\"node3\" class=\"node\">\r\n<title>Q2</title>\r\n<ellipse fill=\"none\" stroke=\"black\" cx=\"197.89\" cy=\"-113.1\" rx=\"22.2\" ry=\"22.2\"/>\r\n<text text-anchor=\"middle\" x=\"197.89\" y=\"-109.4\" font-family=\"Times New Roman,serif\" font-size=\"14.00\">Q2</text>\r\n</g>\r\n<!-- Q1&#45;&gt;Q2 -->\r\n<g id=\"edge2\" class=\"edge\">\r\n<title>Q1&#45;&gt;Q2</title>\r\n<path fill=\"none\" stroke=\"black\" d=\"M109.01,-113.1C125.1,-113.1 147.41,-113.1 165.53,-113.1\"/>\r\n<polygon fill=\"black\" stroke=\"black\" points=\"165.63,-116.6 175.63,-113.1 165.63,-109.6 165.63,-116.6\"/>\r\n<text text-anchor=\"middle\" x=\"142.3\" y=\"-116.9\" font-family=\"Times New Roman,serif\" font-size=\"14.00\">x1/y1</text>\r\n</g>\r\n<!-- start0 -->\r\n<g id=\"node2\" class=\"node\">\r\n<title>start0</title>\r\n<ellipse fill=\"black\" stroke=\"black\" cx=\"1.8\" cy=\"-113.1\" rx=\"1.8\" ry=\"1.8\"/>\r\n</g>\r\n<!-- start0&#45;&gt;Q1 -->\r\n<g id=\"edge1\" class=\"edge\">\r\n<title>start0&#45;&gt;Q1</title>\r\n<path fill=\"none\" stroke=\"black\" d=\"M3.73,-113.1C8.75,-113.1 33.16,-113.1 54.04,-113.1\"/>\r\n<polygon fill=\"black\" stroke=\"black\" points=\"54.21,-116.6 64.21,-113.1 54.21,-109.6 54.21,-116.6\"/>\r\n<text text-anchor=\"middle\" x=\"34.1\" y=\"-116.9\" font-family=\"Times New Roman,serif\" font-size=\"14.00\">start</text>\r\n</g>\r\n<!-- Q3 -->\r\n<g id=\"node4\" class=\"node\">\r\n<title>Q3</title>\r\n<ellipse fill=\"none\" stroke=\"black\" cx=\"420.29\" cy=\"-113.1\" rx=\"22.2\" ry=\"22.2\"/>\r\n<text text-anchor=\"middle\" x=\"420.29\" y=\"-109.4\" font-family=\"Times New Roman,serif\" font-size=\"14.00\">Q3</text>\r\n</g>\r\n<!-- Q2&#45;&gt;Q3 -->\r\n<g id=\"edge4\" class=\"edge\">\r\n<title>Q2&#45;&gt;Q3</title>\r\n<path fill=\"none\" stroke=\"black\" d=\"M220.03,-113.1C258.93,-113.1 342.05,-113.1 387.68,-113.1\"/>\r\n<polygon fill=\"black\" stroke=\"black\" points=\"387.89,-116.6 397.89,-113.1 387.89,-109.6 387.89,-116.6\"/>\r\n<text text-anchor=\"middle\" x=\"309.09\" y=\"-116.9\" font-family=\"Times New Roman,serif\" font-size=\"14.00\">x1/y2</text>\r\n</g>\r\n<!-- Q4 -->\r\n<g id=\"node5\" class=\"node\">\r\n<title>Q4</title>\r\n<ellipse fill=\"none\" stroke=\"black\" cx=\"309.09\" cy=\"-168.1\" rx=\"22.2\" ry=\"22.2\"/>\r\n<text text-anchor=\"middle\" x=\"309.09\" y=\"-164.4\" font-family=\"Times New Roman,serif\" font-size=\"14.00\">Q4</text>\r\n</g>\r\n<!-- Q2&#45;&gt;Q4 -->\r\n<g id=\"edge6\" class=\"edge\">\r\n<title>Q2&#45;&gt;Q4</title>\r\n<path fill=\"none\" stroke=\"black\" d=\"M218.34,-122.27C232.47,-128.99 252.01,-138.42 268.99,-147.1 272.77,-149.03 276.74,-151.1 280.64,-153.17\"/>\r\n<polygon fill=\"black\" stroke=\"black\" points=\"279.01,-156.27 289.48,-157.9 282.31,-150.1 279.01,-156.27\"/>\r\n<text text-anchor=\"middle\" x=\"253.49\" y=\"-150.9\" font-family=\"Times New Roman,serif\" font-size=\"14.00\">x3/y2</text>\r\n</g>\r\n<!-- Q5 -->\r\n<g id=\"node6\" class=\"node\">\r\n<title>Q5</title>\r\n<ellipse fill=\"none\" stroke=\"black\" cx=\"309.09\" cy=\"-22.1\" rx=\"22.2\" ry=\"22.2\"/>\r\n<text text-anchor=\"middle\" x=\"309.09\" y=\"-18.4\" font-family=\"Times New Roman,serif\" font-size=\"14.00\">Q5</text>\r\n</g>\r\n<!-- Q2&#45;&gt;Q5 -->\r\n<g id=\"edge5\" class=\"edge\">\r\n<title>Q2&#45;&gt;Q5</title>\r\n<path fill=\"none\" stroke=\"black\" d=\"M215.48,-99.28C233.7,-84.09 263.14,-59.55 283.93,-42.23\"/>\r\n<polygon fill=\"black\" stroke=\"black\" points=\"286.27,-44.84 291.71,-35.75 281.78,-39.46 286.27,-44.84\"/>\r\n<text text-anchor=\"middle\" x=\"253.49\" y=\"-82.9\" font-family=\"Times New Roman,serif\" font-size=\"14.00\">x2/y1</text>\r\n</g>\r\n<!-- Q3&#45;&gt;Q3 -->\r\n<g id=\"edge7\" class=\"edge\">\r\n<title>Q3&#45;&gt;Q3</title>\r\n<path fill=\"none\" stroke=\"black\" d=\"M410.52,-133.32C409.01,-143.77 412.27,-153.2 420.29,-153.2 425.55,-153.2 428.76,-149.14 429.92,-143.39\"/>\r\n<polygon fill=\"black\" stroke=\"black\" points=\"433.42,-143.36 430.06,-133.32 426.42,-143.27 433.42,-143.36\"/>\r\n<text text-anchor=\"middle\" x=\"420.29\" y=\"-157\" font-family=\"Times New Roman,serif\" font-size=\"14.00\">x2/y2</text>\r\n</g>\r\n<!-- Q4&#45;&gt;Q1 -->\r\n<g id=\"edge8\" class=\"edge\">\r\n<title>Q4&#45;&gt;Q1</title>\r\n<path fill=\"none\" stroke=\"black\" d=\"M286.8,-167.26C272.84,-166.47 254.23,-164.96 237.99,-162.1 187.58,-153.21 174.74,-150.03 126.8,-132.1 123.19,-130.75 119.47,-129.18 115.82,-127.54\"/>\r\n<polygon fill=\"black\" stroke=\"black\" points=\"117.01,-124.23 106.47,-123.11 114.01,-130.56 117.01,-124.23\"/>\r\n<text text-anchor=\"middle\" x=\"197.89\" y=\"-161.9\" font-family=\"Times New Roman,serif\" font-size=\"14.00\">x1/y2</text>\r\n</g>\r\n<!-- Q4&#45;&gt;Q3 -->\r\n<g id=\"edge9\" class=\"edge\">\r\n<title>Q4&#45;&gt;Q3</title>\r\n<path fill=\"none\" stroke=\"black\" d=\"M329.11,-158.52C346.23,-149.9 371.61,-137.11 391.09,-127.3\"/>\r\n<polygon fill=\"black\" stroke=\"black\" points=\"392.76,-130.38 400.12,-122.75 389.61,-124.13 392.76,-130.38\"/>\r\n<text text-anchor=\"middle\" x=\"364.69\" y=\"-150.9\" font-family=\"Times New Roman,serif\" font-size=\"14.00\">x2/y1</text>\r\n</g>\r\n<!-- Q4&#45;&gt;Q4 -->\r\n<g id=\"edge10\" class=\"edge\">\r\n<title>Q4&#45;&gt;Q4</title>\r\n<path fill=\"none\" stroke=\"black\" d=\"M299.32,-188.32C297.82,-198.77 301.07,-208.2 309.09,-208.2 314.35,-208.2 317.56,-204.14 318.72,-198.39\"/>\r\n<polygon fill=\"black\" stroke=\"black\" points=\"322.22,-198.36 318.86,-188.32 315.22,-198.27 322.22,-198.36\"/>\r\n<text text-anchor=\"middle\" x=\"309.09\" y=\"-212\" font-family=\"Times New Roman,serif\" font-size=\"14.00\">x3/y2</text>\r\n</g>\r\n<!-- Q5&#45;&gt;Q1 -->\r\n<g id=\"edge12\" class=\"edge\">\r\n<title>Q5&#45;&gt;Q1</title>\r\n<path fill=\"none\" stroke=\"black\" d=\"M287.56,-28.01C261.23,-35.84 214.38,-50.58 175.8,-67.1 154.92,-76.04 132.22,-87.94 115.09,-97.4\"/>\r\n<polygon fill=\"black\" stroke=\"black\" points=\"113.22,-94.44 106.2,-102.37 116.63,-100.55 113.22,-94.44\"/>\r\n<text text-anchor=\"middle\" x=\"197.89\" y=\"-70.9\" font-family=\"Times New Roman,serif\" font-size=\"14.00\">x2/y1</text>\r\n</g>\r\n<!-- Q5&#45;&gt;Q3 -->\r\n<g id=\"edge11\" class=\"edge\">\r\n<title>Q5&#45;&gt;Q3</title>\r\n<path fill=\"none\" stroke=\"black\" d=\"M326.67,-35.92C344.9,-51.11 374.34,-75.64 395.13,-92.97\"/>\r\n<polygon fill=\"black\" stroke=\"black\" points=\"392.98,-95.73 402.9,-99.45 397.46,-90.35 392.98,-95.73\"/>\r\n<text text-anchor=\"middle\" x=\"364.69\" y=\"-82.9\" font-family=\"Times New Roman,serif\" font-size=\"14.00\">x1/y2</text>\r\n</g>\r\n<!-- Q5&#45;&gt;Q5 -->\r\n<g id=\"edge13\" class=\"edge\">\r\n<title>Q5&#45;&gt;Q5</title>\r\n<path fill=\"none\" stroke=\"black\" d=\"M299.32,-42.32C297.82,-52.77 301.07,-62.2 309.09,-62.2 314.35,-62.2 317.56,-58.14 318.72,-52.39\"/>\r\n<polygon fill=\"black\" stroke=\"black\" points=\"322.22,-52.36 318.86,-42.32 315.22,-52.27 322.22,-52.36\"/>\r\n<text text-anchor=\"middle\" x=\"309.09\" y=\"-66\" font-family=\"Times New Roman,serif\" font-size=\"14.00\">x3/y1</text>\r\n</g>\r\n</g>\r\n</svg>\r\n",
      "text/plain": [
       "<graphviz.files.Source at 0x212f4b8f940>"
      ]
     },
     "metadata": {},
     "output_type": "display_data"
    }
   ],
   "source": [
    "init = mealyFSTmap['test08']\n",
    "fstMealy = fst(init[0], init[1], init[2], init[3], init[4], init[5])\n",
    "display(Markdown(fstUtils.toMdTable(fstMealy)))\n",
    "display(graphviz.Source(fstUtils.toDot(fstMealy)))"
   ]
  },
  {
   "cell_type": "code",
   "execution_count": 7,
   "metadata": {},
   "outputs": [
    {
     "data": {
      "text/markdown": [
       "| Input \\ State | 0/- | 1/y1 | 2/y2 | 7/y1 | 3/y2 | 4/y1 | 5/y2 | 6/y1 |\n",
       "|:---:|:---:|:---:|:---:|:---:|:---:|:---:|:---:|:---:|\n",
       "| x1 | 1 | 3 | 1 | 1 | - | 3 | 2 | - |\n",
       "| x2 | 2 | 4 | 2 | 2 | 3 | 7 | 6 | 3 |\n",
       "| x3 | - | 5 | - | - | - | 4 | 5 | - |\n"
      ],
      "text/plain": [
       "<IPython.core.display.Markdown object>"
      ]
     },
     "metadata": {},
     "output_type": "display_data"
    },
    {
     "data": {
      "image/svg+xml": "<?xml version=\"1.0\" encoding=\"UTF-8\" standalone=\"no\"?>\r\n<!DOCTYPE svg PUBLIC \"-//W3C//DTD SVG 1.1//EN\"\r\n \"http://www.w3.org/Graphics/SVG/1.1/DTD/svg11.dtd\">\r\n<!-- Generated by graphviz version 2.49.0 (20210828.1703)\r\n -->\r\n<!-- Title: fst Pages: 1 -->\r\n<svg width=\"527pt\" height=\"367pt\"\r\n viewBox=\"0.00 0.00 527.38 366.80\" xmlns=\"http://www.w3.org/2000/svg\" xmlns:xlink=\"http://www.w3.org/1999/xlink\">\r\n<g id=\"graph0\" class=\"graph\" transform=\"scale(1 1) rotate(0) translate(4 362.8)\">\r\n<title>fst</title>\r\n<polygon fill=\"white\" stroke=\"transparent\" points=\"-4,4 -4,-362.8 523.38,-362.8 523.38,4 -4,4\"/>\r\n<!-- 0 -->\r\n<g id=\"node1\" class=\"node\">\r\n<title>0</title>\r\n<ellipse fill=\"none\" stroke=\"black\" cx=\"85.4\" cy=\"-20.8\" rx=\"20.6\" ry=\"20.6\"/>\r\n<text text-anchor=\"middle\" x=\"85.4\" y=\"-17.1\" font-family=\"Times New Roman,serif\" font-size=\"14.00\">0/&#45;</text>\r\n</g>\r\n<!-- 1 -->\r\n<g id=\"node3\" class=\"node\">\r\n<title>1</title>\r\n<ellipse fill=\"none\" stroke=\"black\" cx=\"182.84\" cy=\"-123.8\" rx=\"26.8\" ry=\"26.8\"/>\r\n<text text-anchor=\"middle\" x=\"182.84\" y=\"-120.1\" font-family=\"Times New Roman,serif\" font-size=\"14.00\">1/y1</text>\r\n</g>\r\n<!-- 0&#45;&gt;1 -->\r\n<g id=\"edge2\" class=\"edge\">\r\n<title>0&#45;&gt;1</title>\r\n<path fill=\"none\" stroke=\"black\" d=\"M100.07,-35.56C114.91,-51.56 138.9,-77.46 157.07,-97.06\"/>\r\n<polygon fill=\"black\" stroke=\"black\" points=\"154.6,-99.55 163.96,-104.5 159.73,-94.79 154.6,-99.55\"/>\r\n<text text-anchor=\"middle\" x=\"131.2\" y=\"-79.6\" font-family=\"Times New Roman,serif\" font-size=\"14.00\">x1</text>\r\n</g>\r\n<!-- 2 -->\r\n<g id=\"node4\" class=\"node\">\r\n<title>2</title>\r\n<ellipse fill=\"none\" stroke=\"black\" cx=\"492.73\" cy=\"-69.8\" rx=\"26.8\" ry=\"26.8\"/>\r\n<text text-anchor=\"middle\" x=\"492.73\" y=\"-66.1\" font-family=\"Times New Roman,serif\" font-size=\"14.00\">2/y2</text>\r\n</g>\r\n<!-- 0&#45;&gt;2 -->\r\n<g id=\"edge3\" class=\"edge\">\r\n<title>0&#45;&gt;2</title>\r\n<path fill=\"none\" stroke=\"black\" d=\"M105.62,-15.65C124.78,-10.97 155.13,-4.8 181.84,-4.8 181.84,-4.8 181.84,-4.8 390.43,-4.8 420.19,-4.8 448.18,-24.91 467.16,-42.75\"/>\r\n<polygon fill=\"black\" stroke=\"black\" points=\"464.89,-45.43 474.48,-49.94 469.8,-40.44 464.89,-45.43\"/>\r\n<text text-anchor=\"middle\" x=\"286.14\" y=\"-8.6\" font-family=\"Times New Roman,serif\" font-size=\"14.00\">x2</text>\r\n</g>\r\n<!-- start0 -->\r\n<g id=\"node2\" class=\"node\">\r\n<title>start0</title>\r\n<ellipse fill=\"black\" stroke=\"black\" cx=\"1.8\" cy=\"-20.8\" rx=\"1.8\" ry=\"1.8\"/>\r\n</g>\r\n<!-- start0&#45;&gt;0 -->\r\n<g id=\"edge1\" class=\"edge\">\r\n<title>start0&#45;&gt;0</title>\r\n<path fill=\"none\" stroke=\"black\" d=\"M3.72,-20.8C8.75,-20.8 33.56,-20.8 54.36,-20.8\"/>\r\n<polygon fill=\"black\" stroke=\"black\" points=\"54.44,-24.3 64.44,-20.8 54.44,-17.3 54.44,-24.3\"/>\r\n<text text-anchor=\"middle\" x=\"34.1\" y=\"-24.6\" font-family=\"Times New Roman,serif\" font-size=\"14.00\">start</text>\r\n</g>\r\n<!-- 3 -->\r\n<g id=\"node6\" class=\"node\">\r\n<title>3</title>\r\n<ellipse fill=\"none\" stroke=\"black\" cx=\"492.73\" cy=\"-276.8\" rx=\"26.8\" ry=\"26.8\"/>\r\n<text text-anchor=\"middle\" x=\"492.73\" y=\"-273.1\" font-family=\"Times New Roman,serif\" font-size=\"14.00\">3/y2</text>\r\n</g>\r\n<!-- 1&#45;&gt;3 -->\r\n<g id=\"edge8\" class=\"edge\">\r\n<title>1&#45;&gt;3</title>\r\n<path fill=\"none\" stroke=\"black\" d=\"M184.73,-150.62C187.84,-195.89 201.42,-286.46 259.49,-326.8 321.87,-370.12 414.66,-325.25 461.85,-296.65\"/>\r\n<polygon fill=\"black\" stroke=\"black\" points=\"463.73,-299.6 470.38,-291.35 460.04,-293.65 463.73,-299.6\"/>\r\n<text text-anchor=\"middle\" x=\"337.79\" y=\"-347.6\" font-family=\"Times New Roman,serif\" font-size=\"14.00\">x1</text>\r\n</g>\r\n<!-- 4 -->\r\n<g id=\"node7\" class=\"node\">\r\n<title>4</title>\r\n<ellipse fill=\"none\" stroke=\"black\" cx=\"286.14\" cy=\"-153.8\" rx=\"26.8\" ry=\"26.8\"/>\r\n<text text-anchor=\"middle\" x=\"286.14\" y=\"-150.1\" font-family=\"Times New Roman,serif\" font-size=\"14.00\">4/y1</text>\r\n</g>\r\n<!-- 1&#45;&gt;4 -->\r\n<g id=\"edge9\" class=\"edge\">\r\n<title>1&#45;&gt;4</title>\r\n<path fill=\"none\" stroke=\"black\" d=\"M208.62,-131.14C221.25,-134.88 236.82,-139.49 250.61,-143.57\"/>\r\n<polygon fill=\"black\" stroke=\"black\" points=\"249.68,-146.95 260.26,-146.43 251.67,-140.24 249.68,-146.95\"/>\r\n<text text-anchor=\"middle\" x=\"234.49\" y=\"-143.6\" font-family=\"Times New Roman,serif\" font-size=\"14.00\">x2</text>\r\n</g>\r\n<!-- 5 -->\r\n<g id=\"node8\" class=\"node\">\r\n<title>5</title>\r\n<ellipse fill=\"none\" stroke=\"black\" cx=\"286.14\" cy=\"-257.8\" rx=\"26.8\" ry=\"26.8\"/>\r\n<text text-anchor=\"middle\" x=\"286.14\" y=\"-254.1\" font-family=\"Times New Roman,serif\" font-size=\"14.00\">5/y2</text>\r\n</g>\r\n<!-- 1&#45;&gt;5 -->\r\n<g id=\"edge10\" class=\"edge\">\r\n<title>1&#45;&gt;5</title>\r\n<path fill=\"none\" stroke=\"black\" d=\"M199.67,-144.74C216.77,-167.35 244.13,-203.54 263.27,-228.87\"/>\r\n<polygon fill=\"black\" stroke=\"black\" points=\"260.6,-231.14 269.42,-237.01 266.18,-226.92 260.6,-231.14\"/>\r\n<text text-anchor=\"middle\" x=\"234.49\" y=\"-202.6\" font-family=\"Times New Roman,serif\" font-size=\"14.00\">x3</text>\r\n</g>\r\n<!-- 2&#45;&gt;1 -->\r\n<g id=\"edge4\" class=\"edge\">\r\n<title>2&#45;&gt;1</title>\r\n<path fill=\"none\" stroke=\"black\" d=\"M465.83,-68.52C451.22,-67.86 432.64,-67.13 416.08,-66.8 392.4,-66.33 386.28,-63.81 362.79,-66.8 301.17,-74.64 285.62,-79.92 227.49,-101.8 223.56,-103.28 219.52,-105.01 215.55,-106.84\"/>\r\n<polygon fill=\"black\" stroke=\"black\" points=\"214.01,-103.7 206.54,-111.21 217.06,-110 214.01,-103.7\"/>\r\n<text text-anchor=\"middle\" x=\"337.79\" y=\"-75.6\" font-family=\"Times New Roman,serif\" font-size=\"14.00\">x1</text>\r\n</g>\r\n<!-- 2&#45;&gt;2 -->\r\n<g id=\"edge5\" class=\"edge\">\r\n<title>2&#45;&gt;2</title>\r\n<path fill=\"none\" stroke=\"black\" d=\"M483.44,-95.04C482.8,-105.54 485.89,-114.45 492.73,-114.45 497.11,-114.45 499.95,-110.79 501.26,-105.41\"/>\r\n<polygon fill=\"black\" stroke=\"black\" points=\"504.78,-105.27 502.02,-95.04 497.8,-104.76 504.78,-105.27\"/>\r\n<text text-anchor=\"middle\" x=\"492.73\" y=\"-118.25\" font-family=\"Times New Roman,serif\" font-size=\"14.00\">x2</text>\r\n</g>\r\n<!-- 7 -->\r\n<g id=\"node5\" class=\"node\">\r\n<title>7</title>\r\n<ellipse fill=\"none\" stroke=\"black\" cx=\"389.43\" cy=\"-102.8\" rx=\"26.8\" ry=\"26.8\"/>\r\n<text text-anchor=\"middle\" x=\"389.43\" y=\"-99.1\" font-family=\"Times New Roman,serif\" font-size=\"14.00\">7/y1</text>\r\n</g>\r\n<!-- 7&#45;&gt;1 -->\r\n<g id=\"edge6\" class=\"edge\">\r\n<title>7&#45;&gt;1</title>\r\n<path fill=\"none\" stroke=\"black\" d=\"M362.61,-100.76C336.48,-99.17 294.98,-97.96 259.49,-102.8 245.74,-104.67 230.97,-108.37 218.16,-112.16\"/>\r\n<polygon fill=\"black\" stroke=\"black\" points=\"216.89,-108.89 208.36,-115.17 218.95,-115.58 216.89,-108.89\"/>\r\n<text text-anchor=\"middle\" x=\"286.14\" y=\"-106.6\" font-family=\"Times New Roman,serif\" font-size=\"14.00\">x1</text>\r\n</g>\r\n<!-- 7&#45;&gt;2 -->\r\n<g id=\"edge7\" class=\"edge\">\r\n<title>7&#45;&gt;2</title>\r\n<path fill=\"none\" stroke=\"black\" d=\"M414.96,-94.81C427.68,-90.67 443.43,-85.53 457.34,-81\"/>\r\n<polygon fill=\"black\" stroke=\"black\" points=\"458.66,-84.25 467.08,-77.83 456.49,-77.6 458.66,-84.25\"/>\r\n<text text-anchor=\"middle\" x=\"441.08\" y=\"-92.6\" font-family=\"Times New Roman,serif\" font-size=\"14.00\">x2</text>\r\n</g>\r\n<!-- 3&#45;&gt;3 -->\r\n<g id=\"edge11\" class=\"edge\">\r\n<title>3&#45;&gt;3</title>\r\n<path fill=\"none\" stroke=\"black\" d=\"M483.44,-302.04C482.8,-312.54 485.89,-321.45 492.73,-321.45 497.11,-321.45 499.95,-317.79 501.26,-312.41\"/>\r\n<polygon fill=\"black\" stroke=\"black\" points=\"504.78,-312.27 502.02,-302.04 497.8,-311.76 504.78,-312.27\"/>\r\n<text text-anchor=\"middle\" x=\"492.73\" y=\"-325.25\" font-family=\"Times New Roman,serif\" font-size=\"14.00\">x2</text>\r\n</g>\r\n<!-- 4&#45;&gt;7 -->\r\n<g id=\"edge14\" class=\"edge\">\r\n<title>4&#45;&gt;7</title>\r\n<path fill=\"none\" stroke=\"black\" d=\"M310.38,-142.1C323.89,-135.29 341.13,-126.62 355.96,-119.15\"/>\r\n<polygon fill=\"black\" stroke=\"black\" points=\"357.95,-122.07 365.3,-114.44 354.8,-115.82 357.95,-122.07\"/>\r\n<text text-anchor=\"middle\" x=\"337.79\" y=\"-134.6\" font-family=\"Times New Roman,serif\" font-size=\"14.00\">x2</text>\r\n</g>\r\n<!-- 4&#45;&gt;3 -->\r\n<g id=\"edge13\" class=\"edge\">\r\n<title>4&#45;&gt;3</title>\r\n<path fill=\"none\" stroke=\"black\" d=\"M313.04,-153.84C340.54,-155 384.32,-160.16 416.08,-179.8 441.35,-195.42 461.5,-222.71 474.63,-244.37\"/>\r\n<polygon fill=\"black\" stroke=\"black\" points=\"471.75,-246.39 479.82,-253.26 477.8,-242.86 471.75,-246.39\"/>\r\n<text text-anchor=\"middle\" x=\"389.43\" y=\"-183.6\" font-family=\"Times New Roman,serif\" font-size=\"14.00\">x1</text>\r\n</g>\r\n<!-- 4&#45;&gt;4 -->\r\n<g id=\"edge15\" class=\"edge\">\r\n<title>4&#45;&gt;4</title>\r\n<path fill=\"none\" stroke=\"black\" d=\"M276.85,-179.04C276.21,-189.54 279.3,-198.45 286.14,-198.45 290.52,-198.45 293.36,-194.79 294.67,-189.41\"/>\r\n<polygon fill=\"black\" stroke=\"black\" points=\"298.19,-189.27 295.43,-179.04 291.21,-188.76 298.19,-189.27\"/>\r\n<text text-anchor=\"middle\" x=\"286.14\" y=\"-202.25\" font-family=\"Times New Roman,serif\" font-size=\"14.00\">x3</text>\r\n</g>\r\n<!-- 5&#45;&gt;2 -->\r\n<g id=\"edge16\" class=\"edge\">\r\n<title>5&#45;&gt;2</title>\r\n<path fill=\"none\" stroke=\"black\" d=\"M311.2,-247.98C343.77,-234.37 399.71,-209.76 416.08,-194.8 444.05,-169.23 465.14,-130.94 477.85,-103.48\"/>\r\n<polygon fill=\"black\" stroke=\"black\" points=\"481.09,-104.81 482,-94.25 474.7,-101.94 481.09,-104.81\"/>\r\n<text text-anchor=\"middle\" x=\"389.43\" y=\"-227.6\" font-family=\"Times New Roman,serif\" font-size=\"14.00\">x1</text>\r\n</g>\r\n<!-- 5&#45;&gt;5 -->\r\n<g id=\"edge18\" class=\"edge\">\r\n<title>5&#45;&gt;5</title>\r\n<path fill=\"none\" stroke=\"black\" d=\"M276.85,-283.04C276.21,-293.54 279.3,-302.45 286.14,-302.45 290.52,-302.45 293.36,-298.79 294.67,-293.41\"/>\r\n<polygon fill=\"black\" stroke=\"black\" points=\"298.19,-293.27 295.43,-283.04 291.21,-292.76 298.19,-293.27\"/>\r\n<text text-anchor=\"middle\" x=\"286.14\" y=\"-306.25\" font-family=\"Times New Roman,serif\" font-size=\"14.00\">x3</text>\r\n</g>\r\n<!-- 6 -->\r\n<g id=\"node9\" class=\"node\">\r\n<title>6</title>\r\n<ellipse fill=\"none\" stroke=\"black\" cx=\"389.43\" cy=\"-276.8\" rx=\"26.8\" ry=\"26.8\"/>\r\n<text text-anchor=\"middle\" x=\"389.43\" y=\"-273.1\" font-family=\"Times New Roman,serif\" font-size=\"14.00\">6/y1</text>\r\n</g>\r\n<!-- 5&#45;&gt;6 -->\r\n<g id=\"edge17\" class=\"edge\">\r\n<title>5&#45;&gt;6</title>\r\n<path fill=\"none\" stroke=\"black\" d=\"M312.44,-262.54C324.77,-264.86 339.79,-267.67 353.22,-270.19\"/>\r\n<polygon fill=\"black\" stroke=\"black\" points=\"352.63,-273.64 363.11,-272.05 353.92,-266.76 352.63,-273.64\"/>\r\n<text text-anchor=\"middle\" x=\"337.79\" y=\"-271.6\" font-family=\"Times New Roman,serif\" font-size=\"14.00\">x2</text>\r\n</g>\r\n<!-- 6&#45;&gt;3 -->\r\n<g id=\"edge12\" class=\"edge\">\r\n<title>6&#45;&gt;3</title>\r\n<path fill=\"none\" stroke=\"black\" d=\"M416.26,-276.8C428.28,-276.8 442.79,-276.8 455.86,-276.8\"/>\r\n<polygon fill=\"black\" stroke=\"black\" points=\"455.95,-280.3 465.95,-276.8 455.95,-273.3 455.95,-280.3\"/>\r\n<text text-anchor=\"middle\" x=\"441.08\" y=\"-280.6\" font-family=\"Times New Roman,serif\" font-size=\"14.00\">x2</text>\r\n</g>\r\n</g>\r\n</svg>\r\n",
      "text/plain": [
       "<graphviz.files.Source at 0x212f4b66df0>"
      ]
     },
     "metadata": {},
     "output_type": "display_data"
    }
   ],
   "source": [
    "fstMoore = fstMealy.asMoore()\n",
    "display(Markdown(fstUtils.toMdTable(fstMoore)))\n",
    "display(graphviz.Source(fstUtils.toDot(fstMoore)))"
   ]
  },
  {
   "cell_type": "code",
   "execution_count": 8,
   "metadata": {},
   "outputs": [
    {
     "name": "stdout",
     "output_type": "stream",
     "text": [
      "['x1', 'x1', 'x1']\n",
      "['y1', 'y2', -1]\n",
      "['y1', 'y2', -1]\n",
      "-----\n",
      "['x1', 'x2', 'x1', 'x1']\n",
      "['y1', 'y1', 'y2', -1]\n",
      "['y1', 'y1', 'y2', -1]\n",
      "-----\n",
      "['x1', 'x2', 'x2', 'x1']\n",
      "['y1', 'y1', 'y1', 'y1']\n",
      "['y1', 'y1', 'y1', 'y1']\n",
      "-----\n",
      "['x1', 'x2', 'x2', 'x2', 'x1']\n",
      "['y1', 'y1', 'y1', 'y2', 'y1']\n",
      "['y1', 'y1', 'y1', 'y2', 'y1']\n",
      "-----\n",
      "['x1', 'x2', 'x2', 'x2', 'x2']\n",
      "['y1', 'y1', 'y1', 'y2', 'y2']\n",
      "['y1', 'y1', 'y1', 'y2', 'y2']\n",
      "-----\n",
      "['x1', 'x2', 'x2', 'x2', 'x3']\n",
      "['y1', 'y1', 'y1', 'y2', -1]\n",
      "['y1', 'y1', 'y1', 'y2', -1]\n",
      "-----\n",
      "['x1', 'x2', 'x2', 'x3']\n",
      "['y1', 'y1', 'y1', -1]\n",
      "['y1', 'y1', 'y1', -1]\n",
      "-----\n",
      "['x1', 'x2', 'x3']\n",
      "['y1', 'y1', 'y1']\n",
      "['y1', 'y1', 'y1']\n",
      "-----\n",
      "['x1', 'x3', 'x1', 'x1']\n",
      "['y1', 'y2', 'y2', 'y1']\n",
      "['y1', 'y2', 'y2', 'y1']\n",
      "-----\n",
      "['x1', 'x3', 'x1', 'x2']\n",
      "['y1', 'y2', 'y2', 'y2']\n",
      "['y1', 'y2', 'y2', 'y2']\n",
      "-----\n",
      "['x1', 'x3', 'x1', 'x3']\n",
      "['y1', 'y2', 'y2', -1]\n",
      "['y1', 'y2', 'y2', -1]\n",
      "-----\n",
      "['x1', 'x3', 'x2', 'x1']\n",
      "['y1', 'y2', 'y1', -1]\n",
      "['y1', 'y2', 'y1', -1]\n",
      "-----\n",
      "['x1', 'x3', 'x3']\n",
      "['y1', 'y2', 'y2']\n",
      "['y1', 'y2', 'y2']\n",
      "-----\n",
      "['x2', 'x1', 'x1', 'x1']\n",
      "['y2', 'y1', 'y2', -1]\n",
      "['y2', 'y1', 'y2', -1]\n",
      "-----\n",
      "['x2', 'x1', 'x2', 'x1', 'x1']\n",
      "['y2', 'y1', 'y1', 'y2', -1]\n",
      "['y2', 'y1', 'y1', 'y2', -1]\n",
      "-----\n",
      "['x2', 'x1', 'x2', 'x2', 'x1']\n",
      "['y2', 'y1', 'y1', 'y1', 'y1']\n",
      "['y2', 'y1', 'y1', 'y1', 'y1']\n",
      "-----\n",
      "['x2', 'x1', 'x2', 'x2', 'x2']\n",
      "['y2', 'y1', 'y1', 'y1', 'y2']\n",
      "['y2', 'y1', 'y1', 'y1', 'y2']\n",
      "-----\n",
      "['x2', 'x1', 'x2', 'x2', 'x3']\n",
      "['y2', 'y1', 'y1', 'y1', -1]\n",
      "['y2', 'y1', 'y1', 'y1', -1]\n",
      "-----\n",
      "['x2', 'x1', 'x2', 'x3']\n",
      "['y2', 'y1', 'y1', 'y1']\n",
      "['y2', 'y1', 'y1', 'y1']\n",
      "-----\n",
      "['x2', 'x1', 'x3', 'x1']\n",
      "['y2', 'y1', 'y2', 'y2']\n",
      "['y2', 'y1', 'y2', 'y2']\n",
      "-----\n",
      "['x2', 'x1', 'x3', 'x2', 'x1']\n",
      "['y2', 'y1', 'y2', 'y1', -1]\n",
      "['y2', 'y1', 'y2', 'y1', -1]\n",
      "-----\n",
      "['x2', 'x1', 'x3', 'x3']\n",
      "['y2', 'y1', 'y2', 'y2']\n",
      "['y2', 'y1', 'y2', 'y2']\n",
      "-----\n",
      "['x2', 'x2']\n",
      "['y2', 'y2']\n",
      "['y2', 'y2']\n",
      "-----\n",
      "['x2', 'x3']\n",
      "['y2', -1]\n",
      "['y2', -1]\n",
      "-----\n",
      "['x3']\n",
      "[-1]\n",
      "[-1]\n",
      "-----\n"
     ]
    }
   ],
   "source": [
    "for testSignal in fstMoore.getTestSignal():\n",
    "    print(testSignal)\n",
    "    print(fstMealy.playFST(testSignal)[0])\n",
    "    print(fstMoore.playFST(testSignal)[0])\n",
    "    print('-----')"
   ]
  }
 ],
 "metadata": {
  "interpreter": {
   "hash": "9d918e7ae3c5315337b02f7b331cb5d3f13a496b9f8ee7e2a16d56f51023da3d"
  },
  "kernelspec": {
   "display_name": "Python 3.9.4 64-bit ('venvdev': venv)",
   "name": "python3"
  },
  "language_info": {
   "codemirror_mode": {
    "name": "ipython",
    "version": 3
   },
   "file_extension": ".py",
   "mimetype": "text/x-python",
   "name": "python",
   "nbconvert_exporter": "python",
   "pygments_lexer": "ipython3",
   "version": "3.9.4"
  },
  "orig_nbformat": 4
 },
 "nbformat": 4,
 "nbformat_minor": 2
}
