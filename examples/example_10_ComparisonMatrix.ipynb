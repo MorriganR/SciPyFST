{
 "cells": [
  {
   "cell_type": "code",
   "execution_count": 1,
   "metadata": {},
   "outputs": [],
   "source": [
    "import time\n",
    "from devSciPyFST import fst, fstUtils\n",
    "from examples_data.MealyFST import mealyFSTmap as mealyFSTmap\n",
    "import graphviz, wavedrom\n",
    "from IPython.display import display, Markdown"
   ]
  },
  {
   "cell_type": "markdown",
   "metadata": {},
   "source": [
    "Comparison matrix"
   ]
  },
  {
   "cell_type": "code",
   "execution_count": 2,
   "metadata": {},
   "outputs": [
    {
     "name": "stdout",
     "output_type": "stream",
     "text": [
      "elapsed time = 12.457302570343018 s\n"
     ]
    },
    {
     "data": {
      "text/markdown": [
       "| FST\\FST | 01_My | 01_Mr | 02_My | 02_Mr | 03_My | 03_Mr | 04_My | 04_Mr | 05_My | 05_Mr | 06_My | 06_Mr | 07_My | 07_Mr | 08_My | 08_Mr | 09_My | 09_Mr | 10_My | 10_Mr |\n",
       "|:--------------:|:---:|:---:|:---:|:---:|:---:|:---:|:---:|:---:|:---:|:---:|:---:|:---:|:---:|:---:|:---:|:---:|:---:|:---:|:---:|:---:|\n",
       "| 01_My | True | True | - | - | - | - | - | - | - | - | - | - | - | - | - | - | - | - | - | - |\n",
       "| 01_Mr | True | True | - | - | - | - | - | - | - | - | - | - | - | - | - | - | - | - | - | - |\n",
       "| 02_My | - | - | True | True | - | - | - | - | - | - | - | - | - | - | - | - | - | - | - | - |\n",
       "| 02_Mr | - | - | True | True | - | - | - | - | - | - | - | - | - | - | - | - | - | - | - | - |\n",
       "| 03_My | - | - | - | - | True | True | - | - | - | - | - | - | - | - | - | - | - | - | - | - |\n",
       "| 03_Mr | - | - | - | - | True | True | - | - | - | - | - | - | - | - | - | - | - | - | - | - |\n",
       "| 04_My | - | - | - | - | - | - | True | True | - | - | - | - | - | - | - | - | - | - | - | - |\n",
       "| 04_Mr | - | - | - | - | - | - | True | True | - | - | - | - | - | - | - | - | - | - | - | - |\n",
       "| 05_My | - | - | - | - | - | - | - | - | True | True | - | - | - | - | - | - | - | - | - | - |\n",
       "| 05_Mr | - | - | - | - | - | - | - | - | True | True | - | - | - | - | - | - | - | - | - | - |\n",
       "| 06_My | - | - | - | - | - | - | - | - | - | - | True | True | - | - | - | - | - | - | - | - |\n",
       "| 06_Mr | - | - | - | - | - | - | - | - | - | - | True | True | - | - | - | - | - | - | - | - |\n",
       "| 07_My | - | - | - | - | - | - | - | - | - | - | - | - | True | True | - | - | - | - | - | - |\n",
       "| 07_Mr | - | - | - | - | - | - | - | - | - | - | - | - | True | True | - | - | - | - | - | - |\n",
       "| 08_My | - | - | - | - | - | - | - | - | - | - | - | - | - | - | True | True | - | - | - | - |\n",
       "| 08_Mr | - | - | - | - | - | - | - | - | - | - | - | - | - | - | True | True | - | - | - | - |\n",
       "| 09_My | - | - | - | - | - | - | - | - | - | - | - | - | - | - | - | - | True | True | - | - |\n",
       "| 09_Mr | - | - | - | - | - | - | - | - | - | - | - | - | - | - | - | - | True | True | - | - |\n",
       "| 10_My | - | - | - | - | - | - | - | - | - | - | - | - | - | - | - | - | - | - | True | True |\n",
       "| 10_Mr | - | - | - | - | - | - | - | - | - | - | - | - | - | - | - | - | - | - | True | True |\n"
      ],
      "text/plain": [
       "<IPython.core.display.Markdown object>"
      ]
     },
     "metadata": {},
     "output_type": "display_data"
    }
   ],
   "source": [
    "tableHeader = '| FST\\\\FST |'\n",
    "tableHeade2 = '|:--------------:|'\n",
    "table = ''\n",
    "nameList = list(mealyFSTmap.keys())\n",
    "for fst_name_r in nameList:\n",
    "    tableHeader += ' {name} |'.format(name = fst_name_r[4:] + '_My')\n",
    "    tableHeader += ' {name} |'.format(name = fst_name_r[4:] + '_Mr')\n",
    "    tableHeade2 += ':---:|:---:|'\n",
    "t = time.time()\n",
    "for fst_name_r in nameList:\n",
    "    init_r = mealyFSTmap[fst_name_r]\n",
    "    tableRowMealy = '| {name} |'.format(name = fst_name_r[4:] + '_My')\n",
    "    tableRowMoore = '| {name} |'.format(name = fst_name_r[4:] + '_Mr')\n",
    "    fstMaely_r = fst(init_r[0], init_r[1], init_r[2], init_r[3], init_r[4], init_r[5])\n",
    "    fstMoore_r = fstMaely_r.asMoore()\n",
    "    for fst_name_c in nameList:\n",
    "        init_c = mealyFSTmap[fst_name_c]\n",
    "        fstMaely_c = fst(init_c[0], init_c[1], init_c[2], init_c[3], init_c[4], init_c[5])\n",
    "        fstMoore_c = fstMaely_c.asMoore()\n",
    "        tableRowMealy += ' {val} |'.format(val = 'True' if fstMaely_r.isSimilar(fstMaely_c) else '-')\n",
    "        tableRowMealy += ' {val} |'.format(val = 'True' if fstMaely_r.isSimilar(fstMoore_c) else '-')\n",
    "        tableRowMoore += ' {val} |'.format(val = 'True' if fstMoore_r.isSimilar(fstMaely_c) else '-')\n",
    "        tableRowMoore += ' {val} |'.format(val = 'True' if fstMoore_r.isSimilar(fstMoore_c) else '-')\n",
    "    table += (tableRowMealy + '\\n')\n",
    "    table += (tableRowMoore + '\\n')\n",
    "elapsed = time.time() - t\n",
    "print('elapsed time = {} s'.format(elapsed))\n",
    "display(Markdown(tableHeader + '\\n' + tableHeade2 + '\\n' + table))"
   ]
  },
  {
   "cell_type": "markdown",
   "metadata": {},
   "source": [
    "Test #06"
   ]
  },
  {
   "cell_type": "code",
   "execution_count": 3,
   "metadata": {},
   "outputs": [
    {
     "data": {
      "text/markdown": [
       "| Input \\ State | a1 | a2 | a3 | a4 |\n",
       "|:---:|:---:|:---:|:---:|:---:|\n",
       "| z1 | a2/w1 | a3/w3 | a4/w3 | -/- |\n",
       "| z2 | a3/w2 | -/- | a2/w1 | a2/w2 |\n"
      ],
      "text/plain": [
       "<IPython.core.display.Markdown object>"
      ]
     },
     "metadata": {},
     "output_type": "display_data"
    },
    {
     "data": {
      "image/svg+xml": "<?xml version=\"1.0\" encoding=\"UTF-8\" standalone=\"no\"?>\r\n<!DOCTYPE svg PUBLIC \"-//W3C//DTD SVG 1.1//EN\"\r\n \"http://www.w3.org/Graphics/SVG/1.1/DTD/svg11.dtd\">\r\n<!-- Generated by graphviz version 2.49.0 (20210828.1703)\r\n -->\r\n<!-- Title: fst Pages: 1 -->\r\n<svg width=\"527pt\" height=\"152pt\"\r\n viewBox=\"0.00 0.00 527.39 152.00\" xmlns=\"http://www.w3.org/2000/svg\" xmlns:xlink=\"http://www.w3.org/1999/xlink\">\r\n<g id=\"graph0\" class=\"graph\" transform=\"scale(1 1) rotate(0) translate(4 148)\">\r\n<title>fst</title>\r\n<polygon fill=\"white\" stroke=\"transparent\" points=\"-4,4 -4,-148 523.39,-148 523.39,4 -4,4\"/>\r\n<!-- start -->\r\n<g id=\"node1\" class=\"node\">\r\n<title>start</title>\r\n<ellipse fill=\"black\" stroke=\"black\" cx=\"1.8\" cy=\"-115\" rx=\"1.8\" ry=\"1.8\"/>\r\n</g>\r\n<!-- a1 -->\r\n<g id=\"node2\" class=\"node\">\r\n<title>a1</title>\r\n<ellipse fill=\"none\" stroke=\"black\" cx=\"83.45\" cy=\"-115\" rx=\"18.7\" ry=\"18.7\"/>\r\n<text text-anchor=\"middle\" x=\"83.45\" y=\"-111.3\" font-family=\"Times New Roman,serif\" font-size=\"14.00\">a1</text>\r\n</g>\r\n<!-- start&#45;&gt;a1 -->\r\n<g id=\"edge1\" class=\"edge\">\r\n<title>start&#45;&gt;a1</title>\r\n<path fill=\"none\" stroke=\"black\" d=\"M3.69,-115C8.7,-115 33.76,-115 54.28,-115\"/>\r\n<polygon fill=\"black\" stroke=\"black\" points=\"54.47,-118.5 64.47,-115 54.47,-111.5 54.47,-118.5\"/>\r\n<text text-anchor=\"middle\" x=\"34.1\" y=\"-118.8\" font-family=\"Times New Roman,serif\" font-size=\"14.00\">start</text>\r\n</g>\r\n<!-- a2 -->\r\n<g id=\"node3\" class=\"node\">\r\n<title>a2</title>\r\n<ellipse fill=\"none\" stroke=\"black\" cx=\"191.14\" cy=\"-81\" rx=\"18.7\" ry=\"18.7\"/>\r\n<text text-anchor=\"middle\" x=\"191.14\" y=\"-77.3\" font-family=\"Times New Roman,serif\" font-size=\"14.00\">a2</text>\r\n</g>\r\n<!-- a1&#45;&gt;a2 -->\r\n<g id=\"edge2\" class=\"edge\">\r\n<title>a1&#45;&gt;a2</title>\r\n<path fill=\"none\" stroke=\"black\" d=\"M101.9,-109.39C118.6,-104.01 144.03,-95.83 163.3,-89.63\"/>\r\n<polygon fill=\"black\" stroke=\"black\" points=\"164.57,-92.9 173.02,-86.51 162.42,-86.24 164.57,-92.9\"/>\r\n<text text-anchor=\"middle\" x=\"137.3\" y=\"-106.8\" font-family=\"Times New Roman,serif\" font-size=\"14.00\">z1/w1</text>\r\n</g>\r\n<!-- a3 -->\r\n<g id=\"node4\" class=\"node\">\r\n<title>a3</title>\r\n<ellipse fill=\"none\" stroke=\"black\" cx=\"298.84\" cy=\"-110\" rx=\"18.7\" ry=\"18.7\"/>\r\n<text text-anchor=\"middle\" x=\"298.84\" y=\"-106.3\" font-family=\"Times New Roman,serif\" font-size=\"14.00\">a3</text>\r\n</g>\r\n<!-- a1&#45;&gt;a3 -->\r\n<g id=\"edge3\" class=\"edge\">\r\n<title>a1&#45;&gt;a3</title>\r\n<path fill=\"none\" stroke=\"black\" d=\"M101.86,-119.07C107.68,-120.25 114.24,-121.39 120.3,-122 182.95,-128.35 199.97,-133.9 261.99,-123 265.25,-122.43 268.61,-121.58 271.89,-120.59\"/>\r\n<polygon fill=\"black\" stroke=\"black\" points=\"273.08,-123.89 281.39,-117.32 270.8,-117.27 273.08,-123.89\"/>\r\n<text text-anchor=\"middle\" x=\"191.14\" y=\"-132.8\" font-family=\"Times New Roman,serif\" font-size=\"14.00\">z2/w2</text>\r\n</g>\r\n<!-- a2&#45;&gt;a3 -->\r\n<g id=\"edge4\" class=\"edge\">\r\n<title>a2&#45;&gt;a3</title>\r\n<path fill=\"none\" stroke=\"black\" d=\"M209.91,-78.2C224.36,-76.63 245.06,-76.04 261.99,-82 267.39,-83.9 272.61,-86.97 277.31,-90.4\"/>\r\n<polygon fill=\"black\" stroke=\"black\" points=\"275.19,-93.18 285.16,-96.77 279.6,-87.75 275.19,-93.18\"/>\r\n<text text-anchor=\"middle\" x=\"244.99\" y=\"-85.8\" font-family=\"Times New Roman,serif\" font-size=\"14.00\">z1/w3</text>\r\n</g>\r\n<!-- &#45; -->\r\n<g id=\"node6\" class=\"node\">\r\n<title>&#45;</title>\r\n<ellipse fill=\"hotpink\" stroke=\"black\" cx=\"501.39\" cy=\"-18\" rx=\"18\" ry=\"18\"/>\r\n<text text-anchor=\"middle\" x=\"501.39\" y=\"-14.3\" font-family=\"Times New Roman,serif\" font-size=\"14.00\">&#45;</text>\r\n</g>\r\n<!-- a2&#45;&gt;&#45; -->\r\n<g id=\"edge5\" class=\"edge\">\r\n<title>a2&#45;&gt;&#45;</title>\r\n<path fill=\"none\" stroke=\"black\" d=\"M207.91,-72.26C214.05,-69.07 221.24,-65.61 227.99,-63 296.46,-36.56 314.89,-30.27 387.69,-21 416.69,-17.31 450.21,-16.9 473.1,-17.2\"/>\r\n<polygon fill=\"black\" stroke=\"black\" points=\"473.06,-20.7 483.12,-17.39 473.19,-13.71 473.06,-20.7\"/>\r\n<text text-anchor=\"middle\" x=\"352.69\" y=\"-32.8\" font-family=\"Times New Roman,serif\" font-size=\"14.00\">z2/&#45;</text>\r\n</g>\r\n<!-- a3&#45;&gt;a2 -->\r\n<g id=\"edge7\" class=\"edge\">\r\n<title>a3&#45;&gt;a2</title>\r\n<path fill=\"none\" stroke=\"black\" d=\"M280.05,-107.87C265.77,-105.88 245.31,-102.39 227.99,-97 224.57,-95.93 221.04,-94.63 217.59,-93.23\"/>\r\n<polygon fill=\"black\" stroke=\"black\" points=\"218.82,-89.95 208.25,-89.16 216.02,-96.36 218.82,-89.95\"/>\r\n<text text-anchor=\"middle\" x=\"244.99\" y=\"-107.8\" font-family=\"Times New Roman,serif\" font-size=\"14.00\">z2/w1</text>\r\n</g>\r\n<!-- a4 -->\r\n<g id=\"node5\" class=\"node\">\r\n<title>a4</title>\r\n<ellipse fill=\"none\" stroke=\"black\" cx=\"406.54\" cy=\"-49\" rx=\"18.7\" ry=\"18.7\"/>\r\n<text text-anchor=\"middle\" x=\"406.54\" y=\"-45.3\" font-family=\"Times New Roman,serif\" font-size=\"14.00\">a4</text>\r\n</g>\r\n<!-- a3&#45;&gt;a4 -->\r\n<g id=\"edge6\" class=\"edge\">\r\n<title>a3&#45;&gt;a4</title>\r\n<path fill=\"none\" stroke=\"black\" d=\"M315.44,-101C332.77,-91 360.97,-74.72 381.21,-63.04\"/>\r\n<polygon fill=\"black\" stroke=\"black\" points=\"382.97,-66.07 389.88,-58.04 379.47,-60 382.97,-66.07\"/>\r\n<text text-anchor=\"middle\" x=\"352.69\" y=\"-91.8\" font-family=\"Times New Roman,serif\" font-size=\"14.00\">z1/w3</text>\r\n</g>\r\n<!-- a4&#45;&gt;a2 -->\r\n<g id=\"edge9\" class=\"edge\">\r\n<title>a4&#45;&gt;a2</title>\r\n<path fill=\"none\" stroke=\"black\" d=\"M387.57,-50.92C355.42,-54.46 286.02,-62.62 227.99,-73 225.26,-73.49 222.43,-74.04 219.6,-74.62\"/>\r\n<polygon fill=\"black\" stroke=\"black\" points=\"218.62,-71.25 209.59,-76.79 220.1,-78.09 218.62,-71.25\"/>\r\n<text text-anchor=\"middle\" x=\"298.84\" y=\"-67.8\" font-family=\"Times New Roman,serif\" font-size=\"14.00\">z2/w2</text>\r\n</g>\r\n<!-- a4&#45;&gt;&#45; -->\r\n<g id=\"edge8\" class=\"edge\">\r\n<title>a4&#45;&gt;&#45;</title>\r\n<path fill=\"none\" stroke=\"black\" d=\"M424.57,-43.31C438.48,-38.67 458.38,-32.02 474.3,-26.71\"/>\r\n<polygon fill=\"black\" stroke=\"black\" points=\"475.71,-29.93 484.09,-23.44 473.49,-23.29 475.71,-29.93\"/>\r\n<text text-anchor=\"middle\" x=\"454.39\" y=\"-40.8\" font-family=\"Times New Roman,serif\" font-size=\"14.00\">z1/&#45;</text>\r\n</g>\r\n</g>\r\n</svg>\r\n",
      "text/plain": [
       "<graphviz.files.Source at 0x2422c383250>"
      ]
     },
     "metadata": {},
     "output_type": "display_data"
    }
   ],
   "source": [
    "init = mealyFSTmap['test06']\n",
    "fstMealy = fst(init[0], init[1], init[2], init[3], init[4], init[5])\n",
    "display(Markdown(fstUtils.toMdTable(fstMealy)))\n",
    "display(graphviz.Source(fstUtils.toDot(fstMealy)))"
   ]
  },
  {
   "cell_type": "code",
   "execution_count": 4,
   "metadata": {},
   "outputs": [
    {
     "data": {
      "text/markdown": [
       "| Input \\ State | 0/- | 1/w1 | 2/w2 | 3/w3 | 4/- | 5/w3 | 6/w2 |\n",
       "|:---:|:---:|:---:|:---:|:---:|:---:|:---:|:---:|\n",
       "| z1 | 1 | 3 | 5 | 5 | - | 4 | 3 |\n",
       "| z2 | 2 | 4 | 1 | 1 | - | 6 | 4 |\n"
      ],
      "text/plain": [
       "<IPython.core.display.Markdown object>"
      ]
     },
     "metadata": {},
     "output_type": "display_data"
    },
    {
     "data": {
      "image/svg+xml": "<?xml version=\"1.0\" encoding=\"UTF-8\" standalone=\"no\"?>\r\n<!DOCTYPE svg PUBLIC \"-//W3C//DTD SVG 1.1//EN\"\r\n \"http://www.w3.org/Graphics/SVG/1.1/DTD/svg11.dtd\">\r\n<!-- Generated by graphviz version 2.49.0 (20210828.1703)\r\n -->\r\n<!-- Title: fst Pages: 1 -->\r\n<svg width=\"821pt\" height=\"169pt\"\r\n viewBox=\"0.00 0.00 820.77 168.60\" xmlns=\"http://www.w3.org/2000/svg\" xmlns:xlink=\"http://www.w3.org/1999/xlink\">\r\n<g id=\"graph0\" class=\"graph\" transform=\"scale(1 1) rotate(0) translate(4 164.6)\">\r\n<title>fst</title>\r\n<polygon fill=\"white\" stroke=\"transparent\" points=\"-4,4 -4,-164.6 816.77,-164.6 816.77,4 -4,4\"/>\r\n<!-- start -->\r\n<g id=\"node1\" class=\"node\">\r\n<title>start</title>\r\n<ellipse fill=\"black\" stroke=\"black\" cx=\"1.8\" cy=\"-71.6\" rx=\"1.8\" ry=\"1.8\"/>\r\n</g>\r\n<!-- 0 -->\r\n<g id=\"node2\" class=\"node\">\r\n<title>0</title>\r\n<ellipse fill=\"none\" stroke=\"black\" cx=\"85.4\" cy=\"-71.6\" rx=\"20.6\" ry=\"20.6\"/>\r\n<text text-anchor=\"middle\" x=\"85.4\" y=\"-67.9\" font-family=\"Times New Roman,serif\" font-size=\"14.00\">0/&#45;</text>\r\n</g>\r\n<!-- start&#45;&gt;0 -->\r\n<g id=\"edge1\" class=\"edge\">\r\n<title>start&#45;&gt;0</title>\r\n<path fill=\"none\" stroke=\"black\" d=\"M3.72,-71.6C8.75,-71.6 33.56,-71.6 54.36,-71.6\"/>\r\n<polygon fill=\"black\" stroke=\"black\" points=\"54.44,-75.1 64.44,-71.6 54.44,-68.1 54.44,-75.1\"/>\r\n<text text-anchor=\"middle\" x=\"34.1\" y=\"-75.4\" font-family=\"Times New Roman,serif\" font-size=\"14.00\">start</text>\r\n</g>\r\n<!-- 1 -->\r\n<g id=\"node3\" class=\"node\">\r\n<title>1</title>\r\n<ellipse fill=\"none\" stroke=\"black\" cx=\"289.99\" cy=\"-103.6\" rx=\"28.7\" ry=\"28.7\"/>\r\n<text text-anchor=\"middle\" x=\"289.99\" y=\"-99.9\" font-family=\"Times New Roman,serif\" font-size=\"14.00\">1/w1</text>\r\n</g>\r\n<!-- 0&#45;&gt;1 -->\r\n<g id=\"edge2\" class=\"edge\">\r\n<title>0&#45;&gt;1</title>\r\n<path fill=\"none\" stroke=\"black\" d=\"M106.19,-74.72C139.77,-80.03 208.4,-90.87 251.36,-97.65\"/>\r\n<polygon fill=\"black\" stroke=\"black\" points=\"251,-101.14 261.42,-99.24 252.09,-94.23 251,-101.14\"/>\r\n<text text-anchor=\"middle\" x=\"183.79\" y=\"-94.4\" font-family=\"Times New Roman,serif\" font-size=\"14.00\">z1</text>\r\n</g>\r\n<!-- 2 -->\r\n<g id=\"node4\" class=\"node\">\r\n<title>2</title>\r\n<ellipse fill=\"none\" stroke=\"black\" cx=\"183.79\" cy=\"-38.6\" rx=\"28.7\" ry=\"28.7\"/>\r\n<text text-anchor=\"middle\" x=\"183.79\" y=\"-34.9\" font-family=\"Times New Roman,serif\" font-size=\"14.00\">2/w2</text>\r\n</g>\r\n<!-- 0&#45;&gt;2 -->\r\n<g id=\"edge3\" class=\"edge\">\r\n<title>0&#45;&gt;2</title>\r\n<path fill=\"none\" stroke=\"black\" d=\"M105.44,-65.08C117.19,-61.06 132.63,-55.77 146.63,-50.98\"/>\r\n<polygon fill=\"black\" stroke=\"black\" points=\"148.16,-54.15 156.49,-47.6 145.9,-47.53 148.16,-54.15\"/>\r\n<text text-anchor=\"middle\" x=\"130.7\" y=\"-61.4\" font-family=\"Times New Roman,serif\" font-size=\"14.00\">z2</text>\r\n</g>\r\n<!-- 3 -->\r\n<g id=\"node5\" class=\"node\">\r\n<title>3</title>\r\n<ellipse fill=\"none\" stroke=\"black\" cx=\"396.18\" cy=\"-87.6\" rx=\"28.7\" ry=\"28.7\"/>\r\n<text text-anchor=\"middle\" x=\"396.18\" y=\"-83.9\" font-family=\"Times New Roman,serif\" font-size=\"14.00\">3/w3</text>\r\n</g>\r\n<!-- 1&#45;&gt;3 -->\r\n<g id=\"edge4\" class=\"edge\">\r\n<title>1&#45;&gt;3</title>\r\n<path fill=\"none\" stroke=\"black\" d=\"M312.41,-85.83C319.64,-80.88 328.05,-76.15 336.59,-73.6 344.11,-71.34 352.26,-71.62 360.03,-73.13\"/>\r\n<polygon fill=\"black\" stroke=\"black\" points=\"359.36,-76.57 369.92,-75.72 361.14,-69.8 359.36,-76.57\"/>\r\n<text text-anchor=\"middle\" x=\"343.09\" y=\"-77.4\" font-family=\"Times New Roman,serif\" font-size=\"14.00\">z1</text>\r\n</g>\r\n<!-- 4 -->\r\n<g id=\"node6\" class=\"node\">\r\n<title>4</title>\r\n<ellipse fill=\"none\" stroke=\"black\" cx=\"706.97\" cy=\"-88.6\" rx=\"20.6\" ry=\"20.6\"/>\r\n<text text-anchor=\"middle\" x=\"706.97\" y=\"-84.9\" font-family=\"Times New Roman,serif\" font-size=\"14.00\">4/&#45;</text>\r\n</g>\r\n<!-- 1&#45;&gt;4 -->\r\n<g id=\"edge5\" class=\"edge\">\r\n<title>1&#45;&gt;4</title>\r\n<path fill=\"none\" stroke=\"black\" d=\"M314.33,-119C334.77,-130.99 365.73,-145.6 395.18,-145.6 395.18,-145.6 395.18,-145.6 609.57,-145.6 638.4,-145.6 666.18,-126.47 684.45,-110.38\"/>\r\n<polygon fill=\"black\" stroke=\"black\" points=\"687.17,-112.63 692.14,-103.28 682.42,-107.49 687.17,-112.63\"/>\r\n<text text-anchor=\"middle\" x=\"502.38\" y=\"-149.4\" font-family=\"Times New Roman,serif\" font-size=\"14.00\">z2</text>\r\n</g>\r\n<!-- 2&#45;&gt;1 -->\r\n<g id=\"edge9\" class=\"edge\">\r\n<title>2&#45;&gt;1</title>\r\n<path fill=\"none\" stroke=\"black\" d=\"M208.51,-53.05C219.19,-59.59 231.95,-67.45 243.39,-74.6 247.75,-77.32 252.34,-80.21 256.85,-83.07\"/>\r\n<polygon fill=\"black\" stroke=\"black\" points=\"255.05,-86.07 265.37,-88.48 258.8,-80.16 255.05,-86.07\"/>\r\n<text text-anchor=\"middle\" x=\"236.89\" y=\"-78.4\" font-family=\"Times New Roman,serif\" font-size=\"14.00\">z2</text>\r\n</g>\r\n<!-- 5 -->\r\n<g id=\"node7\" class=\"node\">\r\n<title>5</title>\r\n<ellipse fill=\"none\" stroke=\"black\" cx=\"502.38\" cy=\"-28.6\" rx=\"28.7\" ry=\"28.7\"/>\r\n<text text-anchor=\"middle\" x=\"502.38\" y=\"-24.9\" font-family=\"Times New Roman,serif\" font-size=\"14.00\">5/w3</text>\r\n</g>\r\n<!-- 2&#45;&gt;5 -->\r\n<g id=\"edge8\" class=\"edge\">\r\n<title>2&#45;&gt;5</title>\r\n<path fill=\"none\" stroke=\"black\" d=\"M212.61,-37.72C269.5,-35.92 399.18,-31.83 463.61,-29.79\"/>\r\n<polygon fill=\"black\" stroke=\"black\" points=\"463.85,-33.28 473.74,-29.47 463.63,-26.29 463.85,-33.28\"/>\r\n<text text-anchor=\"middle\" x=\"343.09\" y=\"-37.4\" font-family=\"Times New Roman,serif\" font-size=\"14.00\">z1</text>\r\n</g>\r\n<!-- 3&#45;&gt;1 -->\r\n<g id=\"edge11\" class=\"edge\">\r\n<title>3&#45;&gt;1</title>\r\n<path fill=\"none\" stroke=\"black\" d=\"M367.63,-91.83C355.62,-93.67 341.35,-95.86 328.4,-97.85\"/>\r\n<polygon fill=\"black\" stroke=\"black\" points=\"327.72,-94.42 318.36,-99.39 328.78,-101.34 327.72,-94.42\"/>\r\n<text text-anchor=\"middle\" x=\"343.09\" y=\"-99.4\" font-family=\"Times New Roman,serif\" font-size=\"14.00\">z2</text>\r\n</g>\r\n<!-- 3&#45;&gt;5 -->\r\n<g id=\"edge10\" class=\"edge\">\r\n<title>3&#45;&gt;5</title>\r\n<path fill=\"none\" stroke=\"black\" d=\"M421.35,-73.91C435.19,-66.08 452.76,-56.13 467.92,-47.55\"/>\r\n<polygon fill=\"black\" stroke=\"black\" points=\"470.01,-50.38 476.98,-42.41 466.56,-44.29 470.01,-50.38\"/>\r\n<text text-anchor=\"middle\" x=\"449.28\" y=\"-65.4\" font-family=\"Times New Roman,serif\" font-size=\"14.00\">z1</text>\r\n</g>\r\n<!-- &#45; -->\r\n<g id=\"node9\" class=\"node\">\r\n<title>&#45;</title>\r\n<ellipse fill=\"hotpink\" stroke=\"black\" cx=\"794.77\" cy=\"-88.6\" rx=\"18\" ry=\"18\"/>\r\n<text text-anchor=\"middle\" x=\"794.77\" y=\"-84.9\" font-family=\"Times New Roman,serif\" font-size=\"14.00\">&#45;</text>\r\n</g>\r\n<!-- 4&#45;&gt;&#45; -->\r\n<g id=\"edge12\" class=\"edge\">\r\n<title>4&#45;&gt;&#45;</title>\r\n<path fill=\"none\" stroke=\"black\" d=\"M727.87,-88.6C739.28,-88.6 753.77,-88.6 766.26,-88.6\"/>\r\n<polygon fill=\"black\" stroke=\"black\" points=\"766.59,-92.1 776.59,-88.6 766.59,-85.1 766.59,-92.1\"/>\r\n<text text-anchor=\"middle\" x=\"752.27\" y=\"-92.4\" font-family=\"Times New Roman,serif\" font-size=\"14.00\">z1</text>\r\n</g>\r\n<!-- 4&#45;&gt;&#45; -->\r\n<g id=\"edge13\" class=\"edge\">\r\n<title>4&#45;&gt;&#45;</title>\r\n<path fill=\"none\" stroke=\"black\" d=\"M724.61,-76.87C734.39,-71.38 747.09,-66.63 758.77,-69.6 762.73,-70.6 766.72,-72.16 770.52,-73.95\"/>\r\n<polygon fill=\"black\" stroke=\"black\" points=\"768.99,-77.1 779.46,-78.73 772.29,-70.93 768.99,-77.1\"/>\r\n<text text-anchor=\"middle\" x=\"752.27\" y=\"-73.4\" font-family=\"Times New Roman,serif\" font-size=\"14.00\">z2</text>\r\n</g>\r\n<!-- 5&#45;&gt;4 -->\r\n<g id=\"edge14\" class=\"edge\">\r\n<title>5&#45;&gt;4</title>\r\n<path fill=\"none\" stroke=\"black\" d=\"M530.99,-25.36C558.73,-23.18 602.27,-22.68 637.17,-35.6 654.8,-42.12 671.58,-54.86 684.15,-66.22\"/>\r\n<polygon fill=\"black\" stroke=\"black\" points=\"682.1,-69.09 691.77,-73.4 686.9,-63.99 682.1,-69.09\"/>\r\n<text text-anchor=\"middle\" x=\"608.57\" y=\"-39.4\" font-family=\"Times New Roman,serif\" font-size=\"14.00\">z1</text>\r\n</g>\r\n<!-- 6 -->\r\n<g id=\"node8\" class=\"node\">\r\n<title>6</title>\r\n<ellipse fill=\"none\" stroke=\"black\" cx=\"608.57\" cy=\"-88.6\" rx=\"28.7\" ry=\"28.7\"/>\r\n<text text-anchor=\"middle\" x=\"608.57\" y=\"-84.9\" font-family=\"Times New Roman,serif\" font-size=\"14.00\">6/w2</text>\r\n</g>\r\n<!-- 5&#45;&gt;6 -->\r\n<g id=\"edge15\" class=\"edge\">\r\n<title>5&#45;&gt;6</title>\r\n<path fill=\"none\" stroke=\"black\" d=\"M527.54,-42.51C541.62,-50.62 559.55,-60.94 574.87,-69.76\"/>\r\n<polygon fill=\"black\" stroke=\"black\" points=\"573.13,-72.8 583.54,-74.76 576.62,-66.73 573.13,-72.8\"/>\r\n<text text-anchor=\"middle\" x=\"555.48\" y=\"-65.4\" font-family=\"Times New Roman,serif\" font-size=\"14.00\">z2</text>\r\n</g>\r\n<!-- 6&#45;&gt;3 -->\r\n<g id=\"edge6\" class=\"edge\">\r\n<title>6&#45;&gt;3</title>\r\n<path fill=\"none\" stroke=\"black\" d=\"M579.85,-88.47C542.77,-88.29 476.85,-87.98 435.17,-87.78\"/>\r\n<polygon fill=\"black\" stroke=\"black\" points=\"435.14,-84.28 425.12,-87.73 435.1,-91.28 435.14,-84.28\"/>\r\n<text text-anchor=\"middle\" x=\"502.38\" y=\"-91.4\" font-family=\"Times New Roman,serif\" font-size=\"14.00\">z1</text>\r\n</g>\r\n<!-- 6&#45;&gt;4 -->\r\n<g id=\"edge7\" class=\"edge\">\r\n<title>6&#45;&gt;4</title>\r\n<path fill=\"none\" stroke=\"black\" d=\"M637.2,-88.6C649.24,-88.6 663.4,-88.6 675.73,-88.6\"/>\r\n<polygon fill=\"black\" stroke=\"black\" points=\"676,-92.1 686,-88.6 676,-85.1 676,-92.1\"/>\r\n<text text-anchor=\"middle\" x=\"661.67\" y=\"-92.4\" font-family=\"Times New Roman,serif\" font-size=\"14.00\">z2</text>\r\n</g>\r\n</g>\r\n</svg>\r\n",
      "text/plain": [
       "<graphviz.files.Source at 0x2422c126a30>"
      ]
     },
     "metadata": {},
     "output_type": "display_data"
    }
   ],
   "source": [
    "fstMoore = fstMealy.asMoore()\n",
    "display(Markdown(fstUtils.toMdTable(fstMoore)))\n",
    "display(graphviz.Source(fstUtils.toDot(fstMoore)))"
   ]
  },
  {
   "cell_type": "code",
   "execution_count": 5,
   "metadata": {},
   "outputs": [
    {
     "name": "stdout",
     "output_type": "stream",
     "text": [
      "['z1', 'z1', 'z1', 'z1', 'z1']\n",
      "['w1', 'w3', 'w3', -1, -1]\n",
      "['w1', 'w3', 'w3', -1, -1]\n",
      "-----\n",
      "['z1', 'z1', 'z1', 'z2', 'z1']\n",
      "['w1', 'w3', 'w3', 'w2', 'w3']\n",
      "['w1', 'w3', 'w3', 'w2', 'w3']\n",
      "-----\n",
      "['z1', 'z1', 'z1', 'z2', 'z2', 'z1']\n",
      "['w1', 'w3', 'w3', 'w2', -1, -1]\n",
      "['w1', 'w3', 'w3', 'w2', -1, -1]\n",
      "-----\n",
      "['z1', 'z1', 'z2']\n",
      "['w1', 'w3', 'w1']\n",
      "['w1', 'w3', 'w1']\n",
      "-----\n",
      "['z1', 'z2', 'z1']\n",
      "['w1', -1, -1]\n",
      "['w1', -1, -1]\n",
      "-----\n",
      "['z2', 'z1', 'z1', 'z1']\n",
      "['w2', 'w3', -1, -1]\n",
      "['w2', 'w3', -1, -1]\n",
      "-----\n",
      "['z2', 'z1', 'z2', 'z1', 'z1']\n",
      "['w2', 'w3', 'w2', 'w3', 'w3']\n",
      "['w2', 'w3', 'w2', 'w3', 'w3']\n",
      "-----\n",
      "['z2', 'z1', 'z2', 'z1', 'z2', 'z1']\n",
      "['w2', 'w3', 'w2', 'w3', 'w1', 'w3']\n",
      "['w2', 'w3', 'w2', 'w3', 'w1', 'w3']\n",
      "-----\n",
      "['z2', 'z1', 'z2', 'z1', 'z2', 'z2', 'z1']\n",
      "['w2', 'w3', 'w2', 'w3', 'w1', -1, -1]\n",
      "['w2', 'w3', 'w2', 'w3', 'w1', -1, -1]\n",
      "-----\n",
      "['z2', 'z1', 'z2', 'z2', 'z1']\n",
      "['w2', 'w3', 'w2', -1, -1]\n",
      "['w2', 'w3', 'w2', -1, -1]\n",
      "-----\n",
      "['z2', 'z2', 'z1', 'z1', 'z1', 'z1']\n",
      "['w2', 'w1', 'w3', 'w3', -1, -1]\n",
      "['w2', 'w1', 'w3', 'w3', -1, -1]\n",
      "-----\n",
      "['z2', 'z2', 'z1', 'z1', 'z2', 'z1']\n",
      "['w2', 'w1', 'w3', 'w3', 'w2', 'w3']\n",
      "['w2', 'w1', 'w3', 'w3', 'w2', 'w3']\n",
      "-----\n",
      "['z2', 'z2', 'z1', 'z1', 'z2', 'z2', 'z1']\n",
      "['w2', 'w1', 'w3', 'w3', 'w2', -1, -1]\n",
      "['w2', 'w1', 'w3', 'w3', 'w2', -1, -1]\n",
      "-----\n",
      "['z2', 'z2', 'z1', 'z2']\n",
      "['w2', 'w1', 'w3', 'w1']\n",
      "['w2', 'w1', 'w3', 'w1']\n",
      "-----\n",
      "['z2', 'z2', 'z2', 'z1']\n",
      "['w2', 'w1', -1, -1]\n",
      "['w2', 'w1', -1, -1]\n",
      "-----\n"
     ]
    }
   ],
   "source": [
    "for testSignal in fstMoore.getTestSignal():\n",
    "    print(testSignal)\n",
    "    print(fstMealy.playFST(testSignal)[0])\n",
    "    print(fstMoore.playFST(testSignal)[0])\n",
    "    print('-----')"
   ]
  },
  {
   "cell_type": "markdown",
   "metadata": {},
   "source": [
    "Test #08"
   ]
  },
  {
   "cell_type": "code",
   "execution_count": 6,
   "metadata": {},
   "outputs": [
    {
     "data": {
      "text/markdown": [
       "| Input \\ State | Q1 | Q2 | Q3 | Q4 | Q5 |\n",
       "|:---:|:---:|:---:|:---:|:---:|:---:|\n",
       "| x1 | Q2/y1 | Q3/y2 | -/- | Q1/y2 | Q3/y2 |\n",
       "| x2 | Q1/y2 | Q5/y1 | Q3/y2 | Q3/y1 | Q1/y1 |\n",
       "| x3 | -/- | Q4/y2 | -/- | Q4/y2 | Q5/y1 |\n"
      ],
      "text/plain": [
       "<IPython.core.display.Markdown object>"
      ]
     },
     "metadata": {},
     "output_type": "display_data"
    },
    {
     "data": {
      "image/svg+xml": "<?xml version=\"1.0\" encoding=\"UTF-8\" standalone=\"no\"?>\r\n<!DOCTYPE svg PUBLIC \"-//W3C//DTD SVG 1.1//EN\"\r\n \"http://www.w3.org/Graphics/SVG/1.1/DTD/svg11.dtd\">\r\n<!-- Generated by graphviz version 2.49.0 (20210828.1703)\r\n -->\r\n<!-- Title: fst Pages: 1 -->\r\n<svg width=\"544pt\" height=\"264pt\"\r\n viewBox=\"0.00 0.00 544.38 264.10\" xmlns=\"http://www.w3.org/2000/svg\" xmlns:xlink=\"http://www.w3.org/1999/xlink\">\r\n<g id=\"graph0\" class=\"graph\" transform=\"scale(1 1) rotate(0) translate(4 260.1)\">\r\n<title>fst</title>\r\n<polygon fill=\"white\" stroke=\"transparent\" points=\"-4,4 -4,-260.1 540.38,-260.1 540.38,4 -4,4\"/>\r\n<!-- start -->\r\n<g id=\"node1\" class=\"node\">\r\n<title>start</title>\r\n<ellipse fill=\"black\" stroke=\"black\" cx=\"1.8\" cy=\"-100\" rx=\"1.8\" ry=\"1.8\"/>\r\n</g>\r\n<!-- Q1 -->\r\n<g id=\"node2\" class=\"node\">\r\n<title>Q1</title>\r\n<ellipse fill=\"none\" stroke=\"black\" cx=\"86.7\" cy=\"-100\" rx=\"22.2\" ry=\"22.2\"/>\r\n<text text-anchor=\"middle\" x=\"86.7\" y=\"-96.3\" font-family=\"Times New Roman,serif\" font-size=\"14.00\">Q1</text>\r\n</g>\r\n<!-- start&#45;&gt;Q1 -->\r\n<g id=\"edge1\" class=\"edge\">\r\n<title>start&#45;&gt;Q1</title>\r\n<path fill=\"none\" stroke=\"black\" d=\"M3.73,-100C8.75,-100 33.16,-100 54.04,-100\"/>\r\n<polygon fill=\"black\" stroke=\"black\" points=\"54.21,-103.5 64.21,-100 54.21,-96.5 54.21,-103.5\"/>\r\n<text text-anchor=\"middle\" x=\"34.1\" y=\"-103.8\" font-family=\"Times New Roman,serif\" font-size=\"14.00\">start</text>\r\n</g>\r\n<!-- Q1&#45;&gt;Q1 -->\r\n<g id=\"edge3\" class=\"edge\">\r\n<title>Q1&#45;&gt;Q1</title>\r\n<path fill=\"none\" stroke=\"black\" d=\"M77.29,-120.22C75.84,-130.67 78.98,-140.1 86.7,-140.1 91.76,-140.1 94.86,-136.04 95.97,-130.29\"/>\r\n<polygon fill=\"black\" stroke=\"black\" points=\"99.47,-130.26 96.11,-120.22 92.47,-130.17 99.47,-130.26\"/>\r\n<text text-anchor=\"middle\" x=\"86.7\" y=\"-143.9\" font-family=\"Times New Roman,serif\" font-size=\"14.00\">x2/y2</text>\r\n</g>\r\n<!-- Q2 -->\r\n<g id=\"node3\" class=\"node\">\r\n<title>Q2</title>\r\n<ellipse fill=\"none\" stroke=\"black\" cx=\"197.89\" cy=\"-139\" rx=\"22.2\" ry=\"22.2\"/>\r\n<text text-anchor=\"middle\" x=\"197.89\" y=\"-135.3\" font-family=\"Times New Roman,serif\" font-size=\"14.00\">Q2</text>\r\n</g>\r\n<!-- Q1&#45;&gt;Q2 -->\r\n<g id=\"edge2\" class=\"edge\">\r\n<title>Q1&#45;&gt;Q2</title>\r\n<path fill=\"none\" stroke=\"black\" d=\"M107.73,-107.15C124.32,-113.08 148.16,-121.59 167.01,-128.33\"/>\r\n<polygon fill=\"black\" stroke=\"black\" points=\"166.03,-131.69 176.62,-131.76 168.38,-125.1 166.03,-131.69\"/>\r\n<text text-anchor=\"middle\" x=\"142.3\" y=\"-127.8\" font-family=\"Times New Roman,serif\" font-size=\"14.00\">x1/y1</text>\r\n</g>\r\n<!-- &#45; -->\r\n<g id=\"node7\" class=\"node\">\r\n<title>&#45;</title>\r\n<ellipse fill=\"hotpink\" stroke=\"black\" cx=\"518.38\" cy=\"-55\" rx=\"18\" ry=\"18\"/>\r\n<text text-anchor=\"middle\" x=\"518.38\" y=\"-51.3\" font-family=\"Times New Roman,serif\" font-size=\"14.00\">&#45;</text>\r\n</g>\r\n<!-- Q1&#45;&gt;&#45; -->\r\n<g id=\"edge4\" class=\"edge\">\r\n<title>Q1&#45;&gt;&#45;</title>\r\n<path fill=\"none\" stroke=\"black\" d=\"M97.53,-80.72C113.88,-51.66 149.59,0 196.89,0 196.89,0 196.89,0 421.29,0 450.79,0 479.46,-19.77 497.69,-35.61\"/>\r\n<polygon fill=\"black\" stroke=\"black\" points=\"495.54,-38.38 505.3,-42.52 500.25,-33.2 495.54,-38.38\"/>\r\n<text text-anchor=\"middle\" x=\"309.09\" y=\"-3.8\" font-family=\"Times New Roman,serif\" font-size=\"14.00\">x3/&#45;</text>\r\n</g>\r\n<!-- Q3 -->\r\n<g id=\"node4\" class=\"node\">\r\n<title>Q3</title>\r\n<ellipse fill=\"none\" stroke=\"black\" cx=\"420.29\" cy=\"-93\" rx=\"22.2\" ry=\"22.2\"/>\r\n<text text-anchor=\"middle\" x=\"420.29\" y=\"-89.3\" font-family=\"Times New Roman,serif\" font-size=\"14.00\">Q3</text>\r\n</g>\r\n<!-- Q2&#45;&gt;Q3 -->\r\n<g id=\"edge5\" class=\"edge\">\r\n<title>Q2&#45;&gt;Q3</title>\r\n<path fill=\"none\" stroke=\"black\" d=\"M220.14,-136.7C246.41,-133.64 292.41,-127.61 331.19,-119 350.78,-114.65 372.41,-108.29 389.33,-102.95\"/>\r\n<polygon fill=\"black\" stroke=\"black\" points=\"390.74,-106.17 399.2,-99.78 388.61,-99.51 390.74,-106.17\"/>\r\n<text text-anchor=\"middle\" x=\"309.09\" y=\"-130.8\" font-family=\"Times New Roman,serif\" font-size=\"14.00\">x1/y2</text>\r\n</g>\r\n<!-- Q4 -->\r\n<g id=\"node5\" class=\"node\">\r\n<title>Q4</title>\r\n<ellipse fill=\"none\" stroke=\"black\" cx=\"309.09\" cy=\"-55\" rx=\"22.2\" ry=\"22.2\"/>\r\n<text text-anchor=\"middle\" x=\"309.09\" y=\"-51.3\" font-family=\"Times New Roman,serif\" font-size=\"14.00\">Q4</text>\r\n</g>\r\n<!-- Q2&#45;&gt;Q4 -->\r\n<g id=\"edge7\" class=\"edge\">\r\n<title>Q2&#45;&gt;Q4</title>\r\n<path fill=\"none\" stroke=\"black\" d=\"M215.96,-125.88C233.99,-112.01 262.6,-89.99 283.16,-74.18\"/>\r\n<polygon fill=\"black\" stroke=\"black\" points=\"285.36,-76.9 291.15,-68.03 281.09,-71.36 285.36,-76.9\"/>\r\n<text text-anchor=\"middle\" x=\"253.49\" y=\"-110.8\" font-family=\"Times New Roman,serif\" font-size=\"14.00\">x3/y2</text>\r\n</g>\r\n<!-- Q5 -->\r\n<g id=\"node6\" class=\"node\">\r\n<title>Q5</title>\r\n<ellipse fill=\"none\" stroke=\"black\" cx=\"309.09\" cy=\"-201\" rx=\"22.2\" ry=\"22.2\"/>\r\n<text text-anchor=\"middle\" x=\"309.09\" y=\"-197.3\" font-family=\"Times New Roman,serif\" font-size=\"14.00\">Q5</text>\r\n</g>\r\n<!-- Q2&#45;&gt;Q5 -->\r\n<g id=\"edge6\" class=\"edge\">\r\n<title>Q2&#45;&gt;Q5</title>\r\n<path fill=\"none\" stroke=\"black\" d=\"M217.42,-149.52C234.75,-159.36 260.87,-174.19 280.63,-185.41\"/>\r\n<polygon fill=\"black\" stroke=\"black\" points=\"279.05,-188.54 289.48,-190.43 282.51,-182.45 279.05,-188.54\"/>\r\n<text text-anchor=\"middle\" x=\"253.49\" y=\"-180.8\" font-family=\"Times New Roman,serif\" font-size=\"14.00\">x2/y1</text>\r\n</g>\r\n<!-- Q3&#45;&gt;Q3 -->\r\n<g id=\"edge9\" class=\"edge\">\r\n<title>Q3&#45;&gt;Q3</title>\r\n<path fill=\"none\" stroke=\"black\" d=\"M411.24,-113.22C409.85,-123.67 412.86,-133.1 420.29,-133.1 425.16,-133.1 428.13,-129.04 429.2,-123.29\"/>\r\n<polygon fill=\"black\" stroke=\"black\" points=\"432.71,-123.26 429.33,-113.22 425.71,-123.17 432.71,-123.26\"/>\r\n<text text-anchor=\"middle\" x=\"420.29\" y=\"-136.9\" font-family=\"Times New Roman,serif\" font-size=\"14.00\">x2/y2</text>\r\n</g>\r\n<!-- Q3&#45;&gt;&#45; -->\r\n<g id=\"edge8\" class=\"edge\">\r\n<title>Q3&#45;&gt;&#45;</title>\r\n<path fill=\"none\" stroke=\"black\" d=\"M434.57,-75.58C441.38,-68.08 450.35,-60.1 460.38,-56 469.74,-52.18 480.69,-51.25 490.49,-51.51\"/>\r\n<polygon fill=\"black\" stroke=\"black\" points=\"490.32,-55 500.53,-52.18 490.78,-48.02 490.32,-55\"/>\r\n<text text-anchor=\"middle\" x=\"471.38\" y=\"-59.8\" font-family=\"Times New Roman,serif\" font-size=\"14.00\">x1/&#45;</text>\r\n</g>\r\n<!-- Q3&#45;&gt;&#45; -->\r\n<g id=\"edge10\" class=\"edge\">\r\n<title>Q3&#45;&gt;&#45;</title>\r\n<path fill=\"none\" stroke=\"black\" d=\"M441.53,-86.18C453.51,-82.03 468.92,-76.49 482.38,-71 485.7,-69.65 489.17,-68.16 492.57,-66.65\"/>\r\n<polygon fill=\"black\" stroke=\"black\" points=\"494.17,-69.77 501.82,-62.45 491.27,-63.4 494.17,-69.77\"/>\r\n<text text-anchor=\"middle\" x=\"471.38\" y=\"-83.8\" font-family=\"Times New Roman,serif\" font-size=\"14.00\">x3/&#45;</text>\r\n</g>\r\n<!-- Q4&#45;&gt;Q1 -->\r\n<g id=\"edge11\" class=\"edge\">\r\n<title>Q4&#45;&gt;Q1</title>\r\n<path fill=\"none\" stroke=\"black\" d=\"M287.25,-59.26C248.2,-67.23 163.85,-84.45 118.32,-93.75\"/>\r\n<polygon fill=\"black\" stroke=\"black\" points=\"117.53,-90.34 108.43,-95.77 118.93,-97.2 117.53,-90.34\"/>\r\n<text text-anchor=\"middle\" x=\"197.89\" y=\"-85.8\" font-family=\"Times New Roman,serif\" font-size=\"14.00\">x1/y2</text>\r\n</g>\r\n<!-- Q4&#45;&gt;Q3 -->\r\n<g id=\"edge12\" class=\"edge\">\r\n<title>Q4&#45;&gt;Q3</title>\r\n<path fill=\"none\" stroke=\"black\" d=\"M330.12,-61.97C346.71,-67.75 370.55,-76.04 389.4,-82.6\"/>\r\n<polygon fill=\"black\" stroke=\"black\" points=\"388.42,-85.96 399.02,-85.95 390.72,-79.35 388.42,-85.96\"/>\r\n<text text-anchor=\"middle\" x=\"364.69\" y=\"-82.8\" font-family=\"Times New Roman,serif\" font-size=\"14.00\">x2/y1</text>\r\n</g>\r\n<!-- Q4&#45;&gt;Q4 -->\r\n<g id=\"edge13\" class=\"edge\">\r\n<title>Q4&#45;&gt;Q4</title>\r\n<path fill=\"none\" stroke=\"black\" d=\"M299.32,-75.22C297.82,-85.67 301.07,-95.1 309.09,-95.1 314.35,-95.1 317.56,-91.04 318.72,-85.29\"/>\r\n<polygon fill=\"black\" stroke=\"black\" points=\"322.22,-85.27 318.86,-75.22 315.22,-85.17 322.22,-85.27\"/>\r\n<text text-anchor=\"middle\" x=\"309.09\" y=\"-98.9\" font-family=\"Times New Roman,serif\" font-size=\"14.00\">x3/y2</text>\r\n</g>\r\n<!-- Q5&#45;&gt;Q1 -->\r\n<g id=\"edge15\" class=\"edge\">\r\n<title>Q5&#45;&gt;Q1</title>\r\n<path fill=\"none\" stroke=\"black\" d=\"M286.97,-200.82C272.93,-200.3 254.15,-198.85 237.99,-195 184.92,-182.36 169.62,-176.8 126.8,-143 120.11,-137.72 113.59,-131.26 107.84,-124.95\"/>\r\n<polygon fill=\"black\" stroke=\"black\" points=\"110.25,-122.39 101.03,-117.16 104.98,-126.99 110.25,-122.39\"/>\r\n<text text-anchor=\"middle\" x=\"197.89\" y=\"-193.8\" font-family=\"Times New Roman,serif\" font-size=\"14.00\">x2/y1</text>\r\n</g>\r\n<!-- Q5&#45;&gt;Q3 -->\r\n<g id=\"edge14\" class=\"edge\">\r\n<title>Q5&#45;&gt;Q3</title>\r\n<path fill=\"none\" stroke=\"black\" d=\"M329.74,-192.86C344.89,-185.85 365.64,-174.56 380.19,-160 390.88,-149.29 399.72,-135.08 406.27,-122.5\"/>\r\n<polygon fill=\"black\" stroke=\"black\" points=\"409.54,-123.8 410.83,-113.28 403.26,-120.69 409.54,-123.8\"/>\r\n<text text-anchor=\"middle\" x=\"364.69\" y=\"-185.8\" font-family=\"Times New Roman,serif\" font-size=\"14.00\">x1/y2</text>\r\n</g>\r\n<!-- Q5&#45;&gt;Q5 -->\r\n<g id=\"edge16\" class=\"edge\">\r\n<title>Q5&#45;&gt;Q5</title>\r\n<path fill=\"none\" stroke=\"black\" d=\"M299.32,-221.22C297.82,-231.67 301.07,-241.1 309.09,-241.1 314.35,-241.1 317.56,-237.04 318.72,-231.29\"/>\r\n<polygon fill=\"black\" stroke=\"black\" points=\"322.22,-231.27 318.86,-221.22 315.22,-231.17 322.22,-231.27\"/>\r\n<text text-anchor=\"middle\" x=\"309.09\" y=\"-244.9\" font-family=\"Times New Roman,serif\" font-size=\"14.00\">x3/y1</text>\r\n</g>\r\n</g>\r\n</svg>\r\n",
      "text/plain": [
       "<graphviz.files.Source at 0x2422c12c700>"
      ]
     },
     "metadata": {},
     "output_type": "display_data"
    }
   ],
   "source": [
    "init = mealyFSTmap['test08']\n",
    "fstMealy = fst(init[0], init[1], init[2], init[3], init[4], init[5])\n",
    "display(Markdown(fstUtils.toMdTable(fstMealy)))\n",
    "display(graphviz.Source(fstUtils.toDot(fstMealy)))"
   ]
  },
  {
   "cell_type": "code",
   "execution_count": 7,
   "metadata": {},
   "outputs": [
    {
     "data": {
      "text/markdown": [
       "| Input \\ State | 0/- | 1/y1 | 2/y2 | 3/- | 4/y2 | 5/y1 | 6/y2 | 7/y1 | 8/y1 |\n",
       "|:---:|:---:|:---:|:---:|:---:|:---:|:---:|:---:|:---:|:---:|\n",
       "| x1 | 1 | 4 | 1 | - | 3 | 4 | 2 | 3 | 1 |\n",
       "| x2 | 2 | 5 | 2 | - | 4 | 8 | 7 | 4 | 2 |\n",
       "| x3 | 3 | 6 | 3 | - | 3 | 5 | 6 | 3 | 3 |\n"
      ],
      "text/plain": [
       "<IPython.core.display.Markdown object>"
      ]
     },
     "metadata": {},
     "output_type": "display_data"
    },
    {
     "data": {
      "image/svg+xml": "<?xml version=\"1.0\" encoding=\"UTF-8\" standalone=\"no\"?>\r\n<!DOCTYPE svg PUBLIC \"-//W3C//DTD SVG 1.1//EN\"\r\n \"http://www.w3.org/Graphics/SVG/1.1/DTD/svg11.dtd\">\r\n<!-- Generated by graphviz version 2.49.0 (20210828.1703)\r\n -->\r\n<!-- Title: fst Pages: 1 -->\r\n<svg width=\"705pt\" height=\"420pt\"\r\n viewBox=\"0.00 0.00 704.97 419.65\" xmlns=\"http://www.w3.org/2000/svg\" xmlns:xlink=\"http://www.w3.org/1999/xlink\">\r\n<g id=\"graph0\" class=\"graph\" transform=\"scale(1 1) rotate(0) translate(4 415.65)\">\r\n<title>fst</title>\r\n<polygon fill=\"white\" stroke=\"transparent\" points=\"-4,4 -4,-415.65 700.97,-415.65 700.97,4 -4,4\"/>\r\n<!-- start -->\r\n<g id=\"node1\" class=\"node\">\r\n<title>start</title>\r\n<ellipse fill=\"black\" stroke=\"black\" cx=\"1.8\" cy=\"-46\" rx=\"1.8\" ry=\"1.8\"/>\r\n</g>\r\n<!-- 0 -->\r\n<g id=\"node2\" class=\"node\">\r\n<title>0</title>\r\n<ellipse fill=\"none\" stroke=\"black\" cx=\"85.4\" cy=\"-46\" rx=\"20.6\" ry=\"20.6\"/>\r\n<text text-anchor=\"middle\" x=\"85.4\" y=\"-42.3\" font-family=\"Times New Roman,serif\" font-size=\"14.00\">0/&#45;</text>\r\n</g>\r\n<!-- start&#45;&gt;0 -->\r\n<g id=\"edge1\" class=\"edge\">\r\n<title>start&#45;&gt;0</title>\r\n<path fill=\"none\" stroke=\"black\" d=\"M3.72,-46C8.75,-46 33.56,-46 54.36,-46\"/>\r\n<polygon fill=\"black\" stroke=\"black\" points=\"54.44,-49.5 64.44,-46 54.44,-42.5 54.44,-49.5\"/>\r\n<text text-anchor=\"middle\" x=\"34.1\" y=\"-49.8\" font-family=\"Times New Roman,serif\" font-size=\"14.00\">start</text>\r\n</g>\r\n<!-- 1 -->\r\n<g id=\"node3\" class=\"node\">\r\n<title>1</title>\r\n<ellipse fill=\"none\" stroke=\"black\" cx=\"182.84\" cy=\"-202\" rx=\"26.8\" ry=\"26.8\"/>\r\n<text text-anchor=\"middle\" x=\"182.84\" y=\"-198.3\" font-family=\"Times New Roman,serif\" font-size=\"14.00\">1/y1</text>\r\n</g>\r\n<!-- 0&#45;&gt;1 -->\r\n<g id=\"edge2\" class=\"edge\">\r\n<title>0&#45;&gt;1</title>\r\n<path fill=\"none\" stroke=\"black\" d=\"M96.98,-63.29C112.86,-89.25 143.11,-138.69 162.87,-170.99\"/>\r\n<polygon fill=\"black\" stroke=\"black\" points=\"159.94,-172.91 168.15,-179.61 165.91,-169.25 159.94,-172.91\"/>\r\n<text text-anchor=\"middle\" x=\"131.2\" y=\"-132.8\" font-family=\"Times New Roman,serif\" font-size=\"14.00\">x1</text>\r\n</g>\r\n<!-- 2 -->\r\n<g id=\"node4\" class=\"node\">\r\n<title>2</title>\r\n<ellipse fill=\"none\" stroke=\"black\" cx=\"492.73\" cy=\"-65\" rx=\"26.8\" ry=\"26.8\"/>\r\n<text text-anchor=\"middle\" x=\"492.73\" y=\"-61.3\" font-family=\"Times New Roman,serif\" font-size=\"14.00\">2/y2</text>\r\n</g>\r\n<!-- 0&#45;&gt;2 -->\r\n<g id=\"edge3\" class=\"edge\">\r\n<title>0&#45;&gt;2</title>\r\n<path fill=\"none\" stroke=\"black\" d=\"M106.51,-46C125.82,-46 155.83,-46 181.84,-46 181.84,-46 181.84,-46 390.43,-46 412.88,-46 437.65,-50.56 457.08,-55.22\"/>\r\n<polygon fill=\"black\" stroke=\"black\" points=\"456.44,-58.66 467,-57.71 458.15,-51.88 456.44,-58.66\"/>\r\n<text text-anchor=\"middle\" x=\"286.14\" y=\"-49.8\" font-family=\"Times New Roman,serif\" font-size=\"14.00\">x2</text>\r\n</g>\r\n<!-- 3 -->\r\n<g id=\"node5\" class=\"node\">\r\n<title>3</title>\r\n<ellipse fill=\"none\" stroke=\"black\" cx=\"590.18\" cy=\"-212\" rx=\"20.6\" ry=\"20.6\"/>\r\n<text text-anchor=\"middle\" x=\"590.18\" y=\"-208.3\" font-family=\"Times New Roman,serif\" font-size=\"14.00\">3/&#45;</text>\r\n</g>\r\n<!-- 0&#45;&gt;3 -->\r\n<g id=\"edge4\" class=\"edge\">\r\n<title>0&#45;&gt;3</title>\r\n<path fill=\"none\" stroke=\"black\" d=\"M101.85,-33.19C119.87,-19.58 151.13,0 181.84,0 181.84,0 181.84,0 493.73,0 572.01,0 586.46,-121.66 588.87,-180.65\"/>\r\n<polygon fill=\"black\" stroke=\"black\" points=\"585.38,-181.01 589.19,-190.9 592.37,-180.79 585.38,-181.01\"/>\r\n<text text-anchor=\"middle\" x=\"337.79\" y=\"-3.8\" font-family=\"Times New Roman,serif\" font-size=\"14.00\">x3</text>\r\n</g>\r\n<!-- 4 -->\r\n<g id=\"node6\" class=\"node\">\r\n<title>4</title>\r\n<ellipse fill=\"none\" stroke=\"black\" cx=\"492.73\" cy=\"-283\" rx=\"26.8\" ry=\"26.8\"/>\r\n<text text-anchor=\"middle\" x=\"492.73\" y=\"-279.3\" font-family=\"Times New Roman,serif\" font-size=\"14.00\">4/y2</text>\r\n</g>\r\n<!-- 1&#45;&gt;4 -->\r\n<g id=\"edge11\" class=\"edge\">\r\n<title>1&#45;&gt;4</title>\r\n<path fill=\"none\" stroke=\"black\" d=\"M208.22,-210.61C222.97,-215.68 242.2,-222.05 259.49,-227 328.35,-246.7 349.38,-238.93 416.08,-265 424.61,-268.33 425.4,-272.1 434.08,-275 440.99,-277.31 448.57,-278.95 455.91,-280.12\"/>\r\n<polygon fill=\"black\" stroke=\"black\" points=\"455.63,-283.61 466.01,-281.48 456.57,-276.68 455.63,-283.61\"/>\r\n<text text-anchor=\"middle\" x=\"337.79\" y=\"-248.8\" font-family=\"Times New Roman,serif\" font-size=\"14.00\">x1</text>\r\n</g>\r\n<!-- 5 -->\r\n<g id=\"node7\" class=\"node\">\r\n<title>5</title>\r\n<ellipse fill=\"none\" stroke=\"black\" cx=\"286.14\" cy=\"-352\" rx=\"26.8\" ry=\"26.8\"/>\r\n<text text-anchor=\"middle\" x=\"286.14\" y=\"-348.3\" font-family=\"Times New Roman,serif\" font-size=\"14.00\">5/y1</text>\r\n</g>\r\n<!-- 1&#45;&gt;5 -->\r\n<g id=\"edge12\" class=\"edge\">\r\n<title>1&#45;&gt;5</title>\r\n<path fill=\"none\" stroke=\"black\" d=\"M190.71,-227.79C197.52,-250.05 209.54,-282.26 227.49,-306 235.02,-315.95 245.17,-325 254.85,-332.38\"/>\r\n<polygon fill=\"black\" stroke=\"black\" points=\"253.02,-335.37 263.17,-338.42 257.13,-329.71 253.02,-335.37\"/>\r\n<text text-anchor=\"middle\" x=\"234.49\" y=\"-324.8\" font-family=\"Times New Roman,serif\" font-size=\"14.00\">x2</text>\r\n</g>\r\n<!-- 6 -->\r\n<g id=\"node8\" class=\"node\">\r\n<title>6</title>\r\n<ellipse fill=\"none\" stroke=\"black\" cx=\"286.14\" cy=\"-158\" rx=\"26.8\" ry=\"26.8\"/>\r\n<text text-anchor=\"middle\" x=\"286.14\" y=\"-154.3\" font-family=\"Times New Roman,serif\" font-size=\"14.00\">6/y2</text>\r\n</g>\r\n<!-- 1&#45;&gt;6 -->\r\n<g id=\"edge13\" class=\"edge\">\r\n<title>1&#45;&gt;6</title>\r\n<path fill=\"none\" stroke=\"black\" d=\"M207.59,-191.68C220.93,-185.89 237.77,-178.58 252.35,-172.24\"/>\r\n<polygon fill=\"black\" stroke=\"black\" points=\"253.76,-175.45 261.54,-168.25 250.97,-169.03 253.76,-175.45\"/>\r\n<text text-anchor=\"middle\" x=\"234.49\" y=\"-186.8\" font-family=\"Times New Roman,serif\" font-size=\"14.00\">x3</text>\r\n</g>\r\n<!-- 2&#45;&gt;1 -->\r\n<g id=\"edge5\" class=\"edge\">\r\n<title>2&#45;&gt;1</title>\r\n<path fill=\"none\" stroke=\"black\" d=\"M465.91,-66.59C421.08,-70.34 327.13,-82.64 259.49,-122 237.91,-134.56 218.66,-155.13 204.98,-172.27\"/>\r\n<polygon fill=\"black\" stroke=\"black\" points=\"202.07,-170.3 198.72,-180.35 207.61,-174.58 202.07,-170.3\"/>\r\n<text text-anchor=\"middle\" x=\"337.79\" y=\"-95.8\" font-family=\"Times New Roman,serif\" font-size=\"14.00\">x1</text>\r\n</g>\r\n<!-- 2&#45;&gt;2 -->\r\n<g id=\"edge6\" class=\"edge\">\r\n<title>2&#45;&gt;2</title>\r\n<path fill=\"none\" stroke=\"black\" d=\"M483.44,-90.24C482.8,-100.75 485.89,-109.65 492.73,-109.65 497.11,-109.65 499.95,-105.99 501.26,-100.61\"/>\r\n<polygon fill=\"black\" stroke=\"black\" points=\"504.78,-100.47 502.02,-90.24 497.8,-99.96 504.78,-100.47\"/>\r\n<text text-anchor=\"middle\" x=\"492.73\" y=\"-113.45\" font-family=\"Times New Roman,serif\" font-size=\"14.00\">x2</text>\r\n</g>\r\n<!-- 2&#45;&gt;3 -->\r\n<g id=\"edge7\" class=\"edge\">\r\n<title>2&#45;&gt;3</title>\r\n<path fill=\"none\" stroke=\"black\" d=\"M512.1,-83.54C524.22,-96.42 539.93,-114.37 551.38,-132 561.91,-148.22 571.22,-167.83 577.97,-183.57\"/>\r\n<polygon fill=\"black\" stroke=\"black\" points=\"574.74,-184.93 581.83,-192.81 581.2,-182.24 574.74,-184.93\"/>\r\n<text text-anchor=\"middle\" x=\"544.38\" y=\"-135.8\" font-family=\"Times New Roman,serif\" font-size=\"14.00\">x3</text>\r\n</g>\r\n<!-- &#45; -->\r\n<g id=\"node11\" class=\"node\">\r\n<title>&#45;</title>\r\n<ellipse fill=\"hotpink\" stroke=\"black\" cx=\"678.97\" cy=\"-212\" rx=\"18\" ry=\"18\"/>\r\n<text text-anchor=\"middle\" x=\"678.97\" y=\"-208.3\" font-family=\"Times New Roman,serif\" font-size=\"14.00\">&#45;</text>\r\n</g>\r\n<!-- 3&#45;&gt;&#45; -->\r\n<g id=\"edge14\" class=\"edge\">\r\n<title>3&#45;&gt;&#45;</title>\r\n<path fill=\"none\" stroke=\"black\" d=\"M608.72,-222.14C618.66,-226.69 631.39,-230.52 642.97,-228 646.47,-227.24 650.04,-226.09 653.5,-224.76\"/>\r\n<polygon fill=\"black\" stroke=\"black\" points=\"655.05,-227.9 662.79,-220.66 652.23,-221.49 655.05,-227.9\"/>\r\n<text text-anchor=\"middle\" x=\"635.97\" y=\"-232.8\" font-family=\"Times New Roman,serif\" font-size=\"14.00\">x1</text>\r\n</g>\r\n<!-- 3&#45;&gt;&#45; -->\r\n<g id=\"edge15\" class=\"edge\">\r\n<title>3&#45;&gt;&#45;</title>\r\n<path fill=\"none\" stroke=\"black\" d=\"M611.34,-209.89C620.92,-209.13 632.53,-208.55 642.97,-209 645.53,-209.11 648.19,-209.26 650.86,-209.45\"/>\r\n<polygon fill=\"black\" stroke=\"black\" points=\"650.66,-212.94 660.9,-210.24 651.21,-205.96 650.66,-212.94\"/>\r\n<text text-anchor=\"middle\" x=\"635.97\" y=\"-212.8\" font-family=\"Times New Roman,serif\" font-size=\"14.00\">x2</text>\r\n</g>\r\n<!-- 3&#45;&gt;&#45; -->\r\n<g id=\"edge16\" class=\"edge\">\r\n<title>3&#45;&gt;&#45;</title>\r\n<path fill=\"none\" stroke=\"black\" d=\"M606.68,-199.3C616.79,-192.57 630.39,-186.37 642.97,-190 647.44,-191.29 651.88,-193.33 656.03,-195.66\"/>\r\n<polygon fill=\"black\" stroke=\"black\" points=\"654.22,-198.66 664.54,-201.06 657.97,-192.75 654.22,-198.66\"/>\r\n<text text-anchor=\"middle\" x=\"635.97\" y=\"-193.8\" font-family=\"Times New Roman,serif\" font-size=\"14.00\">x3</text>\r\n</g>\r\n<!-- 4&#45;&gt;3 -->\r\n<g id=\"edge17\" class=\"edge\">\r\n<title>4&#45;&gt;3</title>\r\n<path fill=\"none\" stroke=\"black\" d=\"M518.79,-276.74C529.51,-273.26 541.75,-268.16 551.38,-261 559.7,-254.82 567.11,-246.33 573.13,-238.16\"/>\r\n<polygon fill=\"black\" stroke=\"black\" points=\"576.05,-240.09 578.87,-229.87 570.3,-236.1 576.05,-240.09\"/>\r\n<text text-anchor=\"middle\" x=\"544.38\" y=\"-272.8\" font-family=\"Times New Roman,serif\" font-size=\"14.00\">x1</text>\r\n</g>\r\n<!-- 4&#45;&gt;3 -->\r\n<g id=\"edge19\" class=\"edge\">\r\n<title>4&#45;&gt;3</title>\r\n<path fill=\"none\" stroke=\"black\" d=\"M512.02,-264.04C519.53,-256.74 528.54,-248.58 537.38,-242 545.13,-236.23 554.09,-230.7 562.35,-225.98\"/>\r\n<polygon fill=\"black\" stroke=\"black\" points=\"564.22,-228.95 571.28,-221.05 560.84,-222.82 564.22,-228.95\"/>\r\n<text text-anchor=\"middle\" x=\"544.38\" y=\"-245.8\" font-family=\"Times New Roman,serif\" font-size=\"14.00\">x3</text>\r\n</g>\r\n<!-- 4&#45;&gt;4 -->\r\n<g id=\"edge18\" class=\"edge\">\r\n<title>4&#45;&gt;4</title>\r\n<path fill=\"none\" stroke=\"black\" d=\"M483.44,-308.24C482.8,-318.75 485.89,-327.65 492.73,-327.65 497.11,-327.65 499.95,-323.99 501.26,-318.61\"/>\r\n<polygon fill=\"black\" stroke=\"black\" points=\"504.78,-318.47 502.02,-308.24 497.8,-317.96 504.78,-318.47\"/>\r\n<text text-anchor=\"middle\" x=\"492.73\" y=\"-331.45\" font-family=\"Times New Roman,serif\" font-size=\"14.00\">x2</text>\r\n</g>\r\n<!-- 5&#45;&gt;4 -->\r\n<g id=\"edge23\" class=\"edge\">\r\n<title>5&#45;&gt;4</title>\r\n<path fill=\"none\" stroke=\"black\" d=\"M312.89,-353.08C339.68,-353.28 382.36,-350.99 416.08,-337 433.48,-329.78 450.75,-317.91 464.38,-307.14\"/>\r\n<polygon fill=\"black\" stroke=\"black\" points=\"466.83,-309.65 472.37,-300.62 462.41,-304.23 466.83,-309.65\"/>\r\n<text text-anchor=\"middle\" x=\"389.43\" y=\"-353.8\" font-family=\"Times New Roman,serif\" font-size=\"14.00\">x1</text>\r\n</g>\r\n<!-- 5&#45;&gt;5 -->\r\n<g id=\"edge25\" class=\"edge\">\r\n<title>5&#45;&gt;5</title>\r\n<path fill=\"none\" stroke=\"black\" d=\"M276.85,-377.24C276.21,-387.75 279.3,-396.65 286.14,-396.65 290.52,-396.65 293.36,-392.99 294.67,-387.61\"/>\r\n<polygon fill=\"black\" stroke=\"black\" points=\"298.19,-387.47 295.43,-377.24 291.21,-386.96 298.19,-387.47\"/>\r\n<text text-anchor=\"middle\" x=\"286.14\" y=\"-400.45\" font-family=\"Times New Roman,serif\" font-size=\"14.00\">x3</text>\r\n</g>\r\n<!-- 8 -->\r\n<g id=\"node10\" class=\"node\">\r\n<title>8</title>\r\n<ellipse fill=\"none\" stroke=\"black\" cx=\"389.43\" cy=\"-301\" rx=\"26.8\" ry=\"26.8\"/>\r\n<text text-anchor=\"middle\" x=\"389.43\" y=\"-297.3\" font-family=\"Times New Roman,serif\" font-size=\"14.00\">8/y1</text>\r\n</g>\r\n<!-- 5&#45;&gt;8 -->\r\n<g id=\"edge24\" class=\"edge\">\r\n<title>5&#45;&gt;8</title>\r\n<path fill=\"none\" stroke=\"black\" d=\"M310.38,-340.3C323.89,-333.5 341.13,-324.82 355.96,-317.35\"/>\r\n<polygon fill=\"black\" stroke=\"black\" points=\"357.95,-320.27 365.3,-312.65 354.8,-314.02 357.95,-320.27\"/>\r\n<text text-anchor=\"middle\" x=\"337.79\" y=\"-333.8\" font-family=\"Times New Roman,serif\" font-size=\"14.00\">x2</text>\r\n</g>\r\n<!-- 6&#45;&gt;2 -->\r\n<g id=\"edge26\" class=\"edge\">\r\n<title>6&#45;&gt;2</title>\r\n<path fill=\"none\" stroke=\"black\" d=\"M312.16,-151.45C344.72,-142.35 402.8,-124.12 448.08,-99 453.46,-96.01 458.88,-92.39 463.99,-88.64\"/>\r\n<polygon fill=\"black\" stroke=\"black\" points=\"466.43,-91.18 472.22,-82.3 462.16,-85.63 466.43,-91.18\"/>\r\n<text text-anchor=\"middle\" x=\"389.43\" y=\"-138.8\" font-family=\"Times New Roman,serif\" font-size=\"14.00\">x1</text>\r\n</g>\r\n<!-- 6&#45;&gt;6 -->\r\n<g id=\"edge28\" class=\"edge\">\r\n<title>6&#45;&gt;6</title>\r\n<path fill=\"none\" stroke=\"black\" d=\"M276.85,-183.24C276.21,-193.75 279.3,-202.65 286.14,-202.65 290.52,-202.65 293.36,-198.99 294.67,-193.61\"/>\r\n<polygon fill=\"black\" stroke=\"black\" points=\"298.19,-193.47 295.43,-183.24 291.21,-192.96 298.19,-193.47\"/>\r\n<text text-anchor=\"middle\" x=\"286.14\" y=\"-206.45\" font-family=\"Times New Roman,serif\" font-size=\"14.00\">x3</text>\r\n</g>\r\n<!-- 7 -->\r\n<g id=\"node9\" class=\"node\">\r\n<title>7</title>\r\n<ellipse fill=\"none\" stroke=\"black\" cx=\"389.43\" cy=\"-191\" rx=\"26.8\" ry=\"26.8\"/>\r\n<text text-anchor=\"middle\" x=\"389.43\" y=\"-187.3\" font-family=\"Times New Roman,serif\" font-size=\"14.00\">7/y1</text>\r\n</g>\r\n<!-- 6&#45;&gt;7 -->\r\n<g id=\"edge27\" class=\"edge\">\r\n<title>6&#45;&gt;7</title>\r\n<path fill=\"none\" stroke=\"black\" d=\"M311.66,-165.99C324.38,-170.13 340.13,-175.26 354.05,-179.8\"/>\r\n<polygon fill=\"black\" stroke=\"black\" points=\"353.2,-183.2 363.79,-182.97 355.36,-176.55 353.2,-183.2\"/>\r\n<text text-anchor=\"middle\" x=\"337.79\" y=\"-180.8\" font-family=\"Times New Roman,serif\" font-size=\"14.00\">x2</text>\r\n</g>\r\n<!-- 7&#45;&gt;3 -->\r\n<g id=\"edge20\" class=\"edge\">\r\n<title>7&#45;&gt;3</title>\r\n<path fill=\"none\" stroke=\"black\" d=\"M414.03,-180.64C420.41,-178.31 427.41,-176.18 434.08,-175 471.41,-168.37 482.59,-165.85 519.38,-175 535.12,-178.91 551.22,-187.11 563.98,-194.8\"/>\r\n<polygon fill=\"black\" stroke=\"black\" points=\"562.3,-197.88 572.63,-200.23 566.03,-191.95 562.3,-197.88\"/>\r\n<text text-anchor=\"middle\" x=\"492.73\" y=\"-178.8\" font-family=\"Times New Roman,serif\" font-size=\"14.00\">x1</text>\r\n</g>\r\n<!-- 7&#45;&gt;3 -->\r\n<g id=\"edge22\" class=\"edge\">\r\n<title>7&#45;&gt;3</title>\r\n<path fill=\"none\" stroke=\"black\" d=\"M416.01,-193.7C452.71,-197.58 520.18,-204.71 559.19,-208.83\"/>\r\n<polygon fill=\"black\" stroke=\"black\" points=\"559.07,-212.34 569.38,-209.91 559.81,-205.38 559.07,-212.34\"/>\r\n<text text-anchor=\"middle\" x=\"492.73\" y=\"-208.8\" font-family=\"Times New Roman,serif\" font-size=\"14.00\">x3</text>\r\n</g>\r\n<!-- 7&#45;&gt;4 -->\r\n<g id=\"edge21\" class=\"edge\">\r\n<title>7&#45;&gt;4</title>\r\n<path fill=\"none\" stroke=\"black\" d=\"M414.42,-200.86C425.42,-206.11 438.19,-213.29 448.08,-222 457.71,-230.47 466.38,-241.44 473.42,-251.74\"/>\r\n<polygon fill=\"black\" stroke=\"black\" points=\"470.52,-253.71 478.92,-260.17 476.38,-249.88 470.52,-253.71\"/>\r\n<text text-anchor=\"middle\" x=\"441.08\" y=\"-225.8\" font-family=\"Times New Roman,serif\" font-size=\"14.00\">x2</text>\r\n</g>\r\n<!-- 8&#45;&gt;1 -->\r\n<g id=\"edge8\" class=\"edge\">\r\n<title>8&#45;&gt;1</title>\r\n<path fill=\"none\" stroke=\"black\" d=\"M362.62,-299.66C328.94,-296.81 269.37,-287.89 227.49,-260 217.35,-253.25 208.64,-243.32 201.74,-233.58\"/>\r\n<polygon fill=\"black\" stroke=\"black\" points=\"204.59,-231.55 196.14,-225.16 198.76,-235.43 204.59,-231.55\"/>\r\n<text text-anchor=\"middle\" x=\"286.14\" y=\"-296.8\" font-family=\"Times New Roman,serif\" font-size=\"14.00\">x1</text>\r\n</g>\r\n<!-- 8&#45;&gt;2 -->\r\n<g id=\"edge9\" class=\"edge\">\r\n<title>8&#45;&gt;2</title>\r\n<path fill=\"none\" stroke=\"black\" d=\"M410.36,-284.28C423.16,-272.42 439.03,-255.38 448.08,-237 467.64,-197.27 454.8,-181.82 466.08,-139 469.55,-125.82 474.24,-111.62 478.65,-99.22\"/>\r\n<polygon fill=\"black\" stroke=\"black\" points=\"481.98,-100.31 482.11,-89.71 475.4,-97.92 481.98,-100.31\"/>\r\n<text text-anchor=\"middle\" x=\"441.08\" y=\"-262.8\" font-family=\"Times New Roman,serif\" font-size=\"14.00\">x2</text>\r\n</g>\r\n<!-- 8&#45;&gt;3 -->\r\n<g id=\"edge10\" class=\"edge\">\r\n<title>8&#45;&gt;3</title>\r\n<path fill=\"none\" stroke=\"black\" d=\"M409.34,-318.97C435.37,-341.45 483.13,-374.4 519.38,-352 557.84,-328.23 575.79,-276.17 583.65,-242.66\"/>\r\n<polygon fill=\"black\" stroke=\"black\" points=\"587.16,-243.01 585.86,-232.5 580.31,-241.53 587.16,-243.01\"/>\r\n<text text-anchor=\"middle\" x=\"492.73\" y=\"-362.8\" font-family=\"Times New Roman,serif\" font-size=\"14.00\">x3</text>\r\n</g>\r\n</g>\r\n</svg>\r\n",
      "text/plain": [
       "<graphviz.files.Source at 0x2422c385100>"
      ]
     },
     "metadata": {},
     "output_type": "display_data"
    }
   ],
   "source": [
    "fstMoore = fstMealy.asMoore()\n",
    "display(Markdown(fstUtils.toMdTable(fstMoore)))\n",
    "display(graphviz.Source(fstUtils.toDot(fstMoore)))"
   ]
  },
  {
   "cell_type": "code",
   "execution_count": 8,
   "metadata": {},
   "outputs": [
    {
     "name": "stdout",
     "output_type": "stream",
     "text": [
      "['x1', 'x1', 'x1', 'x1']\n",
      "['y1', 'y2', -1, -1]\n",
      "['y1', 'y2', -1, -1]\n",
      "-----\n",
      "['x1', 'x1', 'x2']\n",
      "['y1', 'y2', 'y2']\n",
      "['y1', 'y2', 'y2']\n",
      "-----\n",
      "['x1', 'x1', 'x3', 'x1']\n",
      "['y1', 'y2', -1, -1]\n",
      "['y1', 'y2', -1, -1]\n",
      "-----\n",
      "['x1', 'x2', 'x1', 'x1', 'x1']\n",
      "['y1', 'y1', 'y2', -1, -1]\n",
      "['y1', 'y1', 'y2', -1, -1]\n",
      "-----\n",
      "['x1', 'x2', 'x1', 'x2']\n",
      "['y1', 'y1', 'y2', 'y2']\n",
      "['y1', 'y1', 'y2', 'y2']\n",
      "-----\n",
      "['x1', 'x2', 'x1', 'x3', 'x1']\n",
      "['y1', 'y1', 'y2', -1, -1]\n",
      "['y1', 'y1', 'y2', -1, -1]\n",
      "-----\n",
      "['x1', 'x2', 'x2', 'x1']\n",
      "['y1', 'y1', 'y1', 'y1']\n",
      "['y1', 'y1', 'y1', 'y1']\n",
      "-----\n",
      "['x1', 'x2', 'x2', 'x2', 'x1']\n",
      "['y1', 'y1', 'y1', 'y2', 'y1']\n",
      "['y1', 'y1', 'y1', 'y2', 'y1']\n",
      "-----\n",
      "['x1', 'x2', 'x2', 'x2', 'x2']\n",
      "['y1', 'y1', 'y1', 'y2', 'y2']\n",
      "['y1', 'y1', 'y1', 'y2', 'y2']\n",
      "-----\n",
      "['x1', 'x2', 'x2', 'x2', 'x3', 'x1']\n",
      "['y1', 'y1', 'y1', 'y2', -1, -1]\n",
      "['y1', 'y1', 'y1', 'y2', -1, -1]\n",
      "-----\n",
      "['x1', 'x2', 'x2', 'x3', 'x1']\n",
      "['y1', 'y1', 'y1', -1, -1]\n",
      "['y1', 'y1', 'y1', -1, -1]\n",
      "-----\n",
      "['x1', 'x2', 'x3']\n",
      "['y1', 'y1', 'y1']\n",
      "['y1', 'y1', 'y1']\n",
      "-----\n",
      "['x1', 'x3', 'x1', 'x1']\n",
      "['y1', 'y2', 'y2', 'y1']\n",
      "['y1', 'y2', 'y2', 'y1']\n",
      "-----\n",
      "['x1', 'x3', 'x1', 'x2']\n",
      "['y1', 'y2', 'y2', 'y2']\n",
      "['y1', 'y2', 'y2', 'y2']\n",
      "-----\n",
      "['x1', 'x3', 'x1', 'x3', 'x1']\n",
      "['y1', 'y2', 'y2', -1, -1]\n",
      "['y1', 'y2', 'y2', -1, -1]\n",
      "-----\n",
      "['x1', 'x3', 'x2', 'x1', 'x1']\n",
      "['y1', 'y2', 'y1', -1, -1]\n",
      "['y1', 'y2', 'y1', -1, -1]\n",
      "-----\n",
      "['x1', 'x3', 'x2', 'x2', 'x1', 'x1']\n",
      "['y1', 'y2', 'y1', 'y2', -1, -1]\n",
      "['y1', 'y2', 'y1', 'y2', -1, -1]\n",
      "-----\n",
      "['x1', 'x3', 'x2', 'x2', 'x2']\n",
      "['y1', 'y2', 'y1', 'y2', 'y2']\n",
      "['y1', 'y2', 'y1', 'y2', 'y2']\n",
      "-----\n",
      "['x1', 'x3', 'x2', 'x2', 'x3', 'x1']\n",
      "['y1', 'y2', 'y1', 'y2', -1, -1]\n",
      "['y1', 'y2', 'y1', 'y2', -1, -1]\n",
      "-----\n",
      "['x1', 'x3', 'x2', 'x3', 'x1']\n",
      "['y1', 'y2', 'y1', -1, -1]\n",
      "['y1', 'y2', 'y1', -1, -1]\n",
      "-----\n",
      "['x1', 'x3', 'x3']\n",
      "['y1', 'y2', 'y2']\n",
      "['y1', 'y2', 'y2']\n",
      "-----\n",
      "['x2', 'x1', 'x1', 'x1', 'x1']\n",
      "['y2', 'y1', 'y2', -1, -1]\n",
      "['y2', 'y1', 'y2', -1, -1]\n",
      "-----\n",
      "['x2', 'x1', 'x1', 'x2']\n",
      "['y2', 'y1', 'y2', 'y2']\n",
      "['y2', 'y1', 'y2', 'y2']\n",
      "-----\n",
      "['x2', 'x1', 'x1', 'x3', 'x1']\n",
      "['y2', 'y1', 'y2', -1, -1]\n",
      "['y2', 'y1', 'y2', -1, -1]\n",
      "-----\n",
      "['x2', 'x1', 'x2', 'x1', 'x1', 'x1']\n",
      "['y2', 'y1', 'y1', 'y2', -1, -1]\n",
      "['y2', 'y1', 'y1', 'y2', -1, -1]\n",
      "-----\n",
      "['x2', 'x1', 'x2', 'x1', 'x2']\n",
      "['y2', 'y1', 'y1', 'y2', 'y2']\n",
      "['y2', 'y1', 'y1', 'y2', 'y2']\n",
      "-----\n",
      "['x2', 'x1', 'x2', 'x1', 'x3', 'x1']\n",
      "['y2', 'y1', 'y1', 'y2', -1, -1]\n",
      "['y2', 'y1', 'y1', 'y2', -1, -1]\n",
      "-----\n",
      "['x2', 'x1', 'x2', 'x2', 'x1']\n",
      "['y2', 'y1', 'y1', 'y1', 'y1']\n",
      "['y2', 'y1', 'y1', 'y1', 'y1']\n",
      "-----\n",
      "['x2', 'x1', 'x2', 'x2', 'x2']\n",
      "['y2', 'y1', 'y1', 'y1', 'y2']\n",
      "['y2', 'y1', 'y1', 'y1', 'y2']\n",
      "-----\n",
      "['x2', 'x1', 'x2', 'x2', 'x3', 'x1']\n",
      "['y2', 'y1', 'y1', 'y1', -1, -1]\n",
      "['y2', 'y1', 'y1', 'y1', -1, -1]\n",
      "-----\n",
      "['x2', 'x1', 'x2', 'x3']\n",
      "['y2', 'y1', 'y1', 'y1']\n",
      "['y2', 'y1', 'y1', 'y1']\n",
      "-----\n",
      "['x2', 'x1', 'x3', 'x1']\n",
      "['y2', 'y1', 'y2', 'y2']\n",
      "['y2', 'y1', 'y2', 'y2']\n",
      "-----\n",
      "['x2', 'x1', 'x3', 'x2', 'x1', 'x1']\n",
      "['y2', 'y1', 'y2', 'y1', -1, -1]\n",
      "['y2', 'y1', 'y2', 'y1', -1, -1]\n",
      "-----\n",
      "['x2', 'x1', 'x3', 'x2', 'x2', 'x1', 'x1']\n",
      "['y2', 'y1', 'y2', 'y1', 'y2', -1, -1]\n",
      "['y2', 'y1', 'y2', 'y1', 'y2', -1, -1]\n",
      "-----\n",
      "['x2', 'x1', 'x3', 'x2', 'x2', 'x2']\n",
      "['y2', 'y1', 'y2', 'y1', 'y2', 'y2']\n",
      "['y2', 'y1', 'y2', 'y1', 'y2', 'y2']\n",
      "-----\n",
      "['x2', 'x1', 'x3', 'x2', 'x2', 'x3', 'x1']\n",
      "['y2', 'y1', 'y2', 'y1', 'y2', -1, -1]\n",
      "['y2', 'y1', 'y2', 'y1', 'y2', -1, -1]\n",
      "-----\n",
      "['x2', 'x1', 'x3', 'x2', 'x3', 'x1']\n",
      "['y2', 'y1', 'y2', 'y1', -1, -1]\n",
      "['y2', 'y1', 'y2', 'y1', -1, -1]\n",
      "-----\n",
      "['x2', 'x1', 'x3', 'x3']\n",
      "['y2', 'y1', 'y2', 'y2']\n",
      "['y2', 'y1', 'y2', 'y2']\n",
      "-----\n",
      "['x2', 'x2']\n",
      "['y2', 'y2']\n",
      "['y2', 'y2']\n",
      "-----\n",
      "['x2', 'x3', 'x1']\n",
      "['y2', -1, -1]\n",
      "['y2', -1, -1]\n",
      "-----\n",
      "['x3', 'x1']\n",
      "[-1, -1]\n",
      "[-1, -1]\n",
      "-----\n"
     ]
    }
   ],
   "source": [
    "for testSignal in fstMoore.getTestSignal():\n",
    "    print(testSignal)\n",
    "    print(fstMealy.playFST(testSignal)[0])\n",
    "    print(fstMoore.playFST(testSignal)[0])\n",
    "    print('-----')"
   ]
  }
 ],
 "metadata": {
  "interpreter": {
   "hash": "9d918e7ae3c5315337b02f7b331cb5d3f13a496b9f8ee7e2a16d56f51023da3d"
  },
  "kernelspec": {
   "display_name": "Python 3.9.4 64-bit ('venvdev': venv)",
   "name": "python3"
  },
  "language_info": {
   "codemirror_mode": {
    "name": "ipython",
    "version": 3
   },
   "file_extension": ".py",
   "mimetype": "text/x-python",
   "name": "python",
   "nbconvert_exporter": "python",
   "pygments_lexer": "ipython3",
   "version": "3.9.4"
  },
  "orig_nbformat": 4
 },
 "nbformat": 4,
 "nbformat_minor": 2
}
