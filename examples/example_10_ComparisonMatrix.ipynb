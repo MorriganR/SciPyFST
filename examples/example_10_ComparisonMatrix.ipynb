{
 "cells": [
  {
   "cell_type": "code",
   "execution_count": 1,
   "metadata": {},
   "outputs": [],
   "source": [
    "import os, sys, time\n",
    "from pathlib import Path\n",
    "PARENT_DIR = Path(os.getcwd()).resolve().parent\n",
    "sys.path += [str(PARENT_DIR.joinpath('SciPyFST'))]\n",
    "from SciPyFST import SciPyFST as FST\n",
    "from examples_data.MealyFST import mealyFSTmap as mealyFSTmap\n",
    "import graphviz, wavedrom\n",
    "from IPython.display import display, Markdown"
   ]
  },
  {
   "cell_type": "markdown",
   "metadata": {},
   "source": [
    "Comparison matrix"
   ]
  },
  {
   "cell_type": "code",
   "execution_count": 2,
   "metadata": {},
   "outputs": [
    {
     "name": "stdout",
     "output_type": "stream",
     "text": [
      "elapsed time = 44.636393785476685 s\n"
     ]
    },
    {
     "data": {
      "text/markdown": [
       "| FST\\FST | 01_My | 01_Mr | 02_My | 02_Mr | 03_My | 03_Mr | 04_My | 04_Mr | 05_My | 05_Mr | 06_My | 06_Mr | 07_My | 07_Mr | 08_My | 08_Mr | 09_My | 09_Mr | 10_My | 10_Mr |\n",
       "|:--------------:|:---:|:---:|:---:|:---:|:---:|:---:|:---:|:---:|:---:|:---:|:---:|:---:|:---:|:---:|:---:|:---:|:---:|:---:|:---:|:---:|\n",
       "| 01_My | True | True | - | - | - | - | - | - | - | - | - | - | - | - | - | - | - | - | - | - |\n",
       "| 01_Mr | True | True | - | - | - | - | - | - | - | - | - | - | - | - | - | - | - | - | - | - |\n",
       "| 02_My | - | - | True | True | - | - | - | - | - | - | - | - | - | - | - | - | - | - | - | - |\n",
       "| 02_Mr | - | - | True | True | - | - | - | - | - | - | - | - | - | - | - | - | - | - | - | - |\n",
       "| 03_My | - | - | - | - | True | True | - | - | - | - | - | - | - | - | - | - | - | - | - | - |\n",
       "| 03_Mr | - | - | - | - | True | True | - | - | - | - | - | - | - | - | - | - | - | - | - | - |\n",
       "| 04_My | - | - | - | - | - | - | True | True | - | - | - | - | - | - | - | - | - | - | - | - |\n",
       "| 04_Mr | - | - | - | - | - | - | True | True | - | - | - | - | - | - | - | - | - | - | - | - |\n",
       "| 05_My | - | - | - | - | - | - | - | - | True | True | - | - | - | - | - | - | - | - | - | - |\n",
       "| 05_Mr | - | - | - | - | - | - | - | - | True | True | - | - | - | - | - | - | - | - | - | - |\n",
       "| 06_My | - | - | - | - | - | - | - | - | - | - | True | True | - | - | - | - | - | - | - | - |\n",
       "| 06_Mr | - | - | - | - | - | - | - | - | - | - | True | True | - | - | - | - | - | - | - | - |\n",
       "| 07_My | - | - | - | - | - | - | - | - | - | - | - | - | True | True | - | - | - | - | - | - |\n",
       "| 07_Mr | - | - | - | - | - | - | - | - | - | - | - | - | True | True | - | - | - | - | - | - |\n",
       "| 08_My | - | - | - | - | - | - | - | - | - | - | - | - | - | - | True | True | - | - | - | - |\n",
       "| 08_Mr | - | - | - | - | - | - | - | - | - | - | - | - | - | - | True | True | - | - | - | - |\n",
       "| 09_My | - | - | - | - | - | - | - | - | - | - | - | - | - | - | - | - | True | True | - | - |\n",
       "| 09_Mr | - | - | - | - | - | - | - | - | - | - | - | - | - | - | - | - | True | True | - | - |\n",
       "| 10_My | - | - | - | - | - | - | - | - | - | - | - | - | - | - | - | - | - | - | True | True |\n",
       "| 10_Mr | - | - | - | - | - | - | - | - | - | - | - | - | - | - | - | - | - | - | True | True |\n"
      ],
      "text/plain": [
       "<IPython.core.display.Markdown object>"
      ]
     },
     "metadata": {},
     "output_type": "display_data"
    }
   ],
   "source": [
    "tableHeader = '| FST\\\\FST |'\n",
    "tableHeade2 = '|:--------------:|'\n",
    "table = ''\n",
    "nameList = list(mealyFSTmap.keys())\n",
    "for fst_name_r in nameList:\n",
    "    tableHeader += ' {name} |'.format(name = fst_name_r[4:] + '_My')\n",
    "    tableHeader += ' {name} |'.format(name = fst_name_r[4:] + '_Mr')\n",
    "    tableHeade2 += ':---:|:---:|'\n",
    "t = time.time()\n",
    "for fst_name_r in nameList:\n",
    "    init_r = mealyFSTmap[fst_name_r]\n",
    "    tableRowMealy = '| {name} |'.format(name = fst_name_r[4:] + '_My')\n",
    "    tableRowMoore = '| {name} |'.format(name = fst_name_r[4:] + '_Mr')\n",
    "    fstMaely_r = FST(init_r[0], init_r[1], init_r[2], init_r[3], init_r[4], init_r[5])\n",
    "    fstMoore_r = fstMaely_r.asMoore()\n",
    "    for fst_name_c in nameList:\n",
    "        init_c = mealyFSTmap[fst_name_c]\n",
    "        fstMaely_c = FST(init_c[0], init_c[1], init_c[2], init_c[3], init_c[4], init_c[5])\n",
    "        fstMoore_c = fstMaely_c.asMoore()\n",
    "        tableRowMealy += ' {val} |'.format(val = 'True' if fstMaely_r.isSimilar(fstMaely_c) else '-')\n",
    "        tableRowMealy += ' {val} |'.format(val = 'True' if fstMaely_r.isSimilar(fstMoore_c) else '-')\n",
    "        tableRowMoore += ' {val} |'.format(val = 'True' if fstMoore_r.isSimilar(fstMaely_c) else '-')\n",
    "        tableRowMoore += ' {val} |'.format(val = 'True' if fstMoore_r.isSimilar(fstMoore_c) else '-')\n",
    "    table += (tableRowMealy + '\\n')\n",
    "    table += (tableRowMoore + '\\n')\n",
    "elapsed = time.time() - t\n",
    "print('elapsed time = {} s'.format(elapsed))\n",
    "display(Markdown(tableHeader + '\\n' + tableHeade2 + '\\n' + table))"
   ]
  },
  {
   "cell_type": "markdown",
   "metadata": {},
   "source": [
    "Test #06"
   ]
  },
  {
   "cell_type": "code",
   "execution_count": 3,
   "metadata": {},
   "outputs": [
    {
     "data": {
      "text/markdown": [
       "| Input \\ State | a1 | a2 | a3 | a4 |\n",
       "|:---:|:---:|:---:|:---:|:---:|\n",
       "| z1 | a2/w1 | a3/w3 | a4/w3 | -/- |\n",
       "| z2 | a3/w2 | -/- | a2/w1 | a2/w2 |\n"
      ],
      "text/plain": [
       "<IPython.core.display.Markdown object>"
      ]
     },
     "metadata": {},
     "output_type": "display_data"
    },
    {
     "data": {
      "image/svg+xml": "<?xml version=\"1.0\" encoding=\"UTF-8\" standalone=\"no\"?>\r\n<!DOCTYPE svg PUBLIC \"-//W3C//DTD SVG 1.1//EN\"\r\n \"http://www.w3.org/Graphics/SVG/1.1/DTD/svg11.dtd\">\r\n<!-- Generated by graphviz version 2.49.0 (20210828.1703)\r\n -->\r\n<!-- Title: fst Pages: 1 -->\r\n<svg width=\"527pt\" height=\"152pt\"\r\n viewBox=\"0.00 0.00 527.39 152.00\" xmlns=\"http://www.w3.org/2000/svg\" xmlns:xlink=\"http://www.w3.org/1999/xlink\">\r\n<g id=\"graph0\" class=\"graph\" transform=\"scale(1 1) rotate(0) translate(4 148)\">\r\n<title>fst</title>\r\n<polygon fill=\"white\" stroke=\"transparent\" points=\"-4,4 -4,-148 523.39,-148 523.39,4 -4,4\"/>\r\n<!-- start -->\r\n<g id=\"node1\" class=\"node\">\r\n<title>start</title>\r\n<ellipse fill=\"black\" stroke=\"black\" cx=\"1.8\" cy=\"-115\" rx=\"1.8\" ry=\"1.8\"/>\r\n</g>\r\n<!-- a1 -->\r\n<g id=\"node2\" class=\"node\">\r\n<title>a1</title>\r\n<ellipse fill=\"none\" stroke=\"black\" cx=\"83.45\" cy=\"-115\" rx=\"18.7\" ry=\"18.7\"/>\r\n<text text-anchor=\"middle\" x=\"83.45\" y=\"-111.3\" font-family=\"Times New Roman,serif\" font-size=\"14.00\">a1</text>\r\n</g>\r\n<!-- start&#45;&gt;a1 -->\r\n<g id=\"edge1\" class=\"edge\">\r\n<title>start&#45;&gt;a1</title>\r\n<path fill=\"none\" stroke=\"black\" d=\"M3.69,-115C8.7,-115 33.76,-115 54.28,-115\"/>\r\n<polygon fill=\"black\" stroke=\"black\" points=\"54.47,-118.5 64.47,-115 54.47,-111.5 54.47,-118.5\"/>\r\n<text text-anchor=\"middle\" x=\"34.1\" y=\"-118.8\" font-family=\"Times New Roman,serif\" font-size=\"14.00\">start</text>\r\n</g>\r\n<!-- a2 -->\r\n<g id=\"node3\" class=\"node\">\r\n<title>a2</title>\r\n<ellipse fill=\"none\" stroke=\"black\" cx=\"191.14\" cy=\"-81\" rx=\"18.7\" ry=\"18.7\"/>\r\n<text text-anchor=\"middle\" x=\"191.14\" y=\"-77.3\" font-family=\"Times New Roman,serif\" font-size=\"14.00\">a2</text>\r\n</g>\r\n<!-- a1&#45;&gt;a2 -->\r\n<g id=\"edge2\" class=\"edge\">\r\n<title>a1&#45;&gt;a2</title>\r\n<path fill=\"none\" stroke=\"black\" d=\"M101.9,-109.39C118.6,-104.01 144.03,-95.83 163.3,-89.63\"/>\r\n<polygon fill=\"black\" stroke=\"black\" points=\"164.57,-92.9 173.02,-86.51 162.42,-86.24 164.57,-92.9\"/>\r\n<text text-anchor=\"middle\" x=\"137.3\" y=\"-106.8\" font-family=\"Times New Roman,serif\" font-size=\"14.00\">z1/w1</text>\r\n</g>\r\n<!-- a3 -->\r\n<g id=\"node4\" class=\"node\">\r\n<title>a3</title>\r\n<ellipse fill=\"none\" stroke=\"black\" cx=\"298.84\" cy=\"-110\" rx=\"18.7\" ry=\"18.7\"/>\r\n<text text-anchor=\"middle\" x=\"298.84\" y=\"-106.3\" font-family=\"Times New Roman,serif\" font-size=\"14.00\">a3</text>\r\n</g>\r\n<!-- a1&#45;&gt;a3 -->\r\n<g id=\"edge3\" class=\"edge\">\r\n<title>a1&#45;&gt;a3</title>\r\n<path fill=\"none\" stroke=\"black\" d=\"M101.86,-119.07C107.68,-120.25 114.24,-121.39 120.3,-122 182.95,-128.35 199.97,-133.9 261.99,-123 265.25,-122.43 268.61,-121.58 271.89,-120.59\"/>\r\n<polygon fill=\"black\" stroke=\"black\" points=\"273.08,-123.89 281.39,-117.32 270.8,-117.27 273.08,-123.89\"/>\r\n<text text-anchor=\"middle\" x=\"191.14\" y=\"-132.8\" font-family=\"Times New Roman,serif\" font-size=\"14.00\">z2/w2</text>\r\n</g>\r\n<!-- a2&#45;&gt;a3 -->\r\n<g id=\"edge4\" class=\"edge\">\r\n<title>a2&#45;&gt;a3</title>\r\n<path fill=\"none\" stroke=\"black\" d=\"M209.91,-78.2C224.36,-76.63 245.06,-76.04 261.99,-82 267.39,-83.9 272.61,-86.97 277.31,-90.4\"/>\r\n<polygon fill=\"black\" stroke=\"black\" points=\"275.19,-93.18 285.16,-96.77 279.6,-87.75 275.19,-93.18\"/>\r\n<text text-anchor=\"middle\" x=\"244.99\" y=\"-85.8\" font-family=\"Times New Roman,serif\" font-size=\"14.00\">z1/w3</text>\r\n</g>\r\n<!-- &#45; -->\r\n<g id=\"node6\" class=\"node\">\r\n<title>&#45;</title>\r\n<ellipse fill=\"hotpink\" stroke=\"black\" cx=\"501.39\" cy=\"-18\" rx=\"18\" ry=\"18\"/>\r\n<text text-anchor=\"middle\" x=\"501.39\" y=\"-14.3\" font-family=\"Times New Roman,serif\" font-size=\"14.00\">&#45;</text>\r\n</g>\r\n<!-- a2&#45;&gt;&#45; -->\r\n<g id=\"edge5\" class=\"edge\">\r\n<title>a2&#45;&gt;&#45;</title>\r\n<path fill=\"none\" stroke=\"black\" d=\"M207.91,-72.26C214.05,-69.07 221.24,-65.61 227.99,-63 296.46,-36.56 314.89,-30.27 387.69,-21 416.69,-17.31 450.21,-16.9 473.1,-17.2\"/>\r\n<polygon fill=\"black\" stroke=\"black\" points=\"473.06,-20.7 483.12,-17.39 473.19,-13.71 473.06,-20.7\"/>\r\n<text text-anchor=\"middle\" x=\"352.69\" y=\"-32.8\" font-family=\"Times New Roman,serif\" font-size=\"14.00\">z2/&#45;</text>\r\n</g>\r\n<!-- a3&#45;&gt;a2 -->\r\n<g id=\"edge7\" class=\"edge\">\r\n<title>a3&#45;&gt;a2</title>\r\n<path fill=\"none\" stroke=\"black\" d=\"M280.05,-107.87C265.77,-105.88 245.31,-102.39 227.99,-97 224.57,-95.93 221.04,-94.63 217.59,-93.23\"/>\r\n<polygon fill=\"black\" stroke=\"black\" points=\"218.82,-89.95 208.25,-89.16 216.02,-96.36 218.82,-89.95\"/>\r\n<text text-anchor=\"middle\" x=\"244.99\" y=\"-107.8\" font-family=\"Times New Roman,serif\" font-size=\"14.00\">z2/w1</text>\r\n</g>\r\n<!-- a4 -->\r\n<g id=\"node5\" class=\"node\">\r\n<title>a4</title>\r\n<ellipse fill=\"none\" stroke=\"black\" cx=\"406.54\" cy=\"-49\" rx=\"18.7\" ry=\"18.7\"/>\r\n<text text-anchor=\"middle\" x=\"406.54\" y=\"-45.3\" font-family=\"Times New Roman,serif\" font-size=\"14.00\">a4</text>\r\n</g>\r\n<!-- a3&#45;&gt;a4 -->\r\n<g id=\"edge6\" class=\"edge\">\r\n<title>a3&#45;&gt;a4</title>\r\n<path fill=\"none\" stroke=\"black\" d=\"M315.44,-101C332.77,-91 360.97,-74.72 381.21,-63.04\"/>\r\n<polygon fill=\"black\" stroke=\"black\" points=\"382.97,-66.07 389.88,-58.04 379.47,-60 382.97,-66.07\"/>\r\n<text text-anchor=\"middle\" x=\"352.69\" y=\"-91.8\" font-family=\"Times New Roman,serif\" font-size=\"14.00\">z1/w3</text>\r\n</g>\r\n<!-- a4&#45;&gt;a2 -->\r\n<g id=\"edge9\" class=\"edge\">\r\n<title>a4&#45;&gt;a2</title>\r\n<path fill=\"none\" stroke=\"black\" d=\"M387.57,-50.92C355.42,-54.46 286.02,-62.62 227.99,-73 225.26,-73.49 222.43,-74.04 219.6,-74.62\"/>\r\n<polygon fill=\"black\" stroke=\"black\" points=\"218.62,-71.25 209.59,-76.79 220.1,-78.09 218.62,-71.25\"/>\r\n<text text-anchor=\"middle\" x=\"298.84\" y=\"-67.8\" font-family=\"Times New Roman,serif\" font-size=\"14.00\">z2/w2</text>\r\n</g>\r\n<!-- a4&#45;&gt;&#45; -->\r\n<g id=\"edge8\" class=\"edge\">\r\n<title>a4&#45;&gt;&#45;</title>\r\n<path fill=\"none\" stroke=\"black\" d=\"M424.57,-43.31C438.48,-38.67 458.38,-32.02 474.3,-26.71\"/>\r\n<polygon fill=\"black\" stroke=\"black\" points=\"475.71,-29.93 484.09,-23.44 473.49,-23.29 475.71,-29.93\"/>\r\n<text text-anchor=\"middle\" x=\"454.39\" y=\"-40.8\" font-family=\"Times New Roman,serif\" font-size=\"14.00\">z1/&#45;</text>\r\n</g>\r\n</g>\r\n</svg>\r\n",
      "text/plain": [
       "<graphviz.files.Source at 0x21f756a6bb0>"
      ]
     },
     "metadata": {},
     "output_type": "display_data"
    }
   ],
   "source": [
    "init = mealyFSTmap['test06']\n",
    "fst = FST(init[0], init[1], init[2], init[3], init[4], init[5])\n",
    "display(Markdown(fst.toMdTable()))\n",
    "display(graphviz.Source(fst.toDot()))"
   ]
  },
  {
   "cell_type": "code",
   "execution_count": 4,
   "metadata": {},
   "outputs": [
    {
     "data": {
      "text/markdown": [
       "| Input \\ State | 0/- | 1/w1 | 2/w2 | 3/w3 | 4/- | 5/w3 | 6/w2 |\n",
       "|:---:|:---:|:---:|:---:|:---:|:---:|:---:|:---:|\n",
       "| z1 | 1 | 3 | 5 | 5 | - | 4 | 3 |\n",
       "| z2 | 2 | 4 | 1 | 1 | - | 6 | 4 |\n"
      ],
      "text/plain": [
       "<IPython.core.display.Markdown object>"
      ]
     },
     "metadata": {},
     "output_type": "display_data"
    },
    {
     "data": {
      "image/svg+xml": "<?xml version=\"1.0\" encoding=\"UTF-8\" standalone=\"no\"?>\r\n<!DOCTYPE svg PUBLIC \"-//W3C//DTD SVG 1.1//EN\"\r\n \"http://www.w3.org/Graphics/SVG/1.1/DTD/svg11.dtd\">\r\n<!-- Generated by graphviz version 2.49.0 (20210828.1703)\r\n -->\r\n<!-- Title: fst Pages: 1 -->\r\n<svg width=\"821pt\" height=\"169pt\"\r\n viewBox=\"0.00 0.00 820.77 168.60\" xmlns=\"http://www.w3.org/2000/svg\" xmlns:xlink=\"http://www.w3.org/1999/xlink\">\r\n<g id=\"graph0\" class=\"graph\" transform=\"scale(1 1) rotate(0) translate(4 164.6)\">\r\n<title>fst</title>\r\n<polygon fill=\"white\" stroke=\"transparent\" points=\"-4,4 -4,-164.6 816.77,-164.6 816.77,4 -4,4\"/>\r\n<!-- start -->\r\n<g id=\"node1\" class=\"node\">\r\n<title>start</title>\r\n<ellipse fill=\"black\" stroke=\"black\" cx=\"1.8\" cy=\"-71.6\" rx=\"1.8\" ry=\"1.8\"/>\r\n</g>\r\n<!-- 0 -->\r\n<g id=\"node2\" class=\"node\">\r\n<title>0</title>\r\n<ellipse fill=\"none\" stroke=\"black\" cx=\"85.4\" cy=\"-71.6\" rx=\"20.6\" ry=\"20.6\"/>\r\n<text text-anchor=\"middle\" x=\"85.4\" y=\"-67.9\" font-family=\"Times New Roman,serif\" font-size=\"14.00\">0/&#45;</text>\r\n</g>\r\n<!-- start&#45;&gt;0 -->\r\n<g id=\"edge1\" class=\"edge\">\r\n<title>start&#45;&gt;0</title>\r\n<path fill=\"none\" stroke=\"black\" d=\"M3.72,-71.6C8.75,-71.6 33.56,-71.6 54.36,-71.6\"/>\r\n<polygon fill=\"black\" stroke=\"black\" points=\"54.44,-75.1 64.44,-71.6 54.44,-68.1 54.44,-75.1\"/>\r\n<text text-anchor=\"middle\" x=\"34.1\" y=\"-75.4\" font-family=\"Times New Roman,serif\" font-size=\"14.00\">start</text>\r\n</g>\r\n<!-- 1 -->\r\n<g id=\"node3\" class=\"node\">\r\n<title>1</title>\r\n<ellipse fill=\"none\" stroke=\"black\" cx=\"289.99\" cy=\"-103.6\" rx=\"28.7\" ry=\"28.7\"/>\r\n<text text-anchor=\"middle\" x=\"289.99\" y=\"-99.9\" font-family=\"Times New Roman,serif\" font-size=\"14.00\">1/w1</text>\r\n</g>\r\n<!-- 0&#45;&gt;1 -->\r\n<g id=\"edge2\" class=\"edge\">\r\n<title>0&#45;&gt;1</title>\r\n<path fill=\"none\" stroke=\"black\" d=\"M106.19,-74.72C139.77,-80.03 208.4,-90.87 251.36,-97.65\"/>\r\n<polygon fill=\"black\" stroke=\"black\" points=\"251,-101.14 261.42,-99.24 252.09,-94.23 251,-101.14\"/>\r\n<text text-anchor=\"middle\" x=\"183.79\" y=\"-94.4\" font-family=\"Times New Roman,serif\" font-size=\"14.00\">z1</text>\r\n</g>\r\n<!-- 2 -->\r\n<g id=\"node4\" class=\"node\">\r\n<title>2</title>\r\n<ellipse fill=\"none\" stroke=\"black\" cx=\"183.79\" cy=\"-38.6\" rx=\"28.7\" ry=\"28.7\"/>\r\n<text text-anchor=\"middle\" x=\"183.79\" y=\"-34.9\" font-family=\"Times New Roman,serif\" font-size=\"14.00\">2/w2</text>\r\n</g>\r\n<!-- 0&#45;&gt;2 -->\r\n<g id=\"edge3\" class=\"edge\">\r\n<title>0&#45;&gt;2</title>\r\n<path fill=\"none\" stroke=\"black\" d=\"M105.44,-65.08C117.19,-61.06 132.63,-55.77 146.63,-50.98\"/>\r\n<polygon fill=\"black\" stroke=\"black\" points=\"148.16,-54.15 156.49,-47.6 145.9,-47.53 148.16,-54.15\"/>\r\n<text text-anchor=\"middle\" x=\"130.7\" y=\"-61.4\" font-family=\"Times New Roman,serif\" font-size=\"14.00\">z2</text>\r\n</g>\r\n<!-- 3 -->\r\n<g id=\"node5\" class=\"node\">\r\n<title>3</title>\r\n<ellipse fill=\"none\" stroke=\"black\" cx=\"396.18\" cy=\"-87.6\" rx=\"28.7\" ry=\"28.7\"/>\r\n<text text-anchor=\"middle\" x=\"396.18\" y=\"-83.9\" font-family=\"Times New Roman,serif\" font-size=\"14.00\">3/w3</text>\r\n</g>\r\n<!-- 1&#45;&gt;3 -->\r\n<g id=\"edge4\" class=\"edge\">\r\n<title>1&#45;&gt;3</title>\r\n<path fill=\"none\" stroke=\"black\" d=\"M312.41,-85.83C319.64,-80.88 328.05,-76.15 336.59,-73.6 344.11,-71.34 352.26,-71.62 360.03,-73.13\"/>\r\n<polygon fill=\"black\" stroke=\"black\" points=\"359.36,-76.57 369.92,-75.72 361.14,-69.8 359.36,-76.57\"/>\r\n<text text-anchor=\"middle\" x=\"343.09\" y=\"-77.4\" font-family=\"Times New Roman,serif\" font-size=\"14.00\">z1</text>\r\n</g>\r\n<!-- 4 -->\r\n<g id=\"node6\" class=\"node\">\r\n<title>4</title>\r\n<ellipse fill=\"none\" stroke=\"black\" cx=\"706.97\" cy=\"-88.6\" rx=\"20.6\" ry=\"20.6\"/>\r\n<text text-anchor=\"middle\" x=\"706.97\" y=\"-84.9\" font-family=\"Times New Roman,serif\" font-size=\"14.00\">4/&#45;</text>\r\n</g>\r\n<!-- 1&#45;&gt;4 -->\r\n<g id=\"edge5\" class=\"edge\">\r\n<title>1&#45;&gt;4</title>\r\n<path fill=\"none\" stroke=\"black\" d=\"M314.33,-119C334.77,-130.99 365.73,-145.6 395.18,-145.6 395.18,-145.6 395.18,-145.6 609.57,-145.6 638.4,-145.6 666.18,-126.47 684.45,-110.38\"/>\r\n<polygon fill=\"black\" stroke=\"black\" points=\"687.17,-112.63 692.14,-103.28 682.42,-107.49 687.17,-112.63\"/>\r\n<text text-anchor=\"middle\" x=\"502.38\" y=\"-149.4\" font-family=\"Times New Roman,serif\" font-size=\"14.00\">z2</text>\r\n</g>\r\n<!-- 2&#45;&gt;1 -->\r\n<g id=\"edge9\" class=\"edge\">\r\n<title>2&#45;&gt;1</title>\r\n<path fill=\"none\" stroke=\"black\" d=\"M208.51,-53.05C219.19,-59.59 231.95,-67.45 243.39,-74.6 247.75,-77.32 252.34,-80.21 256.85,-83.07\"/>\r\n<polygon fill=\"black\" stroke=\"black\" points=\"255.05,-86.07 265.37,-88.48 258.8,-80.16 255.05,-86.07\"/>\r\n<text text-anchor=\"middle\" x=\"236.89\" y=\"-78.4\" font-family=\"Times New Roman,serif\" font-size=\"14.00\">z2</text>\r\n</g>\r\n<!-- 5 -->\r\n<g id=\"node7\" class=\"node\">\r\n<title>5</title>\r\n<ellipse fill=\"none\" stroke=\"black\" cx=\"502.38\" cy=\"-28.6\" rx=\"28.7\" ry=\"28.7\"/>\r\n<text text-anchor=\"middle\" x=\"502.38\" y=\"-24.9\" font-family=\"Times New Roman,serif\" font-size=\"14.00\">5/w3</text>\r\n</g>\r\n<!-- 2&#45;&gt;5 -->\r\n<g id=\"edge8\" class=\"edge\">\r\n<title>2&#45;&gt;5</title>\r\n<path fill=\"none\" stroke=\"black\" d=\"M212.61,-37.72C269.5,-35.92 399.18,-31.83 463.61,-29.79\"/>\r\n<polygon fill=\"black\" stroke=\"black\" points=\"463.85,-33.28 473.74,-29.47 463.63,-26.29 463.85,-33.28\"/>\r\n<text text-anchor=\"middle\" x=\"343.09\" y=\"-37.4\" font-family=\"Times New Roman,serif\" font-size=\"14.00\">z1</text>\r\n</g>\r\n<!-- 3&#45;&gt;1 -->\r\n<g id=\"edge11\" class=\"edge\">\r\n<title>3&#45;&gt;1</title>\r\n<path fill=\"none\" stroke=\"black\" d=\"M367.63,-91.83C355.62,-93.67 341.35,-95.86 328.4,-97.85\"/>\r\n<polygon fill=\"black\" stroke=\"black\" points=\"327.72,-94.42 318.36,-99.39 328.78,-101.34 327.72,-94.42\"/>\r\n<text text-anchor=\"middle\" x=\"343.09\" y=\"-99.4\" font-family=\"Times New Roman,serif\" font-size=\"14.00\">z2</text>\r\n</g>\r\n<!-- 3&#45;&gt;5 -->\r\n<g id=\"edge10\" class=\"edge\">\r\n<title>3&#45;&gt;5</title>\r\n<path fill=\"none\" stroke=\"black\" d=\"M421.35,-73.91C435.19,-66.08 452.76,-56.13 467.92,-47.55\"/>\r\n<polygon fill=\"black\" stroke=\"black\" points=\"470.01,-50.38 476.98,-42.41 466.56,-44.29 470.01,-50.38\"/>\r\n<text text-anchor=\"middle\" x=\"449.28\" y=\"-65.4\" font-family=\"Times New Roman,serif\" font-size=\"14.00\">z1</text>\r\n</g>\r\n<!-- &#45; -->\r\n<g id=\"node9\" class=\"node\">\r\n<title>&#45;</title>\r\n<ellipse fill=\"hotpink\" stroke=\"black\" cx=\"794.77\" cy=\"-88.6\" rx=\"18\" ry=\"18\"/>\r\n<text text-anchor=\"middle\" x=\"794.77\" y=\"-84.9\" font-family=\"Times New Roman,serif\" font-size=\"14.00\">&#45;</text>\r\n</g>\r\n<!-- 4&#45;&gt;&#45; -->\r\n<g id=\"edge12\" class=\"edge\">\r\n<title>4&#45;&gt;&#45;</title>\r\n<path fill=\"none\" stroke=\"black\" d=\"M727.87,-88.6C739.28,-88.6 753.77,-88.6 766.26,-88.6\"/>\r\n<polygon fill=\"black\" stroke=\"black\" points=\"766.59,-92.1 776.59,-88.6 766.59,-85.1 766.59,-92.1\"/>\r\n<text text-anchor=\"middle\" x=\"752.27\" y=\"-92.4\" font-family=\"Times New Roman,serif\" font-size=\"14.00\">z1</text>\r\n</g>\r\n<!-- 4&#45;&gt;&#45; -->\r\n<g id=\"edge13\" class=\"edge\">\r\n<title>4&#45;&gt;&#45;</title>\r\n<path fill=\"none\" stroke=\"black\" d=\"M724.61,-76.87C734.39,-71.38 747.09,-66.63 758.77,-69.6 762.73,-70.6 766.72,-72.16 770.52,-73.95\"/>\r\n<polygon fill=\"black\" stroke=\"black\" points=\"768.99,-77.1 779.46,-78.73 772.29,-70.93 768.99,-77.1\"/>\r\n<text text-anchor=\"middle\" x=\"752.27\" y=\"-73.4\" font-family=\"Times New Roman,serif\" font-size=\"14.00\">z2</text>\r\n</g>\r\n<!-- 5&#45;&gt;4 -->\r\n<g id=\"edge14\" class=\"edge\">\r\n<title>5&#45;&gt;4</title>\r\n<path fill=\"none\" stroke=\"black\" d=\"M530.99,-25.36C558.73,-23.18 602.27,-22.68 637.17,-35.6 654.8,-42.12 671.58,-54.86 684.15,-66.22\"/>\r\n<polygon fill=\"black\" stroke=\"black\" points=\"682.1,-69.09 691.77,-73.4 686.9,-63.99 682.1,-69.09\"/>\r\n<text text-anchor=\"middle\" x=\"608.57\" y=\"-39.4\" font-family=\"Times New Roman,serif\" font-size=\"14.00\">z1</text>\r\n</g>\r\n<!-- 6 -->\r\n<g id=\"node8\" class=\"node\">\r\n<title>6</title>\r\n<ellipse fill=\"none\" stroke=\"black\" cx=\"608.57\" cy=\"-88.6\" rx=\"28.7\" ry=\"28.7\"/>\r\n<text text-anchor=\"middle\" x=\"608.57\" y=\"-84.9\" font-family=\"Times New Roman,serif\" font-size=\"14.00\">6/w2</text>\r\n</g>\r\n<!-- 5&#45;&gt;6 -->\r\n<g id=\"edge15\" class=\"edge\">\r\n<title>5&#45;&gt;6</title>\r\n<path fill=\"none\" stroke=\"black\" d=\"M527.54,-42.51C541.62,-50.62 559.55,-60.94 574.87,-69.76\"/>\r\n<polygon fill=\"black\" stroke=\"black\" points=\"573.13,-72.8 583.54,-74.76 576.62,-66.73 573.13,-72.8\"/>\r\n<text text-anchor=\"middle\" x=\"555.48\" y=\"-65.4\" font-family=\"Times New Roman,serif\" font-size=\"14.00\">z2</text>\r\n</g>\r\n<!-- 6&#45;&gt;3 -->\r\n<g id=\"edge6\" class=\"edge\">\r\n<title>6&#45;&gt;3</title>\r\n<path fill=\"none\" stroke=\"black\" d=\"M579.85,-88.47C542.77,-88.29 476.85,-87.98 435.17,-87.78\"/>\r\n<polygon fill=\"black\" stroke=\"black\" points=\"435.14,-84.28 425.12,-87.73 435.1,-91.28 435.14,-84.28\"/>\r\n<text text-anchor=\"middle\" x=\"502.38\" y=\"-91.4\" font-family=\"Times New Roman,serif\" font-size=\"14.00\">z1</text>\r\n</g>\r\n<!-- 6&#45;&gt;4 -->\r\n<g id=\"edge7\" class=\"edge\">\r\n<title>6&#45;&gt;4</title>\r\n<path fill=\"none\" stroke=\"black\" d=\"M637.2,-88.6C649.24,-88.6 663.4,-88.6 675.73,-88.6\"/>\r\n<polygon fill=\"black\" stroke=\"black\" points=\"676,-92.1 686,-88.6 676,-85.1 676,-92.1\"/>\r\n<text text-anchor=\"middle\" x=\"661.67\" y=\"-92.4\" font-family=\"Times New Roman,serif\" font-size=\"14.00\">z2</text>\r\n</g>\r\n</g>\r\n</svg>\r\n",
      "text/plain": [
       "<graphviz.files.Source at 0x21f756a6e80>"
      ]
     },
     "metadata": {},
     "output_type": "display_data"
    }
   ],
   "source": [
    "fstMoore = fst.asMoore()\n",
    "display(Markdown(fstMoore.toMdTable()))\n",
    "display(graphviz.Source(fstMoore.toDot()))"
   ]
  },
  {
   "cell_type": "code",
   "execution_count": 5,
   "metadata": {},
   "outputs": [
    {
     "name": "stdout",
     "output_type": "stream",
     "text": [
      "['z1', 'z1', 'z1', 'z1', 'z1']\n",
      "['w1', 'w3', 'w3', -1, -1]\n",
      "['w1', 'w3', 'w3', -1, -1]\n",
      "-----\n",
      "['z1', 'z1', 'z1', 'z2', 'z1']\n",
      "['w1', 'w3', 'w3', 'w2', 'w3']\n",
      "['w1', 'w3', 'w3', 'w2', 'w3']\n",
      "-----\n",
      "['z1', 'z1', 'z1', 'z2', 'z2', 'z1']\n",
      "['w1', 'w3', 'w3', 'w2', -1, -1]\n",
      "['w1', 'w3', 'w3', 'w2', -1, -1]\n",
      "-----\n",
      "['z1', 'z1', 'z2']\n",
      "['w1', 'w3', 'w1']\n",
      "['w1', 'w3', 'w1']\n",
      "-----\n",
      "['z1', 'z2', 'z1']\n",
      "['w1', -1, -1]\n",
      "['w1', -1, -1]\n",
      "-----\n",
      "['z2', 'z1', 'z1', 'z1']\n",
      "['w2', 'w3', -1, -1]\n",
      "['w2', 'w3', -1, -1]\n",
      "-----\n",
      "['z2', 'z1', 'z2', 'z1', 'z1']\n",
      "['w2', 'w3', 'w2', 'w3', 'w3']\n",
      "['w2', 'w3', 'w2', 'w3', 'w3']\n",
      "-----\n",
      "['z2', 'z1', 'z2', 'z1', 'z2', 'z1']\n",
      "['w2', 'w3', 'w2', 'w3', 'w1', 'w3']\n",
      "['w2', 'w3', 'w2', 'w3', 'w1', 'w3']\n",
      "-----\n",
      "['z2', 'z1', 'z2', 'z1', 'z2', 'z2', 'z1']\n",
      "['w2', 'w3', 'w2', 'w3', 'w1', -1, -1]\n",
      "['w2', 'w3', 'w2', 'w3', 'w1', -1, -1]\n",
      "-----\n",
      "['z2', 'z1', 'z2', 'z2', 'z1']\n",
      "['w2', 'w3', 'w2', -1, -1]\n",
      "['w2', 'w3', 'w2', -1, -1]\n",
      "-----\n",
      "['z2', 'z2', 'z1', 'z1', 'z1', 'z1']\n",
      "['w2', 'w1', 'w3', 'w3', -1, -1]\n",
      "['w2', 'w1', 'w3', 'w3', -1, -1]\n",
      "-----\n",
      "['z2', 'z2', 'z1', 'z1', 'z2', 'z1']\n",
      "['w2', 'w1', 'w3', 'w3', 'w2', 'w3']\n",
      "['w2', 'w1', 'w3', 'w3', 'w2', 'w3']\n",
      "-----\n",
      "['z2', 'z2', 'z1', 'z1', 'z2', 'z2', 'z1']\n",
      "['w2', 'w1', 'w3', 'w3', 'w2', -1, -1]\n",
      "['w2', 'w1', 'w3', 'w3', 'w2', -1, -1]\n",
      "-----\n",
      "['z2', 'z2', 'z1', 'z2']\n",
      "['w2', 'w1', 'w3', 'w1']\n",
      "['w2', 'w1', 'w3', 'w1']\n",
      "-----\n",
      "['z2', 'z2', 'z2', 'z1']\n",
      "['w2', 'w1', -1, -1]\n",
      "['w2', 'w1', -1, -1]\n",
      "-----\n"
     ]
    }
   ],
   "source": [
    "for testSignal in fstMoore.getTestSignal():\n",
    "    print(testSignal)\n",
    "    print(fst.playFST(testSignal)[0])\n",
    "    print(fstMoore.playFST(testSignal)[0][1:])\n",
    "    print('-----')"
   ]
  },
  {
   "cell_type": "markdown",
   "metadata": {},
   "source": [
    "Test #08"
   ]
  },
  {
   "cell_type": "code",
   "execution_count": 6,
   "metadata": {},
   "outputs": [
    {
     "data": {
      "text/markdown": [
       "| Input \\ State | Q1 | Q2 | Q3 | Q4 | Q5 |\n",
       "|:---:|:---:|:---:|:---:|:---:|:---:|\n",
       "| x1 | Q2/y1 | Q3/y2 | -/- | Q1/y2 | Q3/y2 |\n",
       "| x2 | Q1/y2 | Q5/y1 | Q3/y2 | Q3/y1 | Q1/y1 |\n",
       "| x3 | -/- | -/- | -/- | Q4/y2 | Q5/y1 |\n"
      ],
      "text/plain": [
       "<IPython.core.display.Markdown object>"
      ]
     },
     "metadata": {},
     "output_type": "display_data"
    },
    {
     "data": {
      "image/svg+xml": "<?xml version=\"1.0\" encoding=\"UTF-8\" standalone=\"no\"?>\r\n<!DOCTYPE svg PUBLIC \"-//W3C//DTD SVG 1.1//EN\"\r\n \"http://www.w3.org/Graphics/SVG/1.1/DTD/svg11.dtd\">\r\n<!-- Generated by graphviz version 2.49.0 (20210828.1703)\r\n -->\r\n<!-- Title: fst Pages: 1 -->\r\n<svg width=\"591pt\" height=\"268pt\"\r\n viewBox=\"0.00 0.00 590.98 268.10\" xmlns=\"http://www.w3.org/2000/svg\" xmlns:xlink=\"http://www.w3.org/1999/xlink\">\r\n<g id=\"graph0\" class=\"graph\" transform=\"scale(1 1) rotate(0) translate(4 264.1)\">\r\n<title>fst</title>\r\n<polygon fill=\"white\" stroke=\"transparent\" points=\"-4,4 -4,-264.1 586.98,-264.1 586.98,4 -4,4\"/>\r\n<!-- start -->\r\n<g id=\"node1\" class=\"node\">\r\n<title>start</title>\r\n<ellipse fill=\"black\" stroke=\"black\" cx=\"22.1\" cy=\"-117\" rx=\"1.8\" ry=\"1.8\"/>\r\n</g>\r\n<!-- Q1 -->\r\n<g id=\"node2\" class=\"node\">\r\n<title>Q1</title>\r\n<ellipse fill=\"none\" stroke=\"black\" cx=\"133.29\" cy=\"-117\" rx=\"22.2\" ry=\"22.2\"/>\r\n<text text-anchor=\"middle\" x=\"133.29\" y=\"-113.3\" font-family=\"Times New Roman,serif\" font-size=\"14.00\">Q1</text>\r\n</g>\r\n<!-- start&#45;&gt;Q1 -->\r\n<g id=\"edge1\" class=\"edge\">\r\n<title>start&#45;&gt;Q1</title>\r\n<path fill=\"none\" stroke=\"black\" d=\"M24.32,-117C31.8,-117 71.83,-117 100.98,-117\"/>\r\n<polygon fill=\"black\" stroke=\"black\" points=\"101.14,-120.5 111.14,-117 101.14,-113.5 101.14,-120.5\"/>\r\n<text text-anchor=\"middle\" x=\"77.7\" y=\"-120.8\" font-family=\"Times New Roman,serif\" font-size=\"14.00\">start</text>\r\n</g>\r\n<!-- Q1&#45;&gt;Q1 -->\r\n<g id=\"edge3\" class=\"edge\">\r\n<title>Q1&#45;&gt;Q1</title>\r\n<path fill=\"none\" stroke=\"black\" d=\"M123.53,-137.22C122.02,-147.67 125.28,-157.1 133.29,-157.1 138.55,-157.1 141.76,-153.04 142.93,-147.29\"/>\r\n<polygon fill=\"black\" stroke=\"black\" points=\"146.43,-147.27 143.06,-137.22 139.43,-147.17 146.43,-147.27\"/>\r\n<text text-anchor=\"middle\" x=\"133.29\" y=\"-160.9\" font-family=\"Times New Roman,serif\" font-size=\"14.00\">x2/y2</text>\r\n</g>\r\n<!-- Q2 -->\r\n<g id=\"node3\" class=\"node\">\r\n<title>Q2</title>\r\n<ellipse fill=\"none\" stroke=\"black\" cx=\"244.49\" cy=\"-91\" rx=\"22.2\" ry=\"22.2\"/>\r\n<text text-anchor=\"middle\" x=\"244.49\" y=\"-87.3\" font-family=\"Times New Roman,serif\" font-size=\"14.00\">Q2</text>\r\n</g>\r\n<!-- Q1&#45;&gt;Q2 -->\r\n<g id=\"edge2\" class=\"edge\">\r\n<title>Q1&#45;&gt;Q2</title>\r\n<path fill=\"none\" stroke=\"black\" d=\"M155.09,-112.05C171.41,-108.16 194.37,-102.7 212.8,-98.31\"/>\r\n<polygon fill=\"black\" stroke=\"black\" points=\"213.85,-101.65 222.77,-95.93 212.23,-94.84 213.85,-101.65\"/>\r\n<text text-anchor=\"middle\" x=\"188.89\" y=\"-111.8\" font-family=\"Times New Roman,serif\" font-size=\"14.00\">x1/y1</text>\r\n</g>\r\n<!-- &#45; -->\r\n<g id=\"node7\" class=\"node\">\r\n<title>&#45;</title>\r\n<ellipse fill=\"hotpink\" stroke=\"black\" cx=\"564.98\" cy=\"-59\" rx=\"18\" ry=\"18\"/>\r\n<text text-anchor=\"middle\" x=\"564.98\" y=\"-55.3\" font-family=\"Times New Roman,serif\" font-size=\"14.00\">&#45;</text>\r\n</g>\r\n<!-- Q1&#45;&gt;&#45; -->\r\n<g id=\"edge4\" class=\"edge\">\r\n<title>Q1&#45;&gt;&#45;</title>\r\n<path fill=\"none\" stroke=\"black\" d=\"M142.26,-96.62C156.85,-63.1 191.25,0 243.49,0 243.49,0 243.49,0 467.88,0 498.1,0 526.82,-21.45 544.85,-38.48\"/>\r\n<polygon fill=\"black\" stroke=\"black\" points=\"542.79,-41.36 552.36,-45.91 547.71,-36.39 542.79,-41.36\"/>\r\n<text text-anchor=\"middle\" x=\"355.69\" y=\"-3.8\" font-family=\"Times New Roman,serif\" font-size=\"14.00\">x3/&#45;</text>\r\n</g>\r\n<!-- Q3 -->\r\n<g id=\"node4\" class=\"node\">\r\n<title>Q3</title>\r\n<ellipse fill=\"none\" stroke=\"black\" cx=\"466.88\" cy=\"-114\" rx=\"22.2\" ry=\"22.2\"/>\r\n<text text-anchor=\"middle\" x=\"466.88\" y=\"-110.3\" font-family=\"Times New Roman,serif\" font-size=\"14.00\">Q3</text>\r\n</g>\r\n<!-- Q2&#45;&gt;Q3 -->\r\n<g id=\"edge5\" class=\"edge\">\r\n<title>Q2&#45;&gt;Q3</title>\r\n<path fill=\"none\" stroke=\"black\" d=\"M266.64,-91.29C292.82,-91.85 338.72,-93.44 377.78,-98 396.96,-100.24 418.27,-104.07 435.13,-107.43\"/>\r\n<polygon fill=\"black\" stroke=\"black\" points=\"434.49,-110.87 444.99,-109.43 435.89,-104.01 434.49,-110.87\"/>\r\n<text text-anchor=\"middle\" x=\"355.69\" y=\"-101.8\" font-family=\"Times New Roman,serif\" font-size=\"14.00\">x1/y2</text>\r\n</g>\r\n<!-- Q5 -->\r\n<g id=\"node6\" class=\"node\">\r\n<title>Q5</title>\r\n<ellipse fill=\"none\" stroke=\"black\" cx=\"355.69\" cy=\"-144\" rx=\"22.2\" ry=\"22.2\"/>\r\n<text text-anchor=\"middle\" x=\"355.69\" y=\"-140.3\" font-family=\"Times New Roman,serif\" font-size=\"14.00\">Q5</text>\r\n</g>\r\n<!-- Q2&#45;&gt;Q5 -->\r\n<g id=\"edge6\" class=\"edge\">\r\n<title>Q2&#45;&gt;Q5</title>\r\n<path fill=\"none\" stroke=\"black\" d=\"M264.99,-99.5C279.14,-105.76 298.69,-114.62 315.59,-123 319.39,-124.89 323.37,-126.94 327.27,-128.99\"/>\r\n<polygon fill=\"black\" stroke=\"black\" points=\"325.65,-132.09 336.12,-133.71 328.95,-125.91 325.65,-132.09\"/>\r\n<text text-anchor=\"middle\" x=\"300.09\" y=\"-126.8\" font-family=\"Times New Roman,serif\" font-size=\"14.00\">x2/y1</text>\r\n</g>\r\n<!-- Q2&#45;&gt;&#45; -->\r\n<g id=\"edge7\" class=\"edge\">\r\n<title>Q2&#45;&gt;&#45;</title>\r\n<path fill=\"none\" stroke=\"black\" d=\"M266.45,-88.02C310.75,-81.86 417.21,-67.71 506.98,-61 516.67,-60.28 527.3,-59.81 536.73,-59.52\"/>\r\n<polygon fill=\"black\" stroke=\"black\" points=\"536.85,-63.02 546.75,-59.25 536.66,-56.02 536.85,-63.02\"/>\r\n<text text-anchor=\"middle\" x=\"411.28\" y=\"-75.8\" font-family=\"Times New Roman,serif\" font-size=\"14.00\">x3/&#45;</text>\r\n</g>\r\n<!-- Q3&#45;&gt;Q3 -->\r\n<g id=\"edge9\" class=\"edge\">\r\n<title>Q3&#45;&gt;Q3</title>\r\n<path fill=\"none\" stroke=\"black\" d=\"M457.84,-134.22C456.45,-144.67 459.46,-154.1 466.88,-154.1 471.75,-154.1 474.73,-150.04 475.8,-144.29\"/>\r\n<polygon fill=\"black\" stroke=\"black\" points=\"479.3,-144.26 475.93,-134.22 472.3,-144.17 479.3,-144.26\"/>\r\n<text text-anchor=\"middle\" x=\"466.88\" y=\"-157.9\" font-family=\"Times New Roman,serif\" font-size=\"14.00\">x2/y2</text>\r\n</g>\r\n<!-- Q3&#45;&gt;&#45; -->\r\n<g id=\"edge8\" class=\"edge\">\r\n<title>Q3&#45;&gt;&#45;</title>\r\n<path fill=\"none\" stroke=\"black\" d=\"M488.64,-108.83C500.93,-105.22 516.49,-99.67 528.98,-92 534.68,-88.5 540.23,-83.96 545.18,-79.38\"/>\r\n<polygon fill=\"black\" stroke=\"black\" points=\"547.72,-81.79 552.39,-72.28 542.81,-76.8 547.72,-81.79\"/>\r\n<text text-anchor=\"middle\" x=\"517.98\" y=\"-106.8\" font-family=\"Times New Roman,serif\" font-size=\"14.00\">x1/&#45;</text>\r\n</g>\r\n<!-- Q3&#45;&gt;&#45; -->\r\n<g id=\"edge10\" class=\"edge\">\r\n<title>Q3&#45;&gt;&#45;</title>\r\n<path fill=\"none\" stroke=\"black\" d=\"M480.61,-96.59C487.54,-88.29 496.77,-78.92 506.98,-73 515.98,-67.79 526.87,-64.5 536.7,-62.44\"/>\r\n<polygon fill=\"black\" stroke=\"black\" points=\"537.59,-65.84 546.83,-60.65 536.37,-58.95 537.59,-65.84\"/>\r\n<text text-anchor=\"middle\" x=\"517.98\" y=\"-76.8\" font-family=\"Times New Roman,serif\" font-size=\"14.00\">x3/&#45;</text>\r\n</g>\r\n<!-- Q4 -->\r\n<g id=\"node5\" class=\"node\">\r\n<title>Q4</title>\r\n<ellipse fill=\"none\" stroke=\"black\" cx=\"22.1\" cy=\"-205\" rx=\"22.2\" ry=\"22.2\"/>\r\n<text text-anchor=\"middle\" x=\"22.1\" y=\"-201.3\" font-family=\"Times New Roman,serif\" font-size=\"14.00\">Q4</text>\r\n</g>\r\n<!-- Q4&#45;&gt;Q1 -->\r\n<g id=\"edge11\" class=\"edge\">\r\n<title>Q4&#45;&gt;Q1</title>\r\n<path fill=\"none\" stroke=\"black\" d=\"M40.16,-191.25C58.19,-176.72 86.81,-153.66 107.36,-137.09\"/>\r\n<polygon fill=\"black\" stroke=\"black\" points=\"109.76,-139.65 115.35,-130.65 105.37,-134.2 109.76,-139.65\"/>\r\n<text text-anchor=\"middle\" x=\"77.7\" y=\"-175.8\" font-family=\"Times New Roman,serif\" font-size=\"14.00\">x1/y2</text>\r\n</g>\r\n<!-- Q4&#45;&gt;Q3 -->\r\n<g id=\"edge12\" class=\"edge\">\r\n<title>Q4&#45;&gt;Q3</title>\r\n<path fill=\"none\" stroke=\"black\" d=\"M43.38,-211.6C65.12,-218.08 100.77,-227 132.29,-227 132.29,-227 132.29,-227 356.69,-227 403.12,-227 436.08,-177.05 452.95,-143.57\"/>\r\n<polygon fill=\"black\" stroke=\"black\" points=\"456.28,-144.73 457.48,-134.2 449.98,-141.68 456.28,-144.73\"/>\r\n<text text-anchor=\"middle\" x=\"244.49\" y=\"-230.8\" font-family=\"Times New Roman,serif\" font-size=\"14.00\">x2/y1</text>\r\n</g>\r\n<!-- Q4&#45;&gt;Q4 -->\r\n<g id=\"edge13\" class=\"edge\">\r\n<title>Q4&#45;&gt;Q4</title>\r\n<path fill=\"none\" stroke=\"black\" d=\"M12.33,-225.22C10.83,-235.67 14.08,-245.1 22.1,-245.1 27.36,-245.1 30.57,-241.04 31.73,-235.29\"/>\r\n<polygon fill=\"black\" stroke=\"black\" points=\"35.23,-235.27 31.87,-225.22 28.23,-235.17 35.23,-235.27\"/>\r\n<text text-anchor=\"middle\" x=\"22.1\" y=\"-248.9\" font-family=\"Times New Roman,serif\" font-size=\"14.00\">x3/y2</text>\r\n</g>\r\n<!-- Q5&#45;&gt;Q1 -->\r\n<g id=\"edge15\" class=\"edge\">\r\n<title>Q5&#45;&gt;Q1</title>\r\n<path fill=\"none\" stroke=\"black\" d=\"M333.6,-143.13C299.64,-141.49 230.83,-137.13 173.39,-127 170.55,-126.5 167.6,-125.9 164.67,-125.25\"/>\r\n<polygon fill=\"black\" stroke=\"black\" points=\"165.41,-121.82 154.86,-122.88 163.77,-128.63 165.41,-121.82\"/>\r\n<text text-anchor=\"middle\" x=\"244.49\" y=\"-142.8\" font-family=\"Times New Roman,serif\" font-size=\"14.00\">x2/y1</text>\r\n</g>\r\n<!-- Q5&#45;&gt;Q3 -->\r\n<g id=\"edge14\" class=\"edge\">\r\n<title>Q5&#45;&gt;Q3</title>\r\n<path fill=\"none\" stroke=\"black\" d=\"M377.23,-138.36C393.7,-133.83 417.06,-127.41 435.66,-122.3\"/>\r\n<polygon fill=\"black\" stroke=\"black\" points=\"436.72,-125.64 445.44,-119.62 434.87,-118.89 436.72,-125.64\"/>\r\n<text text-anchor=\"middle\" x=\"411.28\" y=\"-136.8\" font-family=\"Times New Roman,serif\" font-size=\"14.00\">x1/y2</text>\r\n</g>\r\n<!-- Q5&#45;&gt;Q5 -->\r\n<g id=\"edge16\" class=\"edge\">\r\n<title>Q5&#45;&gt;Q5</title>\r\n<path fill=\"none\" stroke=\"black\" d=\"M345.92,-164.22C344.41,-174.67 347.67,-184.1 355.69,-184.1 360.95,-184.1 364.16,-180.04 365.32,-174.29\"/>\r\n<polygon fill=\"black\" stroke=\"black\" points=\"368.82,-174.27 365.46,-164.22 361.82,-174.17 368.82,-174.27\"/>\r\n<text text-anchor=\"middle\" x=\"355.69\" y=\"-187.9\" font-family=\"Times New Roman,serif\" font-size=\"14.00\">x3/y1</text>\r\n</g>\r\n</g>\r\n</svg>\r\n",
      "text/plain": [
       "<graphviz.files.Source at 0x21f756abd90>"
      ]
     },
     "metadata": {},
     "output_type": "display_data"
    }
   ],
   "source": [
    "init = mealyFSTmap['test08']\n",
    "fst = FST(init[0], init[1], init[2], init[3], init[4], init[5])\n",
    "display(Markdown(fst.toMdTable()))\n",
    "display(graphviz.Source(fst.toDot()))"
   ]
  },
  {
   "cell_type": "code",
   "execution_count": 7,
   "metadata": {},
   "outputs": [
    {
     "data": {
      "text/markdown": [
       "| Input \\ State | 0/- | 1/y1 | 2/y2 | 3/- | 4/y2 | 5/y1 | 6/y1 | 7/y2 | 8/y1 |\n",
       "|:---:|:---:|:---:|:---:|:---:|:---:|:---:|:---:|:---:|:---:|\n",
       "| x1 | 1 | 4 | 1 | - | 3 | 4 | 3 | 2 | 1 |\n",
       "| x2 | 2 | 5 | 2 | - | 4 | 8 | 4 | 6 | 2 |\n",
       "| x3 | 3 | 3 | 3 | - | 3 | 5 | 3 | 7 | 3 |\n"
      ],
      "text/plain": [
       "<IPython.core.display.Markdown object>"
      ]
     },
     "metadata": {},
     "output_type": "display_data"
    },
    {
     "data": {
      "image/svg+xml": "<?xml version=\"1.0\" encoding=\"UTF-8\" standalone=\"no\"?>\r\n<!DOCTYPE svg PUBLIC \"-//W3C//DTD SVG 1.1//EN\"\r\n \"http://www.w3.org/Graphics/SVG/1.1/DTD/svg11.dtd\">\r\n<!-- Generated by graphviz version 2.49.0 (20210828.1703)\r\n -->\r\n<!-- Title: fst Pages: 1 -->\r\n<svg width=\"705pt\" height=\"474pt\"\r\n viewBox=\"0.00 0.00 704.97 473.65\" xmlns=\"http://www.w3.org/2000/svg\" xmlns:xlink=\"http://www.w3.org/1999/xlink\">\r\n<g id=\"graph0\" class=\"graph\" transform=\"scale(1 1) rotate(0) translate(4 469.65)\">\r\n<title>fst</title>\r\n<polygon fill=\"white\" stroke=\"transparent\" points=\"-4,4 -4,-469.65 700.97,-469.65 700.97,4 -4,4\"/>\r\n<!-- start -->\r\n<g id=\"node1\" class=\"node\">\r\n<title>start</title>\r\n<ellipse fill=\"black\" stroke=\"black\" cx=\"1.8\" cy=\"-46\" rx=\"1.8\" ry=\"1.8\"/>\r\n</g>\r\n<!-- 0 -->\r\n<g id=\"node2\" class=\"node\">\r\n<title>0</title>\r\n<ellipse fill=\"none\" stroke=\"black\" cx=\"85.4\" cy=\"-46\" rx=\"20.6\" ry=\"20.6\"/>\r\n<text text-anchor=\"middle\" x=\"85.4\" y=\"-42.3\" font-family=\"Times New Roman,serif\" font-size=\"14.00\">0/&#45;</text>\r\n</g>\r\n<!-- start&#45;&gt;0 -->\r\n<g id=\"edge1\" class=\"edge\">\r\n<title>start&#45;&gt;0</title>\r\n<path fill=\"none\" stroke=\"black\" d=\"M3.72,-46C8.75,-46 33.56,-46 54.36,-46\"/>\r\n<polygon fill=\"black\" stroke=\"black\" points=\"54.44,-49.5 64.44,-46 54.44,-42.5 54.44,-49.5\"/>\r\n<text text-anchor=\"middle\" x=\"34.1\" y=\"-49.8\" font-family=\"Times New Roman,serif\" font-size=\"14.00\">start</text>\r\n</g>\r\n<!-- 1 -->\r\n<g id=\"node3\" class=\"node\">\r\n<title>1</title>\r\n<ellipse fill=\"none\" stroke=\"black\" cx=\"182.84\" cy=\"-210\" rx=\"26.8\" ry=\"26.8\"/>\r\n<text text-anchor=\"middle\" x=\"182.84\" y=\"-206.3\" font-family=\"Times New Roman,serif\" font-size=\"14.00\">1/y1</text>\r\n</g>\r\n<!-- 0&#45;&gt;1 -->\r\n<g id=\"edge2\" class=\"edge\">\r\n<title>0&#45;&gt;1</title>\r\n<path fill=\"none\" stroke=\"black\" d=\"M96.61,-63.55C112.59,-91.01 143.73,-144.52 163.62,-178.69\"/>\r\n<polygon fill=\"black\" stroke=\"black\" points=\"160.61,-180.48 168.67,-187.36 166.66,-176.95 160.61,-180.48\"/>\r\n<text text-anchor=\"middle\" x=\"131.2\" y=\"-136.8\" font-family=\"Times New Roman,serif\" font-size=\"14.00\">x1</text>\r\n</g>\r\n<!-- 2 -->\r\n<g id=\"node4\" class=\"node\">\r\n<title>2</title>\r\n<ellipse fill=\"none\" stroke=\"black\" cx=\"492.73\" cy=\"-147\" rx=\"26.8\" ry=\"26.8\"/>\r\n<text text-anchor=\"middle\" x=\"492.73\" y=\"-143.3\" font-family=\"Times New Roman,serif\" font-size=\"14.00\">2/y2</text>\r\n</g>\r\n<!-- 0&#45;&gt;2 -->\r\n<g id=\"edge3\" class=\"edge\">\r\n<title>0&#45;&gt;2</title>\r\n<path fill=\"none\" stroke=\"black\" d=\"M106.51,-46C125.82,-46 155.83,-46 181.84,-46 181.84,-46 181.84,-46 390.43,-46 429.82,-46 459.28,-84.76 476,-114.26\"/>\r\n<polygon fill=\"black\" stroke=\"black\" points=\"472.93,-115.94 480.78,-123.06 479.08,-112.61 472.93,-115.94\"/>\r\n<text text-anchor=\"middle\" x=\"286.14\" y=\"-49.8\" font-family=\"Times New Roman,serif\" font-size=\"14.00\">x2</text>\r\n</g>\r\n<!-- 3 -->\r\n<g id=\"node5\" class=\"node\">\r\n<title>3</title>\r\n<ellipse fill=\"none\" stroke=\"black\" cx=\"590.18\" cy=\"-268\" rx=\"20.6\" ry=\"20.6\"/>\r\n<text text-anchor=\"middle\" x=\"590.18\" y=\"-264.3\" font-family=\"Times New Roman,serif\" font-size=\"14.00\">3/&#45;</text>\r\n</g>\r\n<!-- 0&#45;&gt;3 -->\r\n<g id=\"edge4\" class=\"edge\">\r\n<title>0&#45;&gt;3</title>\r\n<path fill=\"none\" stroke=\"black\" d=\"M101.85,-33.19C119.87,-19.58 151.13,0 181.84,0 181.84,0 181.84,0 493.73,0 543.64,0 574.24,-167.07 584.91,-237.39\"/>\r\n<polygon fill=\"black\" stroke=\"black\" points=\"581.46,-238.04 586.39,-247.42 588.39,-237.01 581.46,-238.04\"/>\r\n<text text-anchor=\"middle\" x=\"337.79\" y=\"-3.8\" font-family=\"Times New Roman,serif\" font-size=\"14.00\">x3</text>\r\n</g>\r\n<!-- 1&#45;&gt;3 -->\r\n<g id=\"edge13\" class=\"edge\">\r\n<title>1&#45;&gt;3</title>\r\n<path fill=\"none\" stroke=\"black\" d=\"M192.48,-184.98C206.21,-150.34 236.54,-92 285.14,-92 285.14,-92 285.14,-92 493.73,-92 558.96,-92 579.84,-186.57 586.35,-237.06\"/>\r\n<polygon fill=\"black\" stroke=\"black\" points=\"582.88,-237.6 587.53,-247.12 589.84,-236.78 582.88,-237.6\"/>\r\n<text text-anchor=\"middle\" x=\"389.43\" y=\"-95.8\" font-family=\"Times New Roman,serif\" font-size=\"14.00\">x3</text>\r\n</g>\r\n<!-- 4 -->\r\n<g id=\"node6\" class=\"node\">\r\n<title>4</title>\r\n<ellipse fill=\"none\" stroke=\"black\" cx=\"492.73\" cy=\"-406\" rx=\"26.8\" ry=\"26.8\"/>\r\n<text text-anchor=\"middle\" x=\"492.73\" y=\"-402.3\" font-family=\"Times New Roman,serif\" font-size=\"14.00\">4/y2</text>\r\n</g>\r\n<!-- 1&#45;&gt;4 -->\r\n<g id=\"edge11\" class=\"edge\">\r\n<title>1&#45;&gt;4</title>\r\n<path fill=\"none\" stroke=\"black\" d=\"M184.06,-236.96C186.07,-284.5 197.92,-382.32 259.49,-426 319.24,-468.38 410.62,-440.82 459.02,-421.05\"/>\r\n<polygon fill=\"black\" stroke=\"black\" points=\"460.53,-424.21 468.38,-417.1 457.81,-417.76 460.53,-424.21\"/>\r\n<text text-anchor=\"middle\" x=\"337.79\" y=\"-451.8\" font-family=\"Times New Roman,serif\" font-size=\"14.00\">x1</text>\r\n</g>\r\n<!-- 5 -->\r\n<g id=\"node7\" class=\"node\">\r\n<title>5</title>\r\n<ellipse fill=\"none\" stroke=\"black\" cx=\"286.14\" cy=\"-357\" rx=\"26.8\" ry=\"26.8\"/>\r\n<text text-anchor=\"middle\" x=\"286.14\" y=\"-353.3\" font-family=\"Times New Roman,serif\" font-size=\"14.00\">5/y1</text>\r\n</g>\r\n<!-- 1&#45;&gt;5 -->\r\n<g id=\"edge12\" class=\"edge\">\r\n<title>1&#45;&gt;5</title>\r\n<path fill=\"none\" stroke=\"black\" d=\"M193.24,-234.93C200.94,-253.73 212.94,-279.67 227.49,-300 236.04,-311.95 247.21,-323.63 257.43,-333.27\"/>\r\n<polygon fill=\"black\" stroke=\"black\" points=\"255.27,-336.04 265,-340.22 260,-330.89 255.27,-336.04\"/>\r\n<text text-anchor=\"middle\" x=\"234.49\" y=\"-318.8\" font-family=\"Times New Roman,serif\" font-size=\"14.00\">x2</text>\r\n</g>\r\n<!-- 2&#45;&gt;1 -->\r\n<g id=\"edge5\" class=\"edge\">\r\n<title>2&#45;&gt;1</title>\r\n<path fill=\"none\" stroke=\"black\" d=\"M466.09,-142.91C422.32,-136.99 330.95,-129.23 259.49,-154 241.04,-160.4 223.32,-173.03 209.68,-184.68\"/>\r\n<polygon fill=\"black\" stroke=\"black\" points=\"207.3,-182.12 202.14,-191.37 211.95,-187.35 207.3,-182.12\"/>\r\n<text text-anchor=\"middle\" x=\"337.79\" y=\"-143.8\" font-family=\"Times New Roman,serif\" font-size=\"14.00\">x1</text>\r\n</g>\r\n<!-- 2&#45;&gt;2 -->\r\n<g id=\"edge6\" class=\"edge\">\r\n<title>2&#45;&gt;2</title>\r\n<path fill=\"none\" stroke=\"black\" d=\"M483.44,-172.24C482.8,-182.75 485.89,-191.65 492.73,-191.65 497.11,-191.65 499.95,-187.99 501.26,-182.61\"/>\r\n<polygon fill=\"black\" stroke=\"black\" points=\"504.78,-182.47 502.02,-172.24 497.8,-181.96 504.78,-182.47\"/>\r\n<text text-anchor=\"middle\" x=\"492.73\" y=\"-195.45\" font-family=\"Times New Roman,serif\" font-size=\"14.00\">x2</text>\r\n</g>\r\n<!-- 2&#45;&gt;3 -->\r\n<g id=\"edge7\" class=\"edge\">\r\n<title>2&#45;&gt;3</title>\r\n<path fill=\"none\" stroke=\"black\" d=\"M511.41,-166.5C523.1,-179.64 538.57,-197.52 551.38,-214 558.4,-223.04 565.71,-233.26 572,-242.36\"/>\r\n<polygon fill=\"black\" stroke=\"black\" points=\"569.15,-244.39 577.69,-250.66 574.93,-240.43 569.15,-244.39\"/>\r\n<text text-anchor=\"middle\" x=\"544.38\" y=\"-217.8\" font-family=\"Times New Roman,serif\" font-size=\"14.00\">x3</text>\r\n</g>\r\n<!-- &#45; -->\r\n<g id=\"node11\" class=\"node\">\r\n<title>&#45;</title>\r\n<ellipse fill=\"hotpink\" stroke=\"black\" cx=\"678.97\" cy=\"-268\" rx=\"18\" ry=\"18\"/>\r\n<text text-anchor=\"middle\" x=\"678.97\" y=\"-264.3\" font-family=\"Times New Roman,serif\" font-size=\"14.00\">&#45;</text>\r\n</g>\r\n<!-- 3&#45;&gt;&#45; -->\r\n<g id=\"edge14\" class=\"edge\">\r\n<title>3&#45;&gt;&#45;</title>\r\n<path fill=\"none\" stroke=\"black\" d=\"M608.72,-278.14C618.66,-282.69 631.39,-286.52 642.97,-284 646.47,-283.24 650.04,-282.09 653.5,-280.76\"/>\r\n<polygon fill=\"black\" stroke=\"black\" points=\"655.05,-283.9 662.79,-276.66 652.23,-277.49 655.05,-283.9\"/>\r\n<text text-anchor=\"middle\" x=\"635.97\" y=\"-288.8\" font-family=\"Times New Roman,serif\" font-size=\"14.00\">x1</text>\r\n</g>\r\n<!-- 3&#45;&gt;&#45; -->\r\n<g id=\"edge15\" class=\"edge\">\r\n<title>3&#45;&gt;&#45;</title>\r\n<path fill=\"none\" stroke=\"black\" d=\"M611.34,-265.89C620.92,-265.13 632.53,-264.55 642.97,-265 645.53,-265.11 648.19,-265.26 650.86,-265.45\"/>\r\n<polygon fill=\"black\" stroke=\"black\" points=\"650.66,-268.94 660.9,-266.24 651.21,-261.96 650.66,-268.94\"/>\r\n<text text-anchor=\"middle\" x=\"635.97\" y=\"-268.8\" font-family=\"Times New Roman,serif\" font-size=\"14.00\">x2</text>\r\n</g>\r\n<!-- 3&#45;&gt;&#45; -->\r\n<g id=\"edge16\" class=\"edge\">\r\n<title>3&#45;&gt;&#45;</title>\r\n<path fill=\"none\" stroke=\"black\" d=\"M606.68,-255.3C616.79,-248.57 630.39,-242.37 642.97,-246 647.44,-247.29 651.88,-249.33 656.03,-251.66\"/>\r\n<polygon fill=\"black\" stroke=\"black\" points=\"654.22,-254.66 664.54,-257.06 657.97,-248.75 654.22,-254.66\"/>\r\n<text text-anchor=\"middle\" x=\"635.97\" y=\"-249.8\" font-family=\"Times New Roman,serif\" font-size=\"14.00\">x3</text>\r\n</g>\r\n<!-- 4&#45;&gt;3 -->\r\n<g id=\"edge17\" class=\"edge\">\r\n<title>4&#45;&gt;3</title>\r\n<path fill=\"none\" stroke=\"black\" d=\"M519.63,-406.26C530.64,-405.06 542.86,-401.81 551.38,-394 577.79,-369.77 586.02,-327.89 588.44,-299.11\"/>\r\n<polygon fill=\"black\" stroke=\"black\" points=\"591.96,-298.99 589.11,-288.78 584.97,-298.54 591.96,-298.99\"/>\r\n<text text-anchor=\"middle\" x=\"544.38\" y=\"-405.8\" font-family=\"Times New Roman,serif\" font-size=\"14.00\">x1</text>\r\n</g>\r\n<!-- 4&#45;&gt;3 -->\r\n<g id=\"edge19\" class=\"edge\">\r\n<title>4&#45;&gt;3</title>\r\n<path fill=\"none\" stroke=\"black\" d=\"M515.05,-391.27C526.96,-382.19 541.37,-369.69 551.38,-356 564.31,-338.3 573.95,-315.49 580.26,-297.52\"/>\r\n<polygon fill=\"black\" stroke=\"black\" points=\"583.64,-298.44 583.5,-287.85 577,-296.22 583.64,-298.44\"/>\r\n<text text-anchor=\"middle\" x=\"544.38\" y=\"-374.8\" font-family=\"Times New Roman,serif\" font-size=\"14.00\">x3</text>\r\n</g>\r\n<!-- 4&#45;&gt;4 -->\r\n<g id=\"edge18\" class=\"edge\">\r\n<title>4&#45;&gt;4</title>\r\n<path fill=\"none\" stroke=\"black\" d=\"M483.44,-431.24C482.8,-441.75 485.89,-450.65 492.73,-450.65 497.11,-450.65 499.95,-446.99 501.26,-441.61\"/>\r\n<polygon fill=\"black\" stroke=\"black\" points=\"504.78,-441.47 502.02,-431.24 497.8,-440.96 504.78,-441.47\"/>\r\n<text text-anchor=\"middle\" x=\"492.73\" y=\"-454.45\" font-family=\"Times New Roman,serif\" font-size=\"14.00\">x2</text>\r\n</g>\r\n<!-- 5&#45;&gt;4 -->\r\n<g id=\"edge23\" class=\"edge\">\r\n<title>5&#45;&gt;4</title>\r\n<path fill=\"none\" stroke=\"black\" d=\"M312.23,-363.01C348.52,-371.7 415.83,-387.82 456.91,-397.66\"/>\r\n<polygon fill=\"black\" stroke=\"black\" points=\"456.22,-401.09 466.76,-400.02 457.85,-394.29 456.22,-401.09\"/>\r\n<text text-anchor=\"middle\" x=\"389.43\" y=\"-390.8\" font-family=\"Times New Roman,serif\" font-size=\"14.00\">x1</text>\r\n</g>\r\n<!-- 5&#45;&gt;5 -->\r\n<g id=\"edge25\" class=\"edge\">\r\n<title>5&#45;&gt;5</title>\r\n<path fill=\"none\" stroke=\"black\" d=\"M276.85,-382.24C276.21,-392.75 279.3,-401.65 286.14,-401.65 290.52,-401.65 293.36,-397.99 294.67,-392.61\"/>\r\n<polygon fill=\"black\" stroke=\"black\" points=\"298.19,-392.47 295.43,-382.24 291.21,-391.96 298.19,-392.47\"/>\r\n<text text-anchor=\"middle\" x=\"286.14\" y=\"-405.45\" font-family=\"Times New Roman,serif\" font-size=\"14.00\">x3</text>\r\n</g>\r\n<!-- 8 -->\r\n<g id=\"node10\" class=\"node\">\r\n<title>8</title>\r\n<ellipse fill=\"none\" stroke=\"black\" cx=\"389.43\" cy=\"-257\" rx=\"26.8\" ry=\"26.8\"/>\r\n<text text-anchor=\"middle\" x=\"389.43\" y=\"-253.3\" font-family=\"Times New Roman,serif\" font-size=\"14.00\">8/y1</text>\r\n</g>\r\n<!-- 5&#45;&gt;8 -->\r\n<g id=\"edge24\" class=\"edge\">\r\n<title>5&#45;&gt;8</title>\r\n<path fill=\"none\" stroke=\"black\" d=\"M312.51,-351.97C323.54,-348.7 335.94,-343.42 344.79,-335 359.2,-321.28 353.07,-311.37 362.79,-294 364.18,-291.51 365.7,-288.97 367.28,-286.45\"/>\r\n<polygon fill=\"black\" stroke=\"black\" points=\"370.22,-288.35 372.79,-278.07 364.38,-284.5 370.22,-288.35\"/>\r\n<text text-anchor=\"middle\" x=\"337.79\" y=\"-347.8\" font-family=\"Times New Roman,serif\" font-size=\"14.00\">x2</text>\r\n</g>\r\n<!-- 6 -->\r\n<g id=\"node8\" class=\"node\">\r\n<title>6</title>\r\n<ellipse fill=\"none\" stroke=\"black\" cx=\"389.43\" cy=\"-330\" rx=\"26.8\" ry=\"26.8\"/>\r\n<text text-anchor=\"middle\" x=\"389.43\" y=\"-326.3\" font-family=\"Times New Roman,serif\" font-size=\"14.00\">6/y1</text>\r\n</g>\r\n<!-- 6&#45;&gt;3 -->\r\n<g id=\"edge20\" class=\"edge\">\r\n<title>6&#45;&gt;3</title>\r\n<path fill=\"none\" stroke=\"black\" d=\"M416.03,-331.71C449.21,-332.8 507.95,-330.85 551.38,-308 558.47,-304.27 564.97,-298.69 570.51,-292.87\"/>\r\n<polygon fill=\"black\" stroke=\"black\" points=\"573.49,-294.78 577.43,-284.94 568.22,-290.18 573.49,-294.78\"/>\r\n<text text-anchor=\"middle\" x=\"492.73\" y=\"-333.8\" font-family=\"Times New Roman,serif\" font-size=\"14.00\">x1</text>\r\n</g>\r\n<!-- 6&#45;&gt;3 -->\r\n<g id=\"edge22\" class=\"edge\">\r\n<title>6&#45;&gt;3</title>\r\n<path fill=\"none\" stroke=\"black\" d=\"M414.44,-320.52C429.22,-314.83 448.62,-307.63 466.08,-302 497.84,-291.76 534.8,-281.81 559.87,-275.35\"/>\r\n<polygon fill=\"black\" stroke=\"black\" points=\"561.01,-278.67 569.84,-272.8 559.28,-271.88 561.01,-278.67\"/>\r\n<text text-anchor=\"middle\" x=\"492.73\" y=\"-305.8\" font-family=\"Times New Roman,serif\" font-size=\"14.00\">x3</text>\r\n</g>\r\n<!-- 6&#45;&gt;4 -->\r\n<g id=\"edge21\" class=\"edge\">\r\n<title>6&#45;&gt;4</title>\r\n<path fill=\"none\" stroke=\"black\" d=\"M411.42,-345.75C426.23,-356.85 446.25,-371.88 462.6,-384.14\"/>\r\n<polygon fill=\"black\" stroke=\"black\" points=\"460.67,-387.07 470.77,-390.27 464.87,-381.47 460.67,-387.07\"/>\r\n<text text-anchor=\"middle\" x=\"441.08\" y=\"-375.8\" font-family=\"Times New Roman,serif\" font-size=\"14.00\">x2</text>\r\n</g>\r\n<!-- 7 -->\r\n<g id=\"node9\" class=\"node\">\r\n<title>7</title>\r\n<ellipse fill=\"none\" stroke=\"black\" cx=\"286.14\" cy=\"-190\" rx=\"26.8\" ry=\"26.8\"/>\r\n<text text-anchor=\"middle\" x=\"286.14\" y=\"-186.3\" font-family=\"Times New Roman,serif\" font-size=\"14.00\">7/y2</text>\r\n</g>\r\n<!-- 7&#45;&gt;2 -->\r\n<g id=\"edge26\" class=\"edge\">\r\n<title>7&#45;&gt;2</title>\r\n<path fill=\"none\" stroke=\"black\" d=\"M312.64,-184.64C348.98,-177 415.79,-162.96 456.73,-154.36\"/>\r\n<polygon fill=\"black\" stroke=\"black\" points=\"457.49,-157.77 466.55,-152.29 456.05,-150.92 457.49,-157.77\"/>\r\n<text text-anchor=\"middle\" x=\"389.43\" y=\"-177.8\" font-family=\"Times New Roman,serif\" font-size=\"14.00\">x1</text>\r\n</g>\r\n<!-- 7&#45;&gt;6 -->\r\n<g id=\"edge27\" class=\"edge\">\r\n<title>7&#45;&gt;6</title>\r\n<path fill=\"none\" stroke=\"black\" d=\"M302.52,-211.26C319.7,-235.01 347.63,-273.6 366.96,-300.32\"/>\r\n<polygon fill=\"black\" stroke=\"black\" points=\"364.21,-302.49 372.91,-308.54 369.88,-298.38 364.21,-302.49\"/>\r\n<text text-anchor=\"middle\" x=\"337.79\" y=\"-272.8\" font-family=\"Times New Roman,serif\" font-size=\"14.00\">x2</text>\r\n</g>\r\n<!-- 7&#45;&gt;7 -->\r\n<g id=\"edge28\" class=\"edge\">\r\n<title>7&#45;&gt;7</title>\r\n<path fill=\"none\" stroke=\"black\" d=\"M276.85,-215.24C276.21,-225.75 279.3,-234.65 286.14,-234.65 290.52,-234.65 293.36,-230.99 294.67,-225.61\"/>\r\n<polygon fill=\"black\" stroke=\"black\" points=\"298.19,-225.47 295.43,-215.24 291.21,-224.96 298.19,-225.47\"/>\r\n<text text-anchor=\"middle\" x=\"286.14\" y=\"-238.45\" font-family=\"Times New Roman,serif\" font-size=\"14.00\">x3</text>\r\n</g>\r\n<!-- 8&#45;&gt;1 -->\r\n<g id=\"edge8\" class=\"edge\">\r\n<title>8&#45;&gt;1</title>\r\n<path fill=\"none\" stroke=\"black\" d=\"M363.12,-261.77C336.67,-265.75 294.27,-269.28 259.49,-259 242.09,-253.86 224.94,-243.32 211.38,-233.34\"/>\r\n<polygon fill=\"black\" stroke=\"black\" points=\"213.49,-230.55 203.42,-227.24 209.23,-236.1 213.49,-230.55\"/>\r\n<text text-anchor=\"middle\" x=\"286.14\" y=\"-269.8\" font-family=\"Times New Roman,serif\" font-size=\"14.00\">x1</text>\r\n</g>\r\n<!-- 8&#45;&gt;2 -->\r\n<g id=\"edge9\" class=\"edge\">\r\n<title>8&#45;&gt;2</title>\r\n<path fill=\"none\" stroke=\"black\" d=\"M408.08,-237.84C424.39,-220.12 448.8,-193.62 467.04,-173.81\"/>\r\n<polygon fill=\"black\" stroke=\"black\" points=\"469.75,-176.04 473.95,-166.31 464.6,-171.3 469.75,-176.04\"/>\r\n<text text-anchor=\"middle\" x=\"441.08\" y=\"-212.8\" font-family=\"Times New Roman,serif\" font-size=\"14.00\">x2</text>\r\n</g>\r\n<!-- 8&#45;&gt;3 -->\r\n<g id=\"edge10\" class=\"edge\">\r\n<title>8&#45;&gt;3</title>\r\n<path fill=\"none\" stroke=\"black\" d=\"M416.17,-255.82C442.23,-254.9 483.67,-254.2 519.38,-257 532.62,-258.04 547.15,-260.16 559.5,-262.28\"/>\r\n<polygon fill=\"black\" stroke=\"black\" points=\"559.26,-265.79 569.72,-264.1 560.49,-258.9 559.26,-265.79\"/>\r\n<text text-anchor=\"middle\" x=\"492.73\" y=\"-260.8\" font-family=\"Times New Roman,serif\" font-size=\"14.00\">x3</text>\r\n</g>\r\n</g>\r\n</svg>\r\n",
      "text/plain": [
       "<graphviz.files.Source at 0x21f753997c0>"
      ]
     },
     "metadata": {},
     "output_type": "display_data"
    }
   ],
   "source": [
    "fstMoore = fst.asMoore()\n",
    "display(Markdown(fstMoore.toMdTable()))\n",
    "display(graphviz.Source(fstMoore.toDot()))"
   ]
  },
  {
   "cell_type": "code",
   "execution_count": 8,
   "metadata": {},
   "outputs": [
    {
     "name": "stdout",
     "output_type": "stream",
     "text": [
      "['x1', 'x1', 'x1', 'x1']\n",
      "['y1', 'y2', -1, -1]\n",
      "['y1', 'y2', -1, -1]\n",
      "-----\n",
      "['x1', 'x1', 'x2']\n",
      "['y1', 'y2', 'y2']\n",
      "['y1', 'y2', 'y2']\n",
      "-----\n",
      "['x1', 'x1', 'x3', 'x1']\n",
      "['y1', 'y2', -1, -1]\n",
      "['y1', 'y2', -1, -1]\n",
      "-----\n",
      "['x1', 'x2', 'x1', 'x1', 'x1']\n",
      "['y1', 'y1', 'y2', -1, -1]\n",
      "['y1', 'y1', 'y2', -1, -1]\n",
      "-----\n",
      "['x1', 'x2', 'x1', 'x2']\n",
      "['y1', 'y1', 'y2', 'y2']\n",
      "['y1', 'y1', 'y2', 'y2']\n",
      "-----\n",
      "['x1', 'x2', 'x1', 'x3', 'x1']\n",
      "['y1', 'y1', 'y2', -1, -1]\n",
      "['y1', 'y1', 'y2', -1, -1]\n",
      "-----\n",
      "['x1', 'x2', 'x2', 'x1']\n",
      "['y1', 'y1', 'y1', 'y1']\n",
      "['y1', 'y1', 'y1', 'y1']\n",
      "-----\n",
      "['x1', 'x2', 'x2', 'x2', 'x1']\n",
      "['y1', 'y1', 'y1', 'y2', 'y1']\n",
      "['y1', 'y1', 'y1', 'y2', 'y1']\n",
      "-----\n",
      "['x1', 'x2', 'x2', 'x2', 'x2']\n",
      "['y1', 'y1', 'y1', 'y2', 'y2']\n",
      "['y1', 'y1', 'y1', 'y2', 'y2']\n",
      "-----\n",
      "['x1', 'x2', 'x2', 'x2', 'x3', 'x1']\n",
      "['y1', 'y1', 'y1', 'y2', -1, -1]\n",
      "['y1', 'y1', 'y1', 'y2', -1, -1]\n",
      "-----\n",
      "['x1', 'x2', 'x2', 'x3', 'x1']\n",
      "['y1', 'y1', 'y1', -1, -1]\n",
      "['y1', 'y1', 'y1', -1, -1]\n",
      "-----\n",
      "['x1', 'x2', 'x3']\n",
      "['y1', 'y1', 'y1']\n",
      "['y1', 'y1', 'y1']\n",
      "-----\n",
      "['x1', 'x3', 'x1']\n",
      "['y1', -1, -1]\n",
      "['y1', -1, -1]\n",
      "-----\n",
      "['x2', 'x1', 'x1', 'x1', 'x1']\n",
      "['y2', 'y1', 'y2', -1, -1]\n",
      "['y2', 'y1', 'y2', -1, -1]\n",
      "-----\n",
      "['x2', 'x1', 'x1', 'x2']\n",
      "['y2', 'y1', 'y2', 'y2']\n",
      "['y2', 'y1', 'y2', 'y2']\n",
      "-----\n",
      "['x2', 'x1', 'x1', 'x3', 'x1']\n",
      "['y2', 'y1', 'y2', -1, -1]\n",
      "['y2', 'y1', 'y2', -1, -1]\n",
      "-----\n",
      "['x2', 'x1', 'x2', 'x1', 'x1', 'x1']\n",
      "['y2', 'y1', 'y1', 'y2', -1, -1]\n",
      "['y2', 'y1', 'y1', 'y2', -1, -1]\n",
      "-----\n",
      "['x2', 'x1', 'x2', 'x1', 'x2']\n",
      "['y2', 'y1', 'y1', 'y2', 'y2']\n",
      "['y2', 'y1', 'y1', 'y2', 'y2']\n",
      "-----\n",
      "['x2', 'x1', 'x2', 'x1', 'x3', 'x1']\n",
      "['y2', 'y1', 'y1', 'y2', -1, -1]\n",
      "['y2', 'y1', 'y1', 'y2', -1, -1]\n",
      "-----\n",
      "['x2', 'x1', 'x2', 'x2', 'x1']\n",
      "['y2', 'y1', 'y1', 'y1', 'y1']\n",
      "['y2', 'y1', 'y1', 'y1', 'y1']\n",
      "-----\n",
      "['x2', 'x1', 'x2', 'x2', 'x2']\n",
      "['y2', 'y1', 'y1', 'y1', 'y2']\n",
      "['y2', 'y1', 'y1', 'y1', 'y2']\n",
      "-----\n",
      "['x2', 'x1', 'x2', 'x2', 'x3', 'x1']\n",
      "['y2', 'y1', 'y1', 'y1', -1, -1]\n",
      "['y2', 'y1', 'y1', 'y1', -1, -1]\n",
      "-----\n",
      "['x2', 'x1', 'x2', 'x3']\n",
      "['y2', 'y1', 'y1', 'y1']\n",
      "['y2', 'y1', 'y1', 'y1']\n",
      "-----\n",
      "['x2', 'x1', 'x3', 'x1']\n",
      "['y2', 'y1', -1, -1]\n",
      "['y2', 'y1', -1, -1]\n",
      "-----\n",
      "['x2', 'x2']\n",
      "['y2', 'y2']\n",
      "['y2', 'y2']\n",
      "-----\n",
      "['x2', 'x3', 'x1']\n",
      "['y2', -1, -1]\n",
      "['y2', -1, -1]\n",
      "-----\n",
      "['x3', 'x1']\n",
      "[-1, -1]\n",
      "[-1, -1]\n",
      "-----\n"
     ]
    }
   ],
   "source": [
    "for testSignal in fstMoore.getTestSignal():\n",
    "    print(testSignal)\n",
    "    print(fst.playFST(testSignal)[0])\n",
    "    print(fstMoore.playFST(testSignal)[0][1:])\n",
    "    print('-----')"
   ]
  }
 ],
 "metadata": {
  "interpreter": {
   "hash": "9d918e7ae3c5315337b02f7b331cb5d3f13a496b9f8ee7e2a16d56f51023da3d"
  },
  "kernelspec": {
   "display_name": "Python 3.9.4 64-bit ('venvdev': venv)",
   "name": "python3"
  },
  "language_info": {
   "codemirror_mode": {
    "name": "ipython",
    "version": 3
   },
   "file_extension": ".py",
   "mimetype": "text/x-python",
   "name": "python",
   "nbconvert_exporter": "python",
   "pygments_lexer": "ipython3",
   "version": "3.9.4"
  },
  "orig_nbformat": 4
 },
 "nbformat": 4,
 "nbformat_minor": 2
}
