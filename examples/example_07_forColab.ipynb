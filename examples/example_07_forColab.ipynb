{
  "nbformat": 4,
  "nbformat_minor": 0,
  "metadata": {
    "colab": {
      "name": "example_07_forColab.ipynb",
      "private_outputs": true,
      "provenance": [],
      "collapsed_sections": [
        "000000000001",
        "000000000002",
        "000000000003"
      ],
      "history_visible": true
    },
    "kernelspec": {
      "name": "python3",
      "display_name": "Python 3"
    },
    "language_info": {
      "name": "python"
    }
  },
  "cells": [
    {
      "cell_type": "markdown",
      "metadata": {
        "id": "000000000001"
      },
      "source": [
        "## Get source from GitHub :)"
      ]
    },
    {
      "cell_type": "code",
      "metadata": {
        "id": "000000000002"
      },
      "source": [
        "#@title Hidden? {display-mode: \"form\"}\n",
        "!ls -la SciPyFST &> /dev/null || git clone https://github.com/MorriganR/SciPyFST.git &> /dev/null\n",
        "!pip install -r SciPyFST/requirements.txt  > /dev/null"
      ],
      "execution_count": null,
      "outputs": []
    },
    {
      "cell_type": "code",
      "metadata": {
        "id": "000000000003"
      },
      "source": [
        "#@title Test Title {display-mode: \"form\"}\n",
        "variable_name = \"hgjhg\" #@param {type:\"string\"}\n",
        "import os, sys\n",
        "from pathlib import Path\n",
        "PARENT_DIR = Path(os.getcwd()).resolve()\n",
        "sys.path += [str(PARENT_DIR.joinpath('SciPyFST').joinpath('SciPyFST'))]\n",
        "from SciPyFST import SciPyFST as FST\n",
        "import graphviz, wavedrom\n",
        "from IPython.display import display, Markdown"
      ],
      "execution_count": null,
      "outputs": []
    },
    {
      "cell_type": "markdown",
      "metadata": {
        "id": "000000000004"
      },
      "source": [
        "## Play with FST"
      ]
    },
    {
      "cell_type": "code",
      "metadata": {
        "id": "000000000005"
      },
      "source": [
        "##### 01\n",
        "states = ['S0', 'S1' ,'S2' ,'S3']\n",
        "initState = 'S0'\n",
        "inAlphabet = ['x1', 'x2', 'x3']\n",
        "outAlphabet = ['y1', 'y2', 'y3', 'y4', 'y5']\n",
        "# transitionFunction [ [State, inAlphabet, nextState], ...]\n",
        "transitionFunction = [ \\\n",
        "    ['S0', 'x1' ,'S3'], ['S0', 'x2' ,'S1'], ['S0', 'x3' ,'S0'], \\\n",
        "    ['S1', 'x1' ,'S0'], ['S1', 'x2' ,'S2'], ['S1', 'x3' ,'S1'], \\\n",
        "    ['S2', 'x1' ,'S2'], ['S2', 'x2' ,'S0'], ['S2', 'x3' ,'S3'], \\\n",
        "    ['S3', 'x1' ,'S0'], ['S3', 'x2' ,'S3'], ['S3', 'x3' ,'S1'] \\\n",
        "]\n",
        "# outputFunction Mealy [ [State, inAlphabet, outAlphabet], ...]\n",
        "outputFunction = [ \\\n",
        "    ['S0', 'x1' ,'y1'], ['S0', 'x2' ,'y1'], ['S0', 'x3' ,'y5'], \\\n",
        "    ['S1', 'x1' ,'y2'], ['S1', 'x2' ,'y1'], ['S1', 'x3' ,'y4'], \\\n",
        "    ['S2', 'x1' ,'y3'], ['S2', 'x2' ,'y4'], ['S2', 'x3' ,'y1'], \\\n",
        "    ['S3', 'x1' ,'y5'], ['S3', 'x2' ,'y2'], ['S3', 'x3' ,'y5'] \\\n",
        "]\n",
        "# short form\n",
        "mealy = FST(states, initState, inAlphabet, outAlphabet, transitionFunction, outputFunction)\n",
        "# Visualise FST\n",
        "display(Markdown(mealy.toMdTable()))\n",
        "graphviz.Source(mealy.toDot())"
      ],
      "execution_count": null,
      "outputs": []
    }
  ]
}