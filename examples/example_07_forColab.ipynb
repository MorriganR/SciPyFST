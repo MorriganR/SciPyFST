{
  "nbformat": 4,
  "nbformat_minor": 0,
  "metadata": {
    "colab": {
      "name": "example_07_forColab.ipynb",
      "private_outputs": true,
      "provenance": [],
      "collapsed_sections": ["000000000001","000000000002","000000000003"],
      "history_visible": true
    },
    "kernelspec": {
      "name": "python3",
      "display_name": "Python 3"
    },
    "language_info": {
      "name": "python"
    }
  },
  "cells": [
    {
      "cell_type": "markdown",
      "metadata": {
        "id": "000000000001"
      },
      "source": [
        "## Get source from GitHub :)"
      ]
    },
    {
      "cell_type": "code",
      "metadata": {
        "id": "000000000002"
      },
      "source": [
        "#@title Hidden? {display-mode: \"form\"}\n",
        "!ls -la SciPyFST &> /dev/null || git clone https://github.com/MorriganR/SciPyFST.git &> /dev/null\n",
        "!pip install -r SciPyFST/requirements.txt  > /dev/null"
      ],
      "execution_count": null,
      "outputs": []
    },
    {
      "cell_type": "code",
      "metadata": {
        "id": "000000000003"
      },
      "source": [
        "#@title Test Title {display-mode: \"form\"}\n",
        "variable_name = \"hgjhg\" #@param {type:\"string\"}\n",
        "import os, sys\n",
        "from pathlib import Path\n",
        "PARENT_DIR = Path(os.getcwd()).resolve()\n",
        "sys.path += [str(PARENT_DIR.joinpath('SciPyFST').joinpath('SciPyFST'))]\n",
        "from SciPyFST import SciPyFST as FST\n",
        "import graphviz, wavedrom\n",
        "from IPython.display import display, Markdown"
      ],
      "execution_count": null,
      "outputs": []
    },
    {
      "cell_type": "markdown",
      "metadata": {
        "id": "000000000004"
      },
      "source": [
        "## Play with FST"
      ]
    },
    {
      "cell_type": "code",
      "metadata": {
        "id": "000000000005"
      },
      "source": [
        "# snail with an Mealy FSM brain\n",
        "initStateMealy = 'S0'\n",
        "# transitionFunction [ [State, inAlphabet, nextState], ...]\n",
        "transitionFunctionMealy = [ ['S0',0,'S1'], ['S0',1,'S0'], ['S1',0,'S1'], ['S1',1,'S0'] ]\n",
        "# outputFunction Mealy [ [State, inAlphabet, outAlphabet], ...]\n",
        "outputFunctionMealy = [ ['S0',0,0], ['S0',1,0], ['S1',0,0], ['S1',1,1]]\n",
        "# short form\n",
        "brainMealy = FST([], initStateMealy, [], [], transitionFunctionMealy, outputFunctionMealy)\n",
        "# Visualise FST\n",
        "display(Markdown(brainMealy.toMdTable()))\n",
        "graphviz.Source(brainMealy.toDot())"
      ],
      "execution_count": null,
      "outputs": []
    }
  ]
}