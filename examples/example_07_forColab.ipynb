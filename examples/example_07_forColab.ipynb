{
  "nbformat": 4,
  "nbformat_minor": 0,
  "metadata": {
    "colab": {
      "name": "example_07_forColab.ipynb",
      "private_outputs": true,
      "provenance": [],
      "collapsed_sections": [
        "000000000001",
        "000000000002"
      ]
    },
    "kernelspec": {
      "name": "python3",
      "display_name": "Python 3"
    },
    "language_info": {
      "name": "python"
    }
  },
  "cells": [
    {
      "cell_type": "markdown",
      "metadata": {
        "id": "000000000001"
      },
      "source": [
        "## Get source from GitHub"
      ]
    },
    {
      "cell_type": "code",
      "metadata": {
        "id": "000000000002"
      },
      "source": [
        "#@title Get source from GitHub and set env {display-mode: \"form\"}\n",
        "!ls -la SciPyFST &> /dev/null || git clone https://github.com/MorriganR/SciPyFST.git &> /dev/null\n",
        "!pip install -r SciPyFST/requirements.txt  > /dev/null\n",
        "import os, sys\n",
        "from pathlib import Path\n",
        "WORK_DIR = Path(os.getcwd()).resolve()\n",
        "sys.path += [str(WORK_DIR.joinpath('SciPyFST').joinpath('SciPyFST'))]\n",
        "sys.path += [str(WORK_DIR.joinpath('SciPyFST').joinpath('examples').joinpath('examples_data'))]\n",
        "from MealyFST import mealyFSTmap as mealyFSTmap\n",
        "from SciPyFST import SciPyFST as FST\n",
        "import graphviz, wavedrom\n",
        "from IPython.display import display, Markdown"
      ],
      "execution_count": null,
      "outputs": []
    },
    {
      "cell_type": "code",
      "metadata": {
        "id": "000000000003"
      },
      "source": [
        "#@title Select Mealy FST {display-mode: \"form\"}\n",
        "Select_FSP_Name = 'test02' #@param [\"test01\", \"test02\", \"test03\", \"test04\", \"test05\", \"test06\", \"test07\", \"test08\", \"test09\", \"test10\"]\n",
        "init = mealyFSTmap[Select_FSP_Name]"
      ],
      "execution_count": null,
      "outputs": []
    },
    {
      "cell_type": "markdown",
      "metadata": {
        "id": "000000000004"
      },
      "source": [
        "## Play with FST"
      ]
    },
    {
      "cell_type": "code",
      "metadata": {
        "id": "000000000005"
      },
      "source": [
        "##### 01\n",
        "mealy = FST(init[0], init[1], init[2], init[3], init[4], init[5])\n",
        "# Visualise FST\n",
        "display(Markdown(mealy.toMdTable()))\n",
        "graphviz.Source(mealy.toDot())"
      ],
      "execution_count": null,
      "outputs": []
    },
    {
      "cell_type": "code",
      "metadata": {
        "id": "000000000006"
      },
      "source": [
        "moore = mealy.asMoore()\n",
        "# Visualise FST\n",
        "display(Markdown(moore.toMdTable()))\n",
        "graphviz.Source(moore.toDot())"
      ],
      "execution_count": null,
      "outputs": []
    }
  ]
}